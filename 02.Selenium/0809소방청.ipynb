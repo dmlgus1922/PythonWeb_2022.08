{
  "cells": [
    {
      "cell_type": "code",
      "execution_count": 1,
      "metadata": {
        "id": "brjJKGt0Vy_Z"
      },
      "outputs": [],
      "source": [
        "!apt-get update > /dev/null 2>&1\n",
        "!pip install selenium > /dev/null 2>&1\n",
        "!apt install chromium-chromedriver > /dev/null 2>&1"
      ]
    },
    {
      "cell_type": "markdown",
      "metadata": {
        "id": "nUlCmHw4WUIs"
      },
      "source": [
        "# 소방청 - 광주지역 검색"
      ]
    },
    {
      "cell_type": "code",
      "execution_count": 3,
      "metadata": {
        "id": "26fd5S9TX7GN"
      },
      "outputs": [],
      "source": [
        "import time\n",
        "from selenium import webdriver\n",
        "from selenium.webdriver.common.keys import Keys\n",
        "from selenium.webdriver.common.by import By\n",
        "import pandas as pd\n",
        "from bs4 import BeautifulSoup"
      ]
    },
    {
      "cell_type": "code",
      "execution_count": 4,
      "metadata": {
        "id": "RAkB7E4fWoWT"
      },
      "outputs": [],
      "source": [
        "import warnings\n",
        "warnings.filterwarnings('ignore')"
      ]
    },
    {
      "cell_type": "code",
      "execution_count": 50,
      "metadata": {
        "id": "hBzVtAH-YvRF"
      },
      "outputs": [],
      "source": [
        "options = webdriver.ChromeOptions()\n",
        "options.add_argument('--headless') # 화면없이 실행\n",
        "options.add_argument('--no-sandbox')\n",
        "options.add_argument('--single-process')\n",
        "options.add_argument('--disable-dev-shm-usage')\n",
        "driver = webdriver.Chrome('chromedriver', options=options)"
      ]
    },
    {
      "cell_type": "code",
      "execution_count": 23,
      "metadata": {
        "id": "-2xPbL0dYd_U"
      },
      "outputs": [],
      "source": [
        "url = 'https://www.nfa.go.kr/nfa/introduce/status/firestationidfo/?searchDistance=10&searchMode=distance&myX=35.1493479&myY=126.9218479&searchKeyword='\n",
        "driver.get(url)"
      ]
    },
    {
      "cell_type": "code",
      "execution_count": 24,
      "metadata": {
        "id": "e6QJtCfxZXih"
      },
      "outputs": [],
      "source": [
        "# 입력창에 광주를 입력하고 검색버튼을 누르는 동작\n",
        "driver.find_element(By.ID, 'searchKeyword').send_keys('광주')\n",
        "driver.find_element(By.ID, 'fsSearchBtn').click()"
      ]
    },
    {
      "cell_type": "markdown",
      "metadata": {
        "id": "hXCSfaelbjmm"
      },
      "source": [
        "# 이동 후에는 BeautifulSoup 이용"
      ]
    },
    {
      "cell_type": "code",
      "execution_count": 25,
      "metadata": {
        "colab": {
          "base_uri": "https://localhost:8080/"
        },
        "id": "VPgy3BWLbs7d",
        "outputId": "c614073e-8861-4ce5-a9a6-6f56e48ad578"
      },
      "outputs": [
        {
          "data": {
            "text/plain": [
              "10"
            ]
          },
          "execution_count": 25,
          "metadata": {},
          "output_type": "execute_result"
        }
      ],
      "source": [
        "soup = BeautifulSoup(driver.page_source, 'html.parser')\n",
        "lis = soup.select('.stations-list > li')\n",
        "len(lis)"
      ]
    },
    {
      "cell_type": "code",
      "execution_count": 26,
      "metadata": {
        "colab": {
          "base_uri": "https://localhost:8080/",
          "height": 36
        },
        "id": "JaFz_IOqcThu",
        "outputId": "8bdc4625-0add-4c1d-ead9-5a7dfcb01103"
      },
      "outputs": [
        {
          "data": {
            "application/vnd.google.colaboratory.intrinsic+json": {
              "type": "string"
            },
            "text/plain": [
              "'광산소방서_광주-평동-119 안전센터'"
            ]
          },
          "execution_count": 26,
          "metadata": {},
          "output_type": "execute_result"
        }
      ],
      "source": [
        "li = lis[0]\n",
        "name = li.select_one('.title').get_text().strip()\n",
        "name"
      ]
    },
    {
      "cell_type": "code",
      "execution_count": 27,
      "metadata": {
        "colab": {
          "base_uri": "https://localhost:8080/",
          "height": 36
        },
        "id": "9OmutOs9d5p2",
        "outputId": "6897e2eb-7777-43a5-b2a3-54fbe24ce812"
      },
      "outputs": [
        {
          "data": {
            "application/vnd.google.colaboratory.intrinsic+json": {
              "type": "string"
            },
            "text/plain": [
              "'광주광역시 광산구 월전동 1251'"
            ]
          },
          "execution_count": 27,
          "metadata": {},
          "output_type": "execute_result"
        }
      ],
      "source": [
        "address = li.find('address').string.strip()\n",
        "address"
      ]
    },
    {
      "cell_type": "code",
      "execution_count": 28,
      "metadata": {
        "colab": {
          "base_uri": "https://localhost:8080/",
          "height": 36
        },
        "id": "Orw9p5b5eFEm",
        "outputId": "c42e2e30-8cef-4af6-e843-223bbc632ef0"
      },
      "outputs": [
        {
          "data": {
            "application/vnd.google.colaboratory.intrinsic+json": {
              "type": "string"
            },
            "text/plain": [
              "'전화공사중'"
            ]
          },
          "execution_count": 28,
          "metadata": {},
          "output_type": "execute_result"
        }
      ],
      "source": [
        "tel = li.select_one('.tel').get_text().strip()\n",
        "tel"
      ]
    },
    {
      "cell_type": "code",
      "execution_count": 29,
      "metadata": {
        "id": "DHwbHM7peMl-"
      },
      "outputs": [],
      "source": [
        "lines = []\n",
        "for li in lis:\n",
        "    name = li.select_one('.title').get_text().strip()\n",
        "    address = li.find('address').string.strip()\n",
        "    tel = li.select_one('.tel').get_text().strip()\n",
        "    lines.append([name, address, tel])"
      ]
    },
    {
      "cell_type": "markdown",
      "metadata": {
        "id": "XKauQ6_ZeeKG"
      },
      "source": [
        "# 다음 페이지로 이동"
      ]
    },
    {
      "cell_type": "code",
      "execution_count": null,
      "metadata": {
        "id": "35MViOlnefoc"
      },
      "outputs": [],
      "source": [
        "# //*[@id=\"listForm\"]/div/section/ul/li[1]/div/div/ul/li[4]/a\n",
        "# 2페이지로 넘어가는 xpath"
      ]
    },
    {
      "cell_type": "code",
      "execution_count": 15,
      "metadata": {
        "id": "rM5Vj322fAd-"
      },
      "outputs": [],
      "source": [
        "driver.find_element(By.XPATH, '//*[@id=\"listForm\"]/div/section/ul/li[1]/div/div/ul/li[4]/a').click()"
      ]
    },
    {
      "cell_type": "code",
      "execution_count": 16,
      "metadata": {
        "colab": {
          "base_uri": "https://localhost:8080/"
        },
        "id": "Bt1c6S9afSLe",
        "outputId": "2b3133b2-acf6-4f55-b695-f9348fed927d"
      },
      "outputs": [
        {
          "data": {
            "text/plain": [
              "10"
            ]
          },
          "execution_count": 16,
          "metadata": {},
          "output_type": "execute_result"
        }
      ],
      "source": [
        "soup = BeautifulSoup(driver.page_source, 'html.parser')\n",
        "lis = soup.select('.stations-list > li')\n",
        "len(lis)"
      ]
    },
    {
      "cell_type": "code",
      "execution_count": 17,
      "metadata": {
        "id": "_5YKLr5mfcXg"
      },
      "outputs": [],
      "source": [
        "for li in lis:\n",
        "    name = li.select_one('.title').get_text().strip()\n",
        "    address = li.find('address').string.strip()\n",
        "    tel = li.select_one('.tel').get_text().strip()\n",
        "    lines.append([name, address, tel])"
      ]
    },
    {
      "cell_type": "code",
      "execution_count": 18,
      "metadata": {
        "id": "SpYf3fJPfgVP"
      },
      "outputs": [],
      "source": [
        "# 다음 페이지로 이동\n",
        "driver.find_element(By.CSS_SELECTOR, '.next_page').click()"
      ]
    },
    {
      "cell_type": "code",
      "execution_count": 19,
      "metadata": {
        "colab": {
          "base_uri": "https://localhost:8080/"
        },
        "id": "bDFuve9BgB-0",
        "outputId": "d91a2d71-a7e2-4ec2-caff-9fa8bf4eed67"
      },
      "outputs": [
        {
          "data": {
            "text/plain": [
              "10"
            ]
          },
          "execution_count": 19,
          "metadata": {},
          "output_type": "execute_result"
        }
      ],
      "source": [
        "soup = BeautifulSoup(driver.page_source, 'html.parser')\n",
        "lis = soup.select('.stations-list > li')\n",
        "len(lis)"
      ]
    },
    {
      "cell_type": "code",
      "execution_count": null,
      "metadata": {
        "id": "HV7t7Q8HgD79"
      },
      "outputs": [],
      "source": [
        "for li in lis:\n",
        "    name = li.select_one('.title').get_text().strip()\n",
        "    address = li.find('address').string.strip()\n",
        "    tel = li.select_one('.tel').get_text().strip()\n",
        "    lines.append([name, address, tel])"
      ]
    },
    {
      "cell_type": "markdown",
      "metadata": {
        "id": "7ikEXhK7gd3m"
      },
      "source": [
        "### 전체"
      ]
    },
    {
      "cell_type": "code",
      "execution_count": 53,
      "metadata": {
        "id": "NzdTFfEIgffW"
      },
      "outputs": [],
      "source": [
        "# 검색결과 건수 획득\n",
        "count = soup.select('.stations-local-after > p > strong')[1].get_text()\n",
        "count = int(count.replace('건', '').strip())"
      ]
    },
    {
      "cell_type": "code",
      "execution_count": 54,
      "metadata": {
        "colab": {
          "base_uri": "https://localhost:8080/"
        },
        "id": "YOjw-vKSjuWH",
        "outputId": "17b9583d-ec42-44a2-c052-49a3bc01a5cc"
      },
      "outputs": [
        {
          "data": {
            "text/plain": [
              "3"
            ]
          },
          "execution_count": 54,
          "metadata": {},
          "output_type": "execute_result"
        }
      ],
      "source": [
        "import math\n",
        "count = math.ceil(count / 10)\n",
        "count"
      ]
    },
    {
      "cell_type": "code",
      "execution_count": 55,
      "metadata": {
        "id": "tT-7oYAKkLan"
      },
      "outputs": [],
      "source": [
        "driver.get(url)\n",
        "time.sleep(2)\n",
        "driver.find_element(By.ID, 'searchKeyword').send_keys('광주광역시')\n",
        "driver.find_element(By.ID, 'fsSearchBtn').click()"
      ]
    },
    {
      "cell_type": "code",
      "execution_count": 56,
      "metadata": {
        "id": "KXpqulT1j0WH"
      },
      "outputs": [],
      "source": [
        "lines = []\n",
        "for i in range(count):\n",
        "\n",
        "    if i != 0 and i % 2 == 0:\n",
        "        driver.find_element(By.CSS_SELECTOR, '.next_page').click()\n",
        "    elif i != 0 and i % 2 == 1:\n",
        "        driver.find_element(By.XPATH, '//*[@id=\"listForm\"]/div/section/ul/li[1]/div/div/ul/li[4]/a').click()\n",
        "    time.sleep(2)\n",
        "\n",
        "    soup = BeautifulSoup(driver.page_source, 'html.parser')\n",
        "    lis = soup.select('.stations-list > li')\n",
        "\n",
        "    for li in lis:\n",
        "        name = li.select_one('.title').get_text().strip()\n",
        "        address = li.find('address').string.strip()\n",
        "        tel = li.select_one('.tel').get_text().strip()\n",
        "        lines.append([name, address, tel])"
      ]
    },
    {
      "cell_type": "code",
      "execution_count": 57,
      "metadata": {
        "colab": {
          "base_uri": "https://localhost:8080/"
        },
        "id": "XfHQkOVWlTSX",
        "outputId": "fed9c578-1bf9-4430-f26e-5ffdf5cf3fdf"
      },
      "outputs": [
        {
          "data": {
            "text/plain": [
              "29"
            ]
          },
          "execution_count": 57,
          "metadata": {},
          "output_type": "execute_result"
        }
      ],
      "source": [
        "len(lines)"
      ]
    },
    {
      "cell_type": "code",
      "execution_count": 58,
      "metadata": {
        "id": "wYcxt7lilZy4"
      },
      "outputs": [],
      "source": [
        "driver.close()"
      ]
    },
    {
      "cell_type": "code",
      "execution_count": 59,
      "metadata": {
        "colab": {
          "base_uri": "https://localhost:8080/",
          "height": 958
        },
        "id": "X6BHBuBOlbNv",
        "outputId": "5676bfcf-919f-40f8-c58b-2818f352db05"
      },
      "outputs": [
        {
          "data": {
            "text/html": [
              "\n",
              "  <div id=\"df-d5ead983-8504-4e2b-b153-d52676aef555\">\n",
              "    <div class=\"colab-df-container\">\n",
              "      <div>\n",
              "<style scoped>\n",
              "    .dataframe tbody tr th:only-of-type {\n",
              "        vertical-align: middle;\n",
              "    }\n",
              "\n",
              "    .dataframe tbody tr th {\n",
              "        vertical-align: top;\n",
              "    }\n",
              "\n",
              "    .dataframe thead th {\n",
              "        text-align: right;\n",
              "    }\n",
              "</style>\n",
              "<table border=\"1\" class=\"dataframe\">\n",
              "  <thead>\n",
              "    <tr style=\"text-align: right;\">\n",
              "      <th></th>\n",
              "      <th>관서명</th>\n",
              "      <th>주소</th>\n",
              "      <th>전화번호</th>\n",
              "    </tr>\n",
              "  </thead>\n",
              "  <tbody>\n",
              "    <tr>\n",
              "      <th>0</th>\n",
              "      <td>광산소방서_광주-평동-119 안전센터</td>\n",
              "      <td>광주광역시 광산구 월전동 1251</td>\n",
              "      <td>전화공사중</td>\n",
              "    </tr>\n",
              "    <tr>\n",
              "      <th>1</th>\n",
              "      <td>광산소방서_광주-첨단-119 안전센터</td>\n",
              "      <td>광주광역시 광산구 임방울대로825번길 16(쌍암동)</td>\n",
              "      <td>062-606-4883</td>\n",
              "    </tr>\n",
              "    <tr>\n",
              "      <th>2</th>\n",
              "      <td>광산소방서_광주-신가-119 안전센터</td>\n",
              "      <td>광주광역시 광산구 수등로 236(신가동)</td>\n",
              "      <td>062-606-4863</td>\n",
              "    </tr>\n",
              "    <tr>\n",
              "      <th>3</th>\n",
              "      <td>광산소방서_광주-비아-119 안전센터</td>\n",
              "      <td>광주광역시 광산구 비아로12번길 10(비아동)</td>\n",
              "      <td>062-606-4843</td>\n",
              "    </tr>\n",
              "    <tr>\n",
              "      <th>4</th>\n",
              "      <td>광산소방서_광주-월곡-119 안전센터</td>\n",
              "      <td>광주광역시 광산구 사암로 276(월곡동)</td>\n",
              "      <td>062-606-4823</td>\n",
              "    </tr>\n",
              "    <tr>\n",
              "      <th>5</th>\n",
              "      <td>광산소방서_광주-송정-119 안전센터</td>\n",
              "      <td>광주광역시 광산구 상무대로 93-1(도산동)</td>\n",
              "      <td>062-606-4803</td>\n",
              "    </tr>\n",
              "    <tr>\n",
              "      <th>6</th>\n",
              "      <td>광산소방서_광주-하남-119 안전센터</td>\n",
              "      <td>광주광역시 광산구 하남산단1번로 13(하남동)</td>\n",
              "      <td>062-606-4903</td>\n",
              "    </tr>\n",
              "    <tr>\n",
              "      <th>7</th>\n",
              "      <td>북부소방서_광주-동림-119 안전센터</td>\n",
              "      <td>광주광역시 북구 북문대로 202(동림동)</td>\n",
              "      <td>062-606-4783</td>\n",
              "    </tr>\n",
              "    <tr>\n",
              "      <th>8</th>\n",
              "      <td>북부소방서_광주-두암-119 안전센터</td>\n",
              "      <td>광주광역시 북구 삼정로 5(두암동)</td>\n",
              "      <td>062-606-4763</td>\n",
              "    </tr>\n",
              "    <tr>\n",
              "      <th>9</th>\n",
              "      <td>북부소방서_광주-일곡-119 안전센터</td>\n",
              "      <td>광주광역시 북구 설죽로 529(일곡동)</td>\n",
              "      <td>062-606-4743</td>\n",
              "    </tr>\n",
              "    <tr>\n",
              "      <th>10</th>\n",
              "      <td>북부소방서_광주-우산-119 안전센터</td>\n",
              "      <td>광주광역시 북구 동문대로 127(우산동)</td>\n",
              "      <td>062-606-4723</td>\n",
              "    </tr>\n",
              "    <tr>\n",
              "      <th>11</th>\n",
              "      <td>북부소방서_광주-임동-119 안전센터</td>\n",
              "      <td>광주광역시 북구 서림로 5(임동)</td>\n",
              "      <td>062-606-4703</td>\n",
              "    </tr>\n",
              "    <tr>\n",
              "      <th>12</th>\n",
              "      <td>북부소방서_광주-문흥-119 안전센터</td>\n",
              "      <td>광주광역시 북구 서하로 290(오치동)</td>\n",
              "      <td>062-606-4353</td>\n",
              "    </tr>\n",
              "    <tr>\n",
              "      <th>13</th>\n",
              "      <td>남부소방서_광주-봉선-119 안전센터</td>\n",
              "      <td>광주광역시 남구 오방로 63(방림동)</td>\n",
              "      <td>062-606-4623</td>\n",
              "    </tr>\n",
              "    <tr>\n",
              "      <th>14</th>\n",
              "      <td>남부소방서_광주-월산-119 안전센터</td>\n",
              "      <td>광주광역시 남구 수박등로 1(월산동)</td>\n",
              "      <td>062-606-4603</td>\n",
              "    </tr>\n",
              "    <tr>\n",
              "      <th>15</th>\n",
              "      <td>남부소방서_광주-송하-119 안전센터</td>\n",
              "      <td>광주광역시 남구 송암로58번길 13(송하동)</td>\n",
              "      <td>062-606-4303</td>\n",
              "    </tr>\n",
              "    <tr>\n",
              "      <th>16</th>\n",
              "      <td>서부소방서_광주-풍암-119 안전센터</td>\n",
              "      <td>광주광역시 서구 회재로 907(금호동)</td>\n",
              "      <td>062-606-4564</td>\n",
              "    </tr>\n",
              "    <tr>\n",
              "      <th>17</th>\n",
              "      <td>서부소방서_광주-상무-119 안전센터</td>\n",
              "      <td>광주광역시 서구 치평로 65(치평동)</td>\n",
              "      <td>062-606-4543</td>\n",
              "    </tr>\n",
              "    <tr>\n",
              "      <th>18</th>\n",
              "      <td>서부소방서_광주-금호-119 안전센터</td>\n",
              "      <td>광주광역시 서구 운천로 112(쌍촌동)</td>\n",
              "      <td>062-606-4525</td>\n",
              "    </tr>\n",
              "    <tr>\n",
              "      <th>19</th>\n",
              "      <td>서부소방서_광주-염주-119 안전센터</td>\n",
              "      <td>광주광역시 서구 염화로 77(화정동)</td>\n",
              "      <td>062-606-4507</td>\n",
              "    </tr>\n",
              "    <tr>\n",
              "      <th>20</th>\n",
              "      <td>서부소방서_광주-화정-119 안전센터</td>\n",
              "      <td>광주광역시 서구 화운로 197(화정동)</td>\n",
              "      <td>062-606-4255</td>\n",
              "    </tr>\n",
              "    <tr>\n",
              "      <th>21</th>\n",
              "      <td>동부소방서_광주-학운-119 안전센터</td>\n",
              "      <td>광주광역시 동구 남문로 692(학동)</td>\n",
              "      <td>062-606-4403</td>\n",
              "    </tr>\n",
              "    <tr>\n",
              "      <th>22</th>\n",
              "      <td>동부소방서_광주-지산-119 안전센터</td>\n",
              "      <td>광주광역시 동구 밤실로30번길 16(지산동)</td>\n",
              "      <td>062-606-4423</td>\n",
              "    </tr>\n",
              "    <tr>\n",
              "      <th>23</th>\n",
              "      <td>동부소방서_광주-대인-119 안전센터</td>\n",
              "      <td>광주광역시 동구 제봉로 210(대인동)</td>\n",
              "      <td>062-606-4203</td>\n",
              "    </tr>\n",
              "    <tr>\n",
              "      <th>24</th>\n",
              "      <td>광산소방서</td>\n",
              "      <td>광주광역시 광산구 하남산단1번로 13(하남동)</td>\n",
              "      <td>062-613-8813</td>\n",
              "    </tr>\n",
              "    <tr>\n",
              "      <th>25</th>\n",
              "      <td>남부소방서</td>\n",
              "      <td>광주광역시 남구 송암로58번길 13(송하동)</td>\n",
              "      <td>062-613-8613</td>\n",
              "    </tr>\n",
              "    <tr>\n",
              "      <th>26</th>\n",
              "      <td>동부소방서</td>\n",
              "      <td>광주광역시 동구 제봉로 210(대인동)</td>\n",
              "      <td>062-613-8413</td>\n",
              "    </tr>\n",
              "    <tr>\n",
              "      <th>27</th>\n",
              "      <td>북부소방서</td>\n",
              "      <td>광주광역시 북구 서하로 290(오치동)</td>\n",
              "      <td>062-613-8713</td>\n",
              "    </tr>\n",
              "    <tr>\n",
              "      <th>28</th>\n",
              "      <td>서부소방서</td>\n",
              "      <td>광주광역시 서구 화운로 197(화정동)</td>\n",
              "      <td>062-613-8513</td>\n",
              "    </tr>\n",
              "  </tbody>\n",
              "</table>\n",
              "</div>\n",
              "      <button class=\"colab-df-convert\" onclick=\"convertToInteractive('df-d5ead983-8504-4e2b-b153-d52676aef555')\"\n",
              "              title=\"Convert this dataframe to an interactive table.\"\n",
              "              style=\"display:none;\">\n",
              "        \n",
              "  <svg xmlns=\"http://www.w3.org/2000/svg\" height=\"24px\"viewBox=\"0 0 24 24\"\n",
              "       width=\"24px\">\n",
              "    <path d=\"M0 0h24v24H0V0z\" fill=\"none\"/>\n",
              "    <path d=\"M18.56 5.44l.94 2.06.94-2.06 2.06-.94-2.06-.94-.94-2.06-.94 2.06-2.06.94zm-11 1L8.5 8.5l.94-2.06 2.06-.94-2.06-.94L8.5 2.5l-.94 2.06-2.06.94zm10 10l.94 2.06.94-2.06 2.06-.94-2.06-.94-.94-2.06-.94 2.06-2.06.94z\"/><path d=\"M17.41 7.96l-1.37-1.37c-.4-.4-.92-.59-1.43-.59-.52 0-1.04.2-1.43.59L10.3 9.45l-7.72 7.72c-.78.78-.78 2.05 0 2.83L4 21.41c.39.39.9.59 1.41.59.51 0 1.02-.2 1.41-.59l7.78-7.78 2.81-2.81c.8-.78.8-2.07 0-2.86zM5.41 20L4 18.59l7.72-7.72 1.47 1.35L5.41 20z\"/>\n",
              "  </svg>\n",
              "      </button>\n",
              "      \n",
              "  <style>\n",
              "    .colab-df-container {\n",
              "      display:flex;\n",
              "      flex-wrap:wrap;\n",
              "      gap: 12px;\n",
              "    }\n",
              "\n",
              "    .colab-df-convert {\n",
              "      background-color: #E8F0FE;\n",
              "      border: none;\n",
              "      border-radius: 50%;\n",
              "      cursor: pointer;\n",
              "      display: none;\n",
              "      fill: #1967D2;\n",
              "      height: 32px;\n",
              "      padding: 0 0 0 0;\n",
              "      width: 32px;\n",
              "    }\n",
              "\n",
              "    .colab-df-convert:hover {\n",
              "      background-color: #E2EBFA;\n",
              "      box-shadow: 0px 1px 2px rgba(60, 64, 67, 0.3), 0px 1px 3px 1px rgba(60, 64, 67, 0.15);\n",
              "      fill: #174EA6;\n",
              "    }\n",
              "\n",
              "    [theme=dark] .colab-df-convert {\n",
              "      background-color: #3B4455;\n",
              "      fill: #D2E3FC;\n",
              "    }\n",
              "\n",
              "    [theme=dark] .colab-df-convert:hover {\n",
              "      background-color: #434B5C;\n",
              "      box-shadow: 0px 1px 3px 1px rgba(0, 0, 0, 0.15);\n",
              "      filter: drop-shadow(0px 1px 2px rgba(0, 0, 0, 0.3));\n",
              "      fill: #FFFFFF;\n",
              "    }\n",
              "  </style>\n",
              "\n",
              "      <script>\n",
              "        const buttonEl =\n",
              "          document.querySelector('#df-d5ead983-8504-4e2b-b153-d52676aef555 button.colab-df-convert');\n",
              "        buttonEl.style.display =\n",
              "          google.colab.kernel.accessAllowed ? 'block' : 'none';\n",
              "\n",
              "        async function convertToInteractive(key) {\n",
              "          const element = document.querySelector('#df-d5ead983-8504-4e2b-b153-d52676aef555');\n",
              "          const dataTable =\n",
              "            await google.colab.kernel.invokeFunction('convertToInteractive',\n",
              "                                                     [key], {});\n",
              "          if (!dataTable) return;\n",
              "\n",
              "          const docLinkHtml = 'Like what you see? Visit the ' +\n",
              "            '<a target=\"_blank\" href=https://colab.research.google.com/notebooks/data_table.ipynb>data table notebook</a>'\n",
              "            + ' to learn more about interactive tables.';\n",
              "          element.innerHTML = '';\n",
              "          dataTable['output_type'] = 'display_data';\n",
              "          await google.colab.output.renderOutput(dataTable, element);\n",
              "          const docLink = document.createElement('div');\n",
              "          docLink.innerHTML = docLinkHtml;\n",
              "          element.appendChild(docLink);\n",
              "        }\n",
              "      </script>\n",
              "    </div>\n",
              "  </div>\n",
              "  "
            ],
            "text/plain": [
              "                     관서명                            주소          전화번호\n",
              "0   광산소방서_광주-평동-119 안전센터            광주광역시 광산구 월전동 1251         전화공사중\n",
              "1   광산소방서_광주-첨단-119 안전센터  광주광역시 광산구 임방울대로825번길 16(쌍암동)  062-606-4883\n",
              "2   광산소방서_광주-신가-119 안전센터        광주광역시 광산구 수등로 236(신가동)  062-606-4863\n",
              "3   광산소방서_광주-비아-119 안전센터     광주광역시 광산구 비아로12번길 10(비아동)  062-606-4843\n",
              "4   광산소방서_광주-월곡-119 안전센터        광주광역시 광산구 사암로 276(월곡동)  062-606-4823\n",
              "5   광산소방서_광주-송정-119 안전센터      광주광역시 광산구 상무대로 93-1(도산동)  062-606-4803\n",
              "6   광산소방서_광주-하남-119 안전센터     광주광역시 광산구 하남산단1번로 13(하남동)  062-606-4903\n",
              "7   북부소방서_광주-동림-119 안전센터        광주광역시 북구 북문대로 202(동림동)  062-606-4783\n",
              "8   북부소방서_광주-두암-119 안전센터           광주광역시 북구 삼정로 5(두암동)  062-606-4763\n",
              "9   북부소방서_광주-일곡-119 안전센터         광주광역시 북구 설죽로 529(일곡동)  062-606-4743\n",
              "10  북부소방서_광주-우산-119 안전센터        광주광역시 북구 동문대로 127(우산동)  062-606-4723\n",
              "11  북부소방서_광주-임동-119 안전센터            광주광역시 북구 서림로 5(임동)  062-606-4703\n",
              "12  북부소방서_광주-문흥-119 안전센터         광주광역시 북구 서하로 290(오치동)  062-606-4353\n",
              "13  남부소방서_광주-봉선-119 안전센터          광주광역시 남구 오방로 63(방림동)  062-606-4623\n",
              "14  남부소방서_광주-월산-119 안전센터          광주광역시 남구 수박등로 1(월산동)  062-606-4603\n",
              "15  남부소방서_광주-송하-119 안전센터      광주광역시 남구 송암로58번길 13(송하동)  062-606-4303\n",
              "16  서부소방서_광주-풍암-119 안전센터         광주광역시 서구 회재로 907(금호동)  062-606-4564\n",
              "17  서부소방서_광주-상무-119 안전센터          광주광역시 서구 치평로 65(치평동)  062-606-4543\n",
              "18  서부소방서_광주-금호-119 안전센터         광주광역시 서구 운천로 112(쌍촌동)  062-606-4525\n",
              "19  서부소방서_광주-염주-119 안전센터          광주광역시 서구 염화로 77(화정동)  062-606-4507\n",
              "20  서부소방서_광주-화정-119 안전센터         광주광역시 서구 화운로 197(화정동)  062-606-4255\n",
              "21  동부소방서_광주-학운-119 안전센터          광주광역시 동구 남문로 692(학동)  062-606-4403\n",
              "22  동부소방서_광주-지산-119 안전센터      광주광역시 동구 밤실로30번길 16(지산동)  062-606-4423\n",
              "23  동부소방서_광주-대인-119 안전센터         광주광역시 동구 제봉로 210(대인동)  062-606-4203\n",
              "24                 광산소방서     광주광역시 광산구 하남산단1번로 13(하남동)  062-613-8813\n",
              "25                 남부소방서      광주광역시 남구 송암로58번길 13(송하동)  062-613-8613\n",
              "26                 동부소방서         광주광역시 동구 제봉로 210(대인동)  062-613-8413\n",
              "27                 북부소방서         광주광역시 북구 서하로 290(오치동)  062-613-8713\n",
              "28                 서부소방서         광주광역시 서구 화운로 197(화정동)  062-613-8513"
            ]
          },
          "execution_count": 59,
          "metadata": {},
          "output_type": "execute_result"
        }
      ],
      "source": [
        "df = pd.DataFrame(lines, columns = ['관서명','주소','전화번호'])\n",
        "df"
      ]
    }
  ],
  "metadata": {
    "colab": {
      "collapsed_sections": [],
      "name": "0809소방청.ipynb",
      "provenance": []
    },
    "kernelspec": {
      "display_name": "Python 3.10.5 64-bit (system)",
      "language": "python",
      "name": "python3"
    },
    "language_info": {
      "name": "python",
      "version": "3.10.5"
    },
    "vscode": {
      "interpreter": {
        "hash": "9929fda675d5fea0399aa416ca44bc90cf4479de5a91f863b5c693b488252729"
      }
    }
  },
  "nbformat": 4,
  "nbformat_minor": 0
}
