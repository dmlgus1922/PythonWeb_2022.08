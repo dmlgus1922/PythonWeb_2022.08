{
  "cells": [
    {
      "cell_type": "code",
      "execution_count": 1,
      "metadata": {
        "id": "NmA7lectrgCz"
      },
      "outputs": [],
      "source": [
        "!apt-get update > /dev/null 2>&1\n",
        "!pip install selenium > /dev/null 2>&1\n",
        "!apt install chromium-chromedriver > /dev/null 2>&1"
      ]
    },
    {
      "cell_type": "code",
      "execution_count": 10,
      "metadata": {
        "id": "lhC867zMriBQ"
      },
      "outputs": [],
      "source": [
        "import time\n",
        "from selenium import webdriver\n",
        "from selenium.webdriver.common.keys import Keys\n",
        "from selenium.webdriver.common.by import By\n",
        "import pandas as pd\n",
        "from bs4 import BeautifulSoup"
      ]
    },
    {
      "cell_type": "code",
      "execution_count": 11,
      "metadata": {
        "id": "r9e6E7sPrj9w"
      },
      "outputs": [],
      "source": [
        "options = webdriver.ChromeOptions()\n",
        "options.add_argument('--headless') # 화면없이 실행\n",
        "options.add_argument('--no-sandbox')\n",
        "options.add_argument('--single-process')\n",
        "options.add_argument('--disable-dev-shm-usage')\n",
        "driver = webdriver.Chrome('chromedriver', options=options)"
      ]
    },
    {
      "cell_type": "code",
      "execution_count": 12,
      "metadata": {
        "id": "VXd-dzFNpr4e"
      },
      "outputs": [],
      "source": [
        "url = 'https://search.naver.com/search.naver?where=nexearch&sm=top_hty&fbm=1&ie=utf8&query=%EC%8A%A4%EB%A7%88%ED%8A%B8%ED%8F%B0'\n",
        "# 한글이 이상하게 깨져버린다. (스마트폰 검색 링크를 가져옴)"
      ]
    },
    {
      "cell_type": "code",
      "execution_count": 13,
      "metadata": {
        "colab": {
          "base_uri": "https://localhost:8080/"
        },
        "id": "XG7dHLJjryv4",
        "outputId": "359d0ea9-2b7c-406d-b6dd-3e8796d41779"
      },
      "outputs": [
        {
          "data": {
            "text/plain": [
              "str"
            ]
          },
          "execution_count": 13,
          "metadata": {},
          "output_type": "execute_result"
        }
      ],
      "source": [
        "#url에 한글을 입력하고 싶으면\n",
        "from urllib.parse import quote\n",
        "base_url = 'https://search.naver.com/search.naver?where=nexearch&sm=top_hty&fbm=1&ie=utf8&'\n",
        "query = quote('스마트폰')\n",
        "type(query)"
      ]
    },
    {
      "cell_type": "code",
      "execution_count": 14,
      "metadata": {
        "id": "BSec4XpzsGWc"
      },
      "outputs": [],
      "source": [
        "url = f'{base_url}query={quote(\"스마트폰\")}'\n",
        "driver.get(url)\n",
        "time.sleep(2)"
      ]
    },
    {
      "cell_type": "code",
      "execution_count": 15,
      "metadata": {
        "id": "H07S_YznstDJ"
      },
      "outputs": [],
      "source": [
        "# 네이버에서 스마트폰을 검색한 상태, view 버튼 클릭\n",
        "driver.find_element(By.XPATH, '//*[@id=\"lnb\"]/div[1]/div/ul/li[6]/a').click()\n",
        "time.sleep(2) # 코랩은 차근차근 하나씩 하니까 괜찮을텐데 한꺼번에 실행할 땐 sleep을 해주는 것이 좋다."
      ]
    },
    {
      "cell_type": "code",
      "execution_count": 16,
      "metadata": {
        "id": "5i06TbWLs_HJ"
      },
      "outputs": [],
      "source": [
        "# page down 화살표를 사용해 정보를 더 불러오는 모양새\n",
        "body = driver.find_element(By.TAG_NAME, 'body')\n",
        "for i in range(30):\n",
        "    body.send_keys(Keys.PAGE_DOWN)\n",
        "    time.sleep(2)"
      ]
    },
    {
      "cell_type": "code",
      "execution_count": 17,
      "metadata": {
        "id": "6nDo_83XthvW"
      },
      "outputs": [],
      "source": [
        "# 많은 정보를 담은 페이지의 소스를 BS에 저장하고 브라우저 닫기\n",
        "soup = BeautifulSoup(driver.page_source, 'html.parser')\n",
        "driver.close()"
      ]
    },
    {
      "cell_type": "code",
      "execution_count": 18,
      "metadata": {
        "colab": {
          "base_uri": "https://localhost:8080/"
        },
        "id": "jAykk3A1uPgN",
        "outputId": "18f6fb11-3bda-41cd-b760-9539d7948917"
      },
      "outputs": [
        {
          "data": {
            "text/plain": [
              "99"
            ]
          },
          "execution_count": 18,
          "metadata": {},
          "output_type": "execute_result"
        }
      ],
      "source": [
        "lis = soup.select('li.bx._svp_item')\n",
        "len(lis)"
      ]
    }
  ],
  "metadata": {
    "colab": {
      "collapsed_sections": [],
      "name": "0809네이버검색.ipynb",
      "provenance": []
    },
    "kernelspec": {
      "display_name": "Python 3.10.5 64-bit (system)",
      "language": "python",
      "name": "python3"
    },
    "language_info": {
      "name": "python",
      "version": "3.10.5"
    },
    "vscode": {
      "interpreter": {
        "hash": "9929fda675d5fea0399aa416ca44bc90cf4479de5a91f863b5c693b488252729"
      }
    }
  },
  "nbformat": 4,
  "nbformat_minor": 0
}
