{
  "nbformat": 4,
  "nbformat_minor": 0,
  "metadata": {
    "colab": {
      "name": "0808한빛.ipynb",
      "provenance": [],
      "collapsed_sections": []
    },
    "kernelspec": {
      "name": "python3",
      "display_name": "Python 3"
    },
    "language_info": {
      "name": "python"
    }
  },
  "cells": [
    {
      "cell_type": "markdown",
      "source": [
        "# 한빛아카데미 - 새로 나온 책 10페이지 \n",
        "- https://www.hanbit.co.kr/academy/books/new_book_list.html\n",
        "- 제목, 저자, 출간일, 쪽수, 가격, 역자"
      ],
      "metadata": {
        "id": "L0clVJfRNwdv"
      }
    },
    {
      "cell_type": "code",
      "execution_count": 1,
      "metadata": {
        "id": "_XqI7qrbNQ1g"
      },
      "outputs": [],
      "source": [
        "import requests\n",
        "import pandas as pd\n",
        "from bs4 import BeautifulSoup\n",
        "from tqdm import tqdm"
      ]
    },
    {
      "cell_type": "code",
      "source": [
        "base_url = 'https://www.hanbit.co.kr'\n",
        "sub_url = '/academy/books/new_book_list.html'\n",
        "url = base_url + sub_url + '?page=' + str(1)\n",
        "req = requests.get(url)\n",
        "req.text"
      ],
      "metadata": {
        "colab": {
          "base_uri": "https://localhost:8080/",
          "height": 247
        },
        "id": "N0ElkTzyOkQZ",
        "outputId": "ee1703e6-474f-4e41-cec3-21d24441525c"
      },
      "execution_count": 2,
      "outputs": [
        {
          "output_type": "execute_result",
          "data": {
            "text/plain": [
              "'<!DOCTYPE html>\\r\\n<html lang=\"ko\">\\r\\n<head>\\r\\n<!--[if lte IE 8]>\\r\\n<script>\\r\\n  location.replace(\\'/support/explorer_upgrade.html\\');\\r\\n</script>\\r\\n<![endif]-->\\r\\n<meta charset=\"utf-8\"/>\\r\\n<title>한빛아카데미</title>\\r\\n<link rel=\"shortcut icon\" href=\"https://www.hanbit.co.kr/images/common/hanbit.ico\"> \\r\\n<meta http-equiv=\"X-UA-Compatible\" content=\"IE=Edge\" />\\r\\n<meta property=\"og:type\" content=\"website\"/>\\r\\n<meta property=\"og:title\" content=\"한빛아카데미\"/>\\r\\n<meta property=\"og:description\" content=\"이공계 분야 종합 교재 출판사로, 독자의 신뢰를 최우선 원칙으로 삼고 가르치는 교수님들과 배우는 학생들에게 든든한 조력자가 되도록 노력하고 있습니다.\"/>\\r\\n<meta property=\"og:image\" content=\"https://www.hanbit.co.kr/images/hanbitpubnet_logo.jpg\" />\\r\\n<meta property=\"og:url\" content=\"https://www.hanbit.co.kr/academy/books/new_book_list.html?page=1\"/>\\r\\n<link rel=\"canonical\" href=\"https://www.hanbit.co.kr/academy/books/new_book_list.html?page=1\" />\\r\\n<meta name=\"keywords\" content=\"한빛아카데미,책,전자책,ebook,대학교재,교재출판사,강의교안,교수회원,자격증,정보교과서\" />\\r\\n<meta name=\"description\" content=\"이공계 분야 종합 교재 출판사로, 독자의 신뢰를 최우선 원칙으로 삼고 가르치는 교수님들과 배우는 학생들에게 든든한 조력자가 되도록 노력하고 있습니다.\" />\\r\\n<meta name=\"viewport\" content=\"width=device-width,initial-scale=1.0,minimum-scale=1.0,maximum-scale=1.0\">\\r\\n<meta name=\"viewport\" content=\"width=1260\">\\r\\n<meta name=\"apple-mobile-web-app-capable\" content=\"yes\" />\\r\\n<meta name=\"naver-site-verification\" content=\"01c29ed1852aecca7a48ac0c3e0869627bc512d8\"/>\\r\\n<link rel=\"stylesheet\" href=\"/css/common.css?20210603093421\" />\\r\\n<link href=\"/css/hover.css\" rel=\"stylesheet\" media=\"all\">\\r\\n<link rel=\"stylesheet\" href=\"/js/jquery.raty.css\" />\\r\\n<script type=\"text/javascript\" src=\"/js/jquery-latest.js\"></script>\\r\\n<script type=\"text/javascript\" src=\"/js/jquery-ui.js\"></script>\\r\\n<script type=\"text/javascript\" src=\"/js/jquery.event.drag-1.5.min.js\"></script>\\r\\n<script type=\"text/javascript\" src=\"/js/jquery.touchSlider.js\"></script>\\r\\n<script type=\"text/javascript\" src=\"/js/jquery.raty.js\"></script>\\r\\n<script type=\"text/javascript\" src=\"/js/main.js\"></script>\\r\\n<script type=\"text/javascript\" src=\"/lib/cheditor/cheditor.js\"></script>\\r\\n<script type=\"text/javascript\" src=\"/js/jquery.ui.datepicker-ko.js\"></script>\\r\\n<script type=\"text/javascript\" src=\"/js/engine.js\"></script>\\r\\n<script type=\"text/javascript\" src=\"/js/vue.js\"></script>\\r\\n\\r\\n<!-- Google Analytics -->\\r\\n<script>\\r\\n(function(i,s,o,g,r,a,m){i[\\'GoogleAnalyticsObject\\']=r;i[r]=i[r]||function(){\\r\\n(i[r].q=i[r].q||[]).push(arguments)},i[r].l=1*new Date();a=s.createElement(o),\\r\\nm=s.getElementsByTagName(o)[0];a.async=1;a.src=g;m.parentNode.insertBefore(a,m)\\r\\n})(window,document,\\'script\\',\\'//www.google-analytics.com/analytics.js\\',\\'ga\\');\\r\\nga(\\'create\\', \\'UA-47080738-1\\', \\'hanbit.co.kr\\');\\r\\nga(\\'require\\', \\'linkid\\', \\'linkid.js\\');\\r\\nga(\\'send\\', \\'pageview\\');\\r\\n</script>\\r\\n<!-- Google Analytics -->\\r\\n\\r\\n<!-- Facebook Pixel Code -->\\r\\n<script>\\r\\n  !function(f,b,e,v,n,t,s)\\r\\n  {if(f.fbq)return;n=f.fbq=function(){n.callMethod?\\r\\n  n.callMethod.apply(n,arguments):n.queue.push(arguments)};\\r\\n  if(!f._fbq)f._fbq=n;n.push=n;n.loaded=!0;n.version=\\'2.0\\';\\r\\n  n.queue=[];t=b.createElement(e);t.async=!0;\\r\\n  t.src=v;s=b.getElementsByTagName(e)[0];\\r\\n  s.parentNode.insertBefore(t,s)}(window, document,\\'script\\',\\r\\n  \\'https://connect.facebook.net/en_US/fbevents.js\\');\\r\\n  fbq(\\'init\\', \\'406459623338891\\');\\r\\n  fbq(\\'track\\', \\'PageView\\');\\r\\n</script>\\r\\n<noscript><img height=\"1\" width=\"1\" style=\"display:none\"\\r\\n  src=\"https://www.facebook.com/tr?id=406459623338891&ev=PageView&noscript=1\"\\r\\n/></noscript>\\r\\n<!-- End Facebook Pixel Code -->\\r\\n\\r\\n<!-- Google Tag Manager -->\\r\\n<script>(function(w,d,s,l,i){w[l]=w[l]||[];w[l].push({\\'gtm.start\\':\\r\\nnew Date().getTime(),event:\\'gtm.js\\'});var f=d.getElementsByTagName(s)[0],\\r\\nj=d.createElement(s),dl=l!=\\'dataLayer\\'?\\'&l=\\'+l:\\'\\';j.async=true;j.src=\\r\\n\\'https://www.googletagmanager.com/gtm.js?id=\\'+i+dl;f.parentNode.insertBefore(j,f);\\r\\n})(window,document,\\'script\\',\\'dataLayer\\',\\'GTM-W9D5PM3\\');</script>\\r\\n<!-- End Google Tag Manager -->\\r\\n\\r\\n<!-- Kakao Pixel Code -->\\r\\n<script type=\"text/javascript\" charset=\"UTF-8\" src=\"//t1.daumcdn.net/adfit/static/kp.js\"></script>\\r\\n<script type=\"text/javascript\">\\r\\n  kakaoPixel(\\'3011392806152551233\\').pageView();\\r\\n</script>\\r\\n<!-- //Kakao Pixel Code -->\\r\\n</head>\\r\\n<body>\\r\\n<!-- Google Tag Manager (noscript) -->\\r\\n<noscript><iframe src=\"https://www.googletagmanager.com/ns.html?id=GTM-W9D5PM3\"\\r\\nheight=\"0\" width=\"0\" style=\"display:none;visibility:hidden\"></iframe></noscript>\\r\\n<!-- End Google Tag Manager (noscript) -->\\r\\n<link rel=\"stylesheet\" href=\"/academy/css/layout-academy.css?202204141945\" />\\r\\n<link rel=\"stylesheet\" href=\"/academy/css/layout-books.css\" />\\r\\n<link rel=\"stylesheet\" href=\"/academy/css/layout-community.css\" />\\r\\n<link rel=\"stylesheet\" href=\"/academy/css/layout-network.css\" />\\r\\n<link rel=\"stylesheet\" href=\"/css/layout-member.css\" />\\r\\n\\r\\n<!-- 메뉴 바로가기 -->\\r\\n<div id=\"quick_skip_menu\">\\r\\n  <a href=\"#gnb\" onclick=\"document.getElementById(\\'gnb\\').tabIndex = -1;document.getElementById(\\'gnb\\').focus();return false;\"><span>메뉴 바로가기</span></a>\\r\\n  <a href=\"#top_search\" onclick=\"view_hover(\\'main_search_area\\',\\'\\',\\'show\\'), document.getElementById(\\'top_search\\').tabIndex = -1;document.getElementById(\\'top_search\\').focus();return false;\"><span>검색 및 카테고리 바로가기</span></a>\\r\\n  <a href=\"#main_top_box\" onclick=\"document.getElementById(\\'main_top_box\\').tabIndex = -1;document.getElementById(\\'main_top_box\\').focus();return false;\"><span>프로모션 바로가기</span></a>\\r\\n  <a href=\"#main_book_area\" onclick=\"document.getElementById(\\'main_book_area\\').tabIndex = -1;document.getElementById(\\'main_book_area\\').focus();return false;\"><span>책 바로가기</span></a>\\r\\n  <a href=\"#main_network_area\" onclick=\"document.getElementById(\\'main_network_area\\').tabIndex = -1;document.getElementById(\\'main_network_area\\').focus();return false;\"><span>네트워크 바로가기</span></a>\\r\\n</div>\\r\\n<!-- //메뉴 바로가기 -->\\r\\n\\r\\n<!-- header -->\\r\\n<header>\\r\\n  <!-- top menu -->\\r\\n    <nav>\\r\\n    <div id=\"wrap_nav\">\\r\\n      <ul class=\"top_brand\">\\r\\n        <li><a href=\"https://www.hanbit.co.kr/index.html\" name=\"hanbit_network\"><span>HOME</span></a></li>\\r\\n        <li><a href=\"https://www.hanbit.co.kr/media/\">한빛미디어</a></li>\\r\\n        <li><a href=\"https://www.hanbit.co.kr/academy/\">한빛아카데미</a></li>\\r\\n        <li><a href=\"https://www.hanbit.co.kr/biz/\">한빛비즈</a></li>\\r\\n        <li><a href=\"https://www.hanbit.co.kr/life/\">한빛라이프</a></li>\\r\\n        <li><a href=\"https://www.hanbit.co.kr/edu/\">한빛에듀</a></li>\\r\\n        <li><a href=\"https://www.hanbit.co.kr/realtime/\">리얼타임</a></li>\\r\\n        <li><a href=\"https://www.hanbit.co.kr/textbook/\" target=\"_blank\">한빛정보교과서</a></li>\\r\\n        <li><a href=\"https://www.hanbit.co.kr/rent/\" target=\"_blank\">한빛대관서비스</a></li>\\r\\n      </ul>\\r\\n      \\r\\n      <ul class=\"top_menu\">\\r\\n                <li><a href=\"https://www.hanbit.co.kr/member/login.html\" class=\"login\">로그인</a></li>\\r\\n        <li><a href=\"https://www.hanbit.co.kr/member/member_agree.html\" class=\"join\">회원가입</a></li>\\r\\n        <li><a href=\"https://www.hanbit.co.kr/myhanbit/myhanbit.html\" class=\"myhanbit\">마이한빛</a></li>\\r\\n        <li><a href=\"https://www.hanbit.co.kr/myhanbit/cart.html\" class=\"cart\">장바구니</a></li>\\r\\n                    <li class=\"top_menu_store\"><a href=\"https://www.hanbit.co.kr/publisher/foreignrights.html?lang=e\" target=\"_blank\">ENGLISH</a></li>\\r\\n      </ul>\\r\\n    </div>\\r\\n  </nav>\\r\\n  <!-- //top menu -->\\r\\n  \\r\\n  <div id=\"wrap_gnb\">\\r\\n    <!-- logo -->\\r\\n    <h1><a href=\"https://www.hanbit.co.kr/academy/\">한빛아카데미</a></h1>\\r\\n    <!-- //logo -->\\r\\n    \\r\\n    <!-- Menu -->\\r\\n    <div id=\"gnb\" name=\"gnb\">\\r\\n      <ul>\\r\\n        <li><a href=\"https://www.hanbit.co.kr/academy/info/info.html\" class=\"\">브랜드 소개</a></li>\\r\\n        <li><a href=\"https://www.hanbit.co.kr/academy/books/new_book_list.html\" class=\"curr\">책</a></li>\\r\\n        <li><a href=\"https://www.hanbit.co.kr/academy/channel/list.html\" class=\"\">채널.H</a></li>\\r\\n        <li><a href=\"https://www.hanbit.co.kr/academy/professor/index.html\" class=\"\">교수전용공간</a></li>\\r\\n        <!--\\r\\n        <li><a href=\"https://www.hanbit.co.kr/academy/electric/electric_book_list.html\" class=\"\">전기수험서</a></li>\\r\\n        -->\\r\\n        <!-- <li><a href=\"https://www.hanbit.co.kr/academy/community/index.html\" class=\"\">커뮤니티</a></li>-->\\r\\n        <li><a href=\"https://www.hanbit.co.kr/support/help_info.html\" target=\"_blank\" class=\"\">고객지원</a></li>\\r\\n        <li id=\"top_search\" class=\"search\"><a href=\"javascript:;\" onClick=\"view_hover(\\'main_search_area\\',\\'\\',\\'show\\'); $(\\'#keyword_str\\').focus();\"><span>SERACH</span></a></li>\\r\\n      </ul>\\r\\n    </div>\\r\\n    <!-- //Menu -->\\r\\n    \\r\\n    <!-- lnb -->\\r\\n    <div class=\"lnb\" style=\"top:92px;\">\\r\\n      <div class=\"lnb_area\">\\r\\n                <!-- 책 -->\\r\\n        <ul class=\"lnb_depth1_category\">\\r\\n          <li onmouseover=\"view_hover(\\'category_books\\',\\'\\',\\'show\\')\" onMouseOut=\"view_hover(\\'category_books\\',\\'\\',\\'hide\\')\"><a href=\"#\" onFocus=\"view_hover(\\'category_books\\',\\'\\',\\'show\\')\" class=\"gnb_category\">카테고리\\x1c</a>\\r\\n            <ul id=\"category_books\">\\r\\n            \\r\\n                              <li><a href=\"https://www.hanbit.co.kr/academy/books/category_list.html?cate_cd=004003\">수학/통계</a></li>\\r\\n                              <li><a href=\"https://www.hanbit.co.kr/academy/books/category_list.html?cate_cd=004010\">과학/공학일반</a></li>\\r\\n                              <li><a href=\"https://www.hanbit.co.kr/academy/books/category_list.html?cate_cd=004007\">컴퓨터공학</a></li>\\r\\n                              <li><a href=\"https://www.hanbit.co.kr/academy/books/category_list.html?cate_cd=004004\">프로그래밍</a></li>\\r\\n                              <li><a href=\"https://www.hanbit.co.kr/academy/books/category_list.html?cate_cd=004011\">데이터과학/인공지능</a></li>\\r\\n                              <li><a href=\"https://www.hanbit.co.kr/academy/books/category_list.html?cate_cd=004008\">전기/전자</a></li>\\r\\n                              <li><a href=\"https://www.hanbit.co.kr/academy/books/category_list.html?cate_cd=004009\">기계/자동차</a></li>\\r\\n                              <li><a href=\"https://www.hanbit.co.kr/academy/books/category_list.html?cate_cd=004006\">OA/그래픽</a></li>\\r\\n                              <li><a href=\"https://www.hanbit.co.kr/academy/books/category_list.html?cate_cd=004012\">경영/경제</a></li>\\r\\n                              <li><a href=\"https://www.hanbit.co.kr/academy/books/category_list.html?cate_cd=004005\">논문</a></li>\\r\\n                            <!--li onmouseover=\"view_hover(\\'category_books01\\',\\'\\',\\'show\\')\" onMouseOut=\"view_hover(\\'category_books01\\',\\'\\',\\'hide\\')\"><a href=\"#\" onFocus=\"view_hover(\\'category_books01\\',\\'\\',\\'show\\')\">1차 카테고리</a>\\r\\n                <ul id=\"category_books01\">\\r\\n                  <li><a href=\"#\">2차 카테고리 1</a></li>\\r\\n                  <li><a href=\"#\">2차 카테고리 2</a></li>\\r\\n                </ul>\\r\\n              </li>\\r\\n              <li onmouseover=\"view_hover(\\'category_books02\\',\\'\\',\\'show\\')\" onMouseOut=\"view_hover(\\'category_books02\\',\\'\\',\\'hide\\')\"><a href=\"#\" onFocus=\"view_hover(\\'category_books02\\',\\'\\',\\'show\\')\">1차 카테고리</a>\\r\\n                <ul id=\"category_books02\">\\r\\n                  <li><a href=\"#\">2차 카테고리 1</a></li>\\r\\n                  <li><a href=\"#\">2차 카테고리 2</a></li>\\r\\n                </ul>\\r\\n              </li-->\\r\\n              \\r\\n              <!-- 항상 노출 메뉴 -->\\r\\n              <!--\\r\\n              <li class=\"gnb_category_series\"><a href=\"https://www.hanbit.co.kr/academy/books/series_list.html\">시리즈</a></li>\\r\\n              <li class=\"gnb_category_full\"><a href=\"https://www.hanbit.co.kr/academy/books/full_book_list.html\">전체도서목록</a></li>\\r\\n              -->\\r\\n            </ul>\\r\\n          </li>\\r\\n        </ul>\\r\\n        <ul class=\"lnb_depth1\">\\r\\n          <li><a href=\"https://www.hanbit.co.kr/academy/books/new_book_list.html\">새로나온책</a></li><span>l</span>\\r\\n          <li><a href=\"https://www.hanbit.co.kr/academy/books/bestseller_list.html\">베스트셀러</a></li><span>l</span>\\r\\n          <li><a href=\"https://www.hanbit.co.kr/academy/books/series_list.html\">시리즈</a></li><span>l</span>\\r\\n          <li><a href=\"https://www.hanbit.co.kr/academy/books/full_book_list.html\">전체도서목록</a></li>\\r\\n          <!--\\r\\n          <li><a href=\"https://www.hanbit.co.kr/academy/books/forthcoming_list.html\">출간예정도서</a></li>\\r\\n          -->\\r\\n          <!-- add by coffin, 2016-04-25\\r\\n          <li><a href=\"https://www.hanbit.co.kr/academy/books/road_map.html\">학습로드맵</a></li>\\r\\n          -->\\r\\n        </ul>\\r\\n        <!-- //책 -->\\r\\n        \\r\\n              </div>\\r\\n    </div>\\r\\n    <!-- //lnb -->\\r\\n    \\r\\n  </div>\\r\\n  \\r\\n</header>\\r\\n<!-- //header -->\\r\\n\\r\\n<!-- 메인 검색 및 카테고리 영역 -->\\r\\n<div id=\"main_search_area\" class=\"fixed\" style=\"display:none;\">\\n  <div class=\"msa_wrap\">\\n\\n    <!-- 검색 -->\\n    <div class=\"msa_srch_wrap\">\\n      <form onsubmit=\"return false;\">\\n      <fieldset class=\"msa_srch_field\">\\n        <legend>한빛출판네트워크 검색</legend>\\n        <input title=\"검색어\" autocomplete=\"off\" class=\"srch_keyword\" accesskey=\"s\" type=\"text\" name=\"keyword_str\" id=\"keyword_str\" v-model=\"keyword\" @input=\"typeKeyword\">\\n        <input type=\"submit\" class=\"srch_btn\" style=\"cursor:pointer;\" @click=\"clickSearch\">\\n      </fieldset>\\n      </form>\\n    </div>\\n    <!-- //검색 -->\\n\\n    <!-- ① 인기검색어 -->\\n    <div class=\"msa_srch_polular\" v-if=\"showPopularKeyword === true\">\\n      <h2 class=\"tit\">인기 검색어 <span>(최근 1개월간)</span></h2>\\n        <div class=\"popula_box\">\\n          <ul class=\"left\">\\n            <li v-for=\"keyword in leftPopularKeywordList\">\\n              <a :class=\"keyword.bold\" @click=\"clickPopularKeyword(keyword)\">\\n                  {{ keyword.number }} {{ keyword.bookName }}\\n              </a>\\n            </li>\\n          </ul>\\n          <ul class=\"right\">\\n            <li v-for=\"keyword in rightPopularKeywordList\">\\n              <a :class=\"keyword.bold\" @click=\"clickPopularKeyword(keyword)\">\\n                  {{ keyword.number }} {{ keyword.bookName }}\\n              </a>\\n            </li>\\n          </ul>\\n        </div>\\n    </div>\\n    <!-- ① 인기검색어 -->\\n\\n    <!-- ② 검색결과/검색서제스쳔 -->\\n    <div class=\"msa_srch_suggestion\" v-if=\"showPopularKeyword === false\">\\n      <div class=\"sugg_left\" v-if=\"bookList.length !== 0\">\\n        <h3 class=\"tit\">BOOK</h3>\\n        <ul class=\"books_list\">\\n          <li v-for=\"book in bookList\" @mouseover=\"mouseOverBook(book.id)\"><a @click=\"clickBookKeyword(book)\"><p v-html=\"book.name\"></p></a></li>\\n        </ul>\\n      </div>\\n\\n      <div class=\"sugg_right\">\\n        <div class=\"sugg_book\" v-if=\"bookList.length !== 0\">\\n          <table class=\"sugg_book_detail\">\\n            <tr>\\n              <td class=\"cover\">\\n                <a @click=\"clickBookKeyword(bookSummary)\">\\n                  <img :src=\"bookSummary.imgUrl\" class=\"b_cover\">\\n                </a>\\n              </td>\\n              <td class=\"draft\">\\n                <a @click=\"clickBookKeyword(bookSummary)\" class=\"b_title\"><strong v-html=\"bookSummary.originName\"></strong></a>\\n                <p class=\"b_int\">\\n                {{ bookSummary.author }} 지음<br />\\n                {{ bookSummary.publishingCompany }} | {{ bookSummary.date }}\\n                </p>\\n                <p class=\"b_type\">\\n                <span>{{ bookSummary.bookType }}</span>\\n                </p>\\n              </td>\\n            </tr>\\n          </table>\\n        </div>\\n\\n        <!--\\n        <div class=\"sugg_edu\" v-if=\"educationList.length !== 0\">\\n          <h3 class=\"tit\">EDUCATION</h3>\\n          <ul class=\"edu_list\">\\n            <li v-for=\"education in educationList\">&#149; <a @click=\"clickEducationKeyword(education)\"><span v-html=\"education.title\"></span></a></li>\\n          </ul>\\n        </div>\\n        -->\\n        \\n        <div class=\"sugg_cont\" v-if=\"contentList.length !== 0\">\\n          <h3 class=\"tit\">CONTENTS</h3>\\n          <ul class=\"cont_list\">\\n            <li v-for=\"content in contentList\">&#149; <a @click=\"clickContentKeyword(content)\"><span v-html=\"content.title\"></span></a></li>\\n          </ul>\\n        </div>\\n      </div>\\n    </div>\\n    <!-- //② 검색결과/검색서제스쳔 -->\\n\\n  <!-- 닫기 -->\\n  <div class=\"msa_wrap_close\">\\n    <a href=\"javascript:;\" onclick=\"view_hover(\\'main_search_area\\',\\'\\',\\'hide\\')\">닫기</a>\\n  </div>\\n  <!-- //닫기 -->\\n\\n  </div>\\n</div>\\n\\n<script type=\"text/javascript\">\\n    \"use strict\";\\n\\n    var common_top_search_vue = new Vue({\\n        el: \\'#main_search_area\\',\\n        data: {\\n            //검색엔진 URL\\n            searchProxyURL: \"https://search.hanbit.co.kr\",\\n            //인기 검색어 show 여부\\n            showPopularKeyword: true,\\n            //사용자 검색 키워드\\n            keyword: \\'\\',\\n            //인기 검색어 리스트\\n            popularKeywordList: [],\\n            // 인기 검색어 리스트 (왼쪽)\\n            leftPopularKeywordList: [],\\n            // 인기 검색어 리스트 (오른쪽)\\n            rightPopularKeywordList: [],\\n            // 자동완성에서의 책 리스트\\n            bookList: [],\\n            // 자동완성에서의 책 정보\\n            bookSummary: {\\n                \\'imgUrl\\': \\'\\',\\n                \\'link\\': \\'\\',\\n                \\'name\\': \\'\\',\\n                \\'author\\': \\'\\',\\n                \\'publishingCompany\\': \\'\\',\\n                \\'date\\': \\'\\',\\n                \\'bookType\\': \\'\\'\\n            },\\n            //에듀케이션 리스트\\n            educationList: [],\\n            //컨텐츠 리스트\\n            contentList: []\\n        },\\n        created: function created() {\\n            // 인기 검색어 조회\\n            this.getPopularKeyword();\\n        },\\n        methods: {\\n            /**\\n             * 사용자가 검색 키워드를 입력할때 발생하는 이벤트\\n             */\\n            typeKeyword: function typeKeyword() {\\n                var self = this;\\n                var keyword = $(\"#keyword_str\").val();\\n\\n                if (keyword.length !== 0) {\\n                    //자동완성어\\n                    this.findAutocompleteResult(keyword);\\n                } else {\\n                    //인기검색어\\n                    self.showPopularKeyword = true;\\n                }\\n            },\\n\\n            /**\\n             * 인기검색어 조회\\n             */\\n            getPopularKeyword: function getPopularKeyword() {\\n                var self = this;\\n                this.popularKeywordList = [];\\n                $.get(this.searchProxyURL + \"/querylog/popularKeyword\").done(function (data) {\\n                    if (data != null) {\\n                        self.drawPopularKeyword(data);\\n                    }\\n                });\\n            },\\n\\n            /**\\n             * 인기 검색어 그리기\\n             */\\n            drawPopularKeyword: function drawPopularKeyword(popularBooks) {\\n                var self = this;\\n                popularBooks.forEach(function (item) {\\n                    var popularBook = {\\n                        bookName: item.keyword\\n                    };\\n                    self.popularKeywordList.push(popularBook);\\n                });\\n                var number = 0;\\n\\n                for (var _iterator = this.popularKeywordList, _isArray = Array.isArray(_iterator), _i = 0, _iterator = _isArray ? _iterator : _iterator[Symbol.iterator]();;) {\\n                    var _ref;\\n\\n                    if (_isArray) {\\n                        if (_i >= _iterator.length) break;\\n                        _ref = _iterator[_i++];\\n                    } else {\\n                        _i = _iterator.next();\\n                        if (_i.done) break;\\n                        _ref = _i.value;\\n                    }\\n\\n                    var keyword = _ref;\\n                    number = number + 1;\\n                    keyword.number = number.toString().length < 2 ? \"0\" + number : number;\\n\\n                    if (number > 5) {\\n                        keyword.direction = \"right\";\\n                        self.rightPopularKeywordList.push(keyword);\\n                    } else {\\n                        keyword.direction = \"left\";\\n\\n                        if (number < 4) {\\n                            keyword.bold = \\'active\\';\\n                        }\\n\\n                        self.leftPopularKeywordList.push(keyword);\\n                    }\\n                }\\n            },\\n\\n            /**\\n             * 자동완성 검색 결과\\n             */\\n            findAutocompleteResult: function findAutocompleteResult(keyword) {\\n                var self = this;\\n                var param = {\\n                    q: keyword,\\n                    types: \"education,book,contents\",\\n                    fq: keyword\\n                };\\n                $.post(this.searchProxyURL + \"/autocomplete/search\", param).done(function (data) {\\n                    if (data != null) {\\n                        var bookResult = data.booksResults;\\n                        self.changeBookList(keyword, bookResult);\\n                        var contentResult = data.contentsResults;\\n                        self.changeContentList(keyword, contentResult);\\n                        var educationResult = data.educationResults;\\n                        self.changeEducationList(keyword, educationResult);\\n                    }\\n                });\\n                this.showPopularKeyword = false;\\n            },\\n\\n            /**\\n             * 자동완성어에서 BOOK 부분에서 마우스를 올렸을 시에 발생하는 이벤트\\n             * @param bookId\\n             */\\n            mouseOverBook: function mouseOverBook(bookId) {\\n                var currentBook = this.bookList.filter(function (book) {\\n                    return book.id === bookId;\\n                });\\n                this.changeBookSummary(currentBook[0]);\\n            },\\n\\n            /**\\n             * 책 소개 변경\\n             * @param book\\n             */\\n            changeBookSummary: function changeBookSummary(book) {\\n                if (book !== {}) {\\n                    this.bookSummary.name = book.name;\\n                    this.bookSummary.originName = book.originName;\\n                    this.bookSummary.author = book.author;\\n                    this.bookSummary.bookType = book.bookType;\\n                    this.bookSummary.imgUrl = book.imgUrl;\\n                    this.bookSummary.link = book.link;\\n                    this.bookSummary.publishingCompany = book.publishingCompany;\\n                    this.bookSummary.date = book.date;\\n                    this.bookSummary.bookType = book.bookType;\\n                }\\n            },\\n\\n            /**\\n             * BOOK 리스트 변경\\n             */\\n            changeBookList: function changeBookList(keyword, bookResultList) {\\n                var self = this;\\n                self.bookList = [];\\n                var index = 0;\\n\\n                if (bookResultList != null) {\\n                    for (var _iterator2 = bookResultList, _isArray2 = Array.isArray(_iterator2), _i2 = 0, _iterator2 = _isArray2 ? _iterator2 : _iterator2[Symbol.iterator]();;) {\\n                        var _ref2;\\n\\n                        if (_isArray2) {\\n                            if (_i2 >= _iterator2.length) break;\\n                            _ref2 = _iterator2[_i2++];\\n                        } else {\\n                            _i2 = _iterator2.next();\\n                            if (_i2.done) break;\\n                            _ref2 = _i2.value;\\n                        }\\n\\n                        var result = _ref2;\\n\\n                        if (index < 10) {\\n                            var book = {};\\n                            book.id = result.code;\\n                            book.originName = result.title;\\n                            book.name = JSON.parse(JSON.stringify(self.replaceHighlightWord(result.title, keyword)));\\n                            book.link = result.code;\\n                            book.imgUrl = self.getBookImageURL(result.code);\\n                            book.author = result.author;\\n                            book.publishingCompany = result.brand;\\n                            book.date = result.pubDate;\\n                            book.bookType = result.bookType;\\n                            self.bookList.push(book); //책 미리보기 변경\\n\\n                            self.changeBookSummary(self.bookList[0]);\\n                        }\\n                    }\\n                } else {\\n                    self.initBookSummary();\\n                }\\n            },\\n\\n            /**\\n             * 책 이미지 주소 가져오기\\n             */\\n            getBookImageURL: function getBookImageURL(bookCode) {\\n                var imgURL;\\n\\n                if (bookCode.substr(0, 1) === \"E\") {\\n                    imgURL = \\'/data/ebook/\\' + bookCode + \\'_m.jpg\\';\\n                } else {\\n                    imgURL = \\'/data/books/\\' + bookCode + \"_m.jpg\";\\n                }\\n\\n                return imgURL;\\n            },\\n\\n            /**\\n             * 검색 결과가 없을 경우 책 미리보기 초기화\\n             */\\n            initBookSummary: function initBookSummary() {\\n                this.bookSummary = {\\n                    \\'imgUrl\\': \\'\\',\\n                    \\'link\\': \\'\\',\\n                    \\'name\\': \\'\\',\\n                    \\'author\\': \\'\\',\\n                    \\'publishingCompany\\': \\'\\',\\n                    \\'date\\': \\'\\',\\n                    \\'bookType\\': \\'\\'\\n                };\\n            },\\n\\n            /**\\n             * education 리스트 변경\\n             */\\n            changeEducationList: function changeEducationList(keyword, educationResultList) {\\n                var self = this;\\n                self.educationList = [];\\n                var index = 0;\\n\\n                if (educationResultList != null) {\\n                    for (var _iterator3 = educationResultList, _isArray3 = Array.isArray(_iterator3), _i3 = 0, _iterator3 = _isArray3 ? _iterator3 : _iterator3[Symbol.iterator]();;) {\\n                        var _ref3;\\n\\n                        if (_isArray3) {\\n                            if (_i3 >= _iterator3.length) break;\\n                            _ref3 = _iterator3[_i3++];\\n                        } else {\\n                            _i3 = _iterator3.next();\\n                            if (_i3.done) break;\\n                            _ref3 = _i3.value;\\n                        }\\n\\n                        var result = _ref3;\\n\\n                        if (index < 3) {\\n                            var content = {};\\n                            content.title = JSON.parse(JSON.stringify(self.replaceHighlightWord(result.title, keyword)));\\n                            content.link = result.code;\\n                            self.educationList.push(content);\\n                            index = index + 1;\\n                        }\\n                    }\\n                }\\n            },\\n\\n            /**\\n             * contents 리스트 변경\\n             */\\n            changeContentList: function changeContentList(keyword, contentResult) {\\n                var self = this;\\n                self.contentList = [];\\n                var index = 0;\\n\\n                if (contentResult != null) {\\n                    for (var _iterator4 = contentResult, _isArray4 = Array.isArray(_iterator4), _i4 = 0, _iterator4 = _isArray4 ? _iterator4 : _iterator4[Symbol.iterator]();;) {\\n                        var _ref4;\\n\\n                        if (_isArray4) {\\n                            if (_i4 >= _iterator4.length) break;\\n                            _ref4 = _iterator4[_i4++];\\n                        } else {\\n                            _i4 = _iterator4.next();\\n                            if (_i4.done) break;\\n                            _ref4 = _i4.value;\\n                        }\\n\\n                        var result = _ref4;\\n\\n                        if (index < 7) {\\n                            var content = {};\\n                            content.title = JSON.parse(JSON.stringify(self.replaceHighlightWord(result.title, keyword)));\\n                            content.link = result.code;\\n                            self.contentList.push(content);\\n                            index = index + 1;\\n                        }\\n                    }\\n                }\\n            },\\n\\n            /**\\n             * 하이라이트 표시\\n             */\\n            replaceHighlightWord: function replaceHighlightWord(str, highlightKeyword) {\\n                var replaceHighlightKeyword = highlightKeyword.replace(/[^a-z0-9가-힣_ ]/gi, \\'\\');\\n                var regEx = new RegExp(replaceHighlightKeyword, \"gi\");\\n                str = str.replace(regEx, function (a) {\\n                    return \\'<span class=\"keysel\">\\' + a + \\'</span>\\';\\n                });\\n                return str;\\n            },\\n\\n            /**\\n             * 검색 버튼 클릭 시\\n             * @param e\\n             */\\n            clickSearch: function clickSearch(e) {\\n                if (!this.keyword || this.keyword.length === 0) {\\n                    alert(\"검색어를 입력하세요\");\\n                    $(\"#keyword_str\").focus();\\n                    e.preventDefault();\\n                } else {\\n                    location.href = \"/search/search_list.html?keyword=\" + this.keyword;\\n                }\\n            },\\n\\n            /**\\n             * 인기 검색어 클릭시\\n             * @param book\\n             */\\n            clickPopularKeyword: function clickPopularKeyword(book) {\\n                var searchKeyword = book.bookName;\\n                location.href = \"/search/search_list.html?keyword=\" + searchKeyword;\\n            },\\n\\n            /**\\n             * 책 검색어 클릭시 책 상세로 이동\\n             * @param book\\n             */\\n            clickBookKeyword: function clickBookKeyword(book) {\\n                location.href = \"/store/books/look.php?p_code=\" + book.link;\\n            },\\n\\n            /**\\n             * 교육 클릭시 교육 상세로 이동\\n             * @param education\\n             */\\n            clickEducationKeyword: function clickEducationKeyword(education) {\\n                location.href = \"/store/education/edu_view.html?p_code=\" + education.link;\\n            },\\n\\n            /**\\n             * 컨텐츠 클릭시 컨텐츠 상세로 이동\\n             * @param contents\\n             */\\n            clickContentKeyword: function clickContentKeyword(content) {\\n                location.href = \"/channel/category/category_view.html?cms_code=\" + content.link;\\n            }\\n        }\\n    });\\n</script>\\n<!-- //메인 검색 및 카테고리 영역 -->\\r\\n\\r\\n\\r\\n<!-- Contents -->\\r\\n<div id=\"container\">\\r\\n  <div class=\"docu_title\">\\r\\n    <h2>새로나온책</h2>\\r\\n  </div>\\r\\n  \\r\\n  <!-- 새로나온 책 wrap -->\\r\\n  <div class=\"new_book_list_wrap\">\\r\\n    \\r\\n    <!-- 검색창 -->\\r\\n    <form name=\"frm\" id=\"frm\" action=\"./new_book_list.html\">\\r\\n    <fieldset class=\"hbs_new_srch\">\\r\\n      <legend>새로나온 책 검색영역</legend>\\r\\n      <input title=\"검색어\" class=\"hbs_new_srch_keyword\" accesskey=\"s\" type=\"text\" name=\"keyWord\" id=\"keyWord\" value=\"\">\\r\\n      <input type=\"submit\" alt=\"\" class=\"hbs_new_srch_btn\" onclick=\"document.frm.submit();\">\\r\\n    </fieldset>\\r\\n    <!-- //검색창 -->\\r\\n    \\r\\n    <!-- 항목선택 -->\\r\\n    <div class=\"list_srch\">\\r\\n      <label>\\r\\n        <select id=\"searchKey\" name=\"searchKey\" class=\"i_select2\">  \\r\\n          <option value=\"all\">전체</option>  \\r\\n          <option value=\"p_title\" >도서명</option>  \\r\\n          <option value=\"p_author\" >저자/역자</option>\\r\\n        </select>  \\r\\n      </label>\\r\\n    </div>\\r\\n    </form>\\r\\n    <!-- //항목선택 -->\\r\\n    \\r\\n    <!-- 책 리스트 -->\\r\\n    <div class=\"sub_book_list_area\">\\r\\n            \\r\\n        <li class=\"sub_book_list\">\\r\\n          <div class=\"view_box\">\\r\\n            <span class=\"view_box_block\">\\r\\n              <span class=\"img_hidden_a\">\\r\\n                <span class=\"pop_quick_menu\">                \\r\\n                    <a href=\"/academy/books/book_view.html?p_code=B8672666879\"><img src=\"https://www.hanbit.co.kr/images/common/icon_view_detail.png\" alt=\"상세보기\" /></a>\\r\\n                                    </span>\\r\\n                <span class=\"price\">34,000<span>원</span></span>\\r\\n                <span class=\"pop_quick_bg\" onClick=\"location=\\'/academy/books/book_view.html?p_code=B8672666879\\'\"></span>\\r\\n              </span>\\r\\n              <!-- 예약도서인 경우 -->\\r\\n                            <!-- ebook이 도서인 경우 -->\\r\\n              <img src=\"/data/books/B8672666879_m.jpg\" alt=\"\" class=\"thumb\" />\\r\\n            </span>\\r\\n            <div class=\"info\">\\r\\n              <p class=\"book_tit\"><a href=\"/academy/books/book_view.html?p_code=B8672666879\">STEM CookBook, 문제 해결력을 키우는 기계설계</a></p>\\r\\n              <p class=\"book_writer\">이상범 </p>\\r\\n            </div>\\r\\n          </div>\\r\\n        </li>\\r\\n        <!--\\r\\n        <li class=\"sub_book_list\">\\r\\n          <div class=\"view_box\">\\r\\n            <span class=\"view_box_block\">\\r\\n              <span class=\"img_hidden_a\">\\r\\n                <span class=\"pop_quick_menu\">\\r\\n                  <a href=\"book_view.html\"><img src=\"/images/common/icon_view_detail.png\" alt=\"상세보기\" /></a><a href=\"javascript:;\" onClick=\"add_cart_layer_open(\\'layer_add_cart\\');return false;\"><img src=\"/images/common/icon_add_cart.png\" alt=\"장바구니 담기\" /></a>\\r\\n                </span>\\r\\n                <span class=\"price\">\\\\12,500</span>\\r\\n                <span class=\"star_rate\"></span>\\r\\n                <span style=\"display:none;\">3.5</span>\\r\\n              </span>\\r\\n              <img src=\"https://www.hanbit.co.kr/images/temp/book_life1.jpg\" alt=\"\" class=\"thumb\" />\\r\\n            </span>\\r\\n            <div class=\"info\">\\r\\n              <p class=\"book_tit\"><a href=\"book_view.html\">만들면서 배우는 Git+GitHub 입문</a></p>\\r\\n              <p class=\"book_writer\">마리코 나카무라</p>\\r\\n            </div>\\r\\n          </div>\\r\\n        </li>  \\r\\n        -->\\r\\n            \\r\\n        <li class=\"sub_book_list\">\\r\\n          <div class=\"view_box\">\\r\\n            <span class=\"view_box_block\">\\r\\n              <span class=\"img_hidden_a\">\\r\\n                <span class=\"pop_quick_menu\">                \\r\\n                    <a href=\"/academy/books/book_view.html?p_code=B2640361618\"><img src=\"https://www.hanbit.co.kr/images/common/icon_view_detail.png\" alt=\"상세보기\" /></a>\\r\\n                                    </span>\\r\\n                <span class=\"price\">36,000<span>원</span></span>\\r\\n                <span class=\"pop_quick_bg\" onClick=\"location=\\'/academy/books/book_view.html?p_code=B2640361618\\'\"></span>\\r\\n              </span>\\r\\n              <!-- 예약도서인 경우 -->\\r\\n                            <!-- ebook이 도서인 경우 -->\\r\\n              <img src=\"/data/books/B2640361618_m.jpg\" alt=\"\" class=\"thumb\" />\\r\\n            </span>\\r\\n            <div class=\"info\">\\r\\n              <p class=\"book_tit\"><a href=\"/academy/books/book_view.html?p_code=B2640361618\">경영분석&#40;6판&#41;</a></p>\\r\\n              <p class=\"book_writer\">장영광 , 송치승 </p>\\r\\n            </div>\\r\\n          </div>\\r\\n        </li>\\r\\n        <!--\\r\\n        <li class=\"sub_book_list\">\\r\\n          <div class=\"view_box\">\\r\\n            <span class=\"view_box_block\">\\r\\n              <span class=\"img_hidden_a\">\\r\\n                <span class=\"pop_quick_menu\">\\r\\n                  <a href=\"book_view.html\"><img src=\"/images/common/icon_view_detail.png\" alt=\"상세보기\" /></a><a href=\"javascript:;\" onClick=\"add_cart_layer_open(\\'layer_add_cart\\');return false;\"><img src=\"/images/common/icon_add_cart.png\" alt=\"장바구니 담기\" /></a>\\r\\n                </span>\\r\\n                <span class=\"price\">\\\\12,500</span>\\r\\n                <span class=\"star_rate\"></span>\\r\\n                <span style=\"display:none;\">3.5</span>\\r\\n              </span>\\r\\n              <img src=\"https://www.hanbit.co.kr/images/temp/book_life1.jpg\" alt=\"\" class=\"thumb\" />\\r\\n            </span>\\r\\n            <div class=\"info\">\\r\\n              <p class=\"book_tit\"><a href=\"book_view.html\">만들면서 배우는 Git+GitHub 입문</a></p>\\r\\n              <p class=\"book_writer\">마리코 나카무라</p>\\r\\n            </div>\\r\\n          </div>\\r\\n        </li>  \\r\\n        -->\\r\\n            \\r\\n        <li class=\"sub_book_list\">\\r\\n          <div class=\"view_box\">\\r\\n            <span class=\"view_box_block\">\\r\\n              <span class=\"img_hidden_a\">\\r\\n                <span class=\"pop_quick_menu\">                \\r\\n                    <a href=\"/academy/books/book_view.html?p_code=B2923812848\"><img src=\"https://www.hanbit.co.kr/images/common/icon_view_detail.png\" alt=\"상세보기\" /></a>\\r\\n                                    </span>\\r\\n                <span class=\"price\">32,000<span>원</span></span>\\r\\n                <span class=\"pop_quick_bg\" onClick=\"location=\\'/academy/books/book_view.html?p_code=B2923812848\\'\"></span>\\r\\n              </span>\\r\\n              <!-- 예약도서인 경우 -->\\r\\n                            <!-- ebook이 도서인 경우 -->\\r\\n              <img src=\"/data/books/B2923812848_m.jpg\" alt=\"\" class=\"thumb\" />\\r\\n            </span>\\r\\n            <div class=\"info\">\\r\\n              <p class=\"book_tit\"><a href=\"/academy/books/book_view.html?p_code=B2923812848\">IT CookBook, 기초부터 시작하는 PLC : OMRON NX</a></p>\\r\\n              <p class=\"book_writer\">정완보 , 이진호 </p>\\r\\n            </div>\\r\\n          </div>\\r\\n        </li>\\r\\n        <!--\\r\\n        <li class=\"sub_book_list\">\\r\\n          <div class=\"view_box\">\\r\\n            <span class=\"view_box_block\">\\r\\n              <span class=\"img_hidden_a\">\\r\\n                <span class=\"pop_quick_menu\">\\r\\n                  <a href=\"book_view.html\"><img src=\"/images/common/icon_view_detail.png\" alt=\"상세보기\" /></a><a href=\"javascript:;\" onClick=\"add_cart_layer_open(\\'layer_add_cart\\');return false;\"><img src=\"/images/common/icon_add_cart.png\" alt=\"장바구니 담기\" /></a>\\r\\n                </span>\\r\\n                <span class=\"price\">\\\\12,500</span>\\r\\n                <span class=\"star_rate\"></span>\\r\\n                <span style=\"display:none;\">3.5</span>\\r\\n              </span>\\r\\n              <img src=\"https://www.hanbit.co.kr/images/temp/book_life1.jpg\" alt=\"\" class=\"thumb\" />\\r\\n            </span>\\r\\n            <div class=\"info\">\\r\\n              <p class=\"book_tit\"><a href=\"book_view.html\">만들면서 배우는 Git+GitHub 입문</a></p>\\r\\n              <p class=\"book_writer\">마리코 나카무라</p>\\r\\n            </div>\\r\\n          </div>\\r\\n        </li>  \\r\\n        -->\\r\\n            \\r\\n        <li class=\"sub_book_list\">\\r\\n          <div class=\"view_box\">\\r\\n            <span class=\"view_box_block\">\\r\\n              <span class=\"img_hidden_a\">\\r\\n                <span class=\"pop_quick_menu\">                \\r\\n                    <a href=\"/academy/books/book_view.html?p_code=B5156679966\"><img src=\"https://www.hanbit.co.kr/images/common/icon_view_detail.png\" alt=\"상세보기\" /></a>\\r\\n                                    </span>\\r\\n                <span class=\"price\">30,000<span>원</span></span>\\r\\n                <span class=\"pop_quick_bg\" onClick=\"location=\\'/academy/books/book_view.html?p_code=B5156679966\\'\"></span>\\r\\n              </span>\\r\\n              <!-- 예약도서인 경우 -->\\r\\n                            <!-- ebook이 도서인 경우 -->\\r\\n              <img src=\"/data/books/B5156679966_m.jpg\" alt=\"\" class=\"thumb\" />\\r\\n            </span>\\r\\n            <div class=\"info\">\\r\\n              <p class=\"book_tit\"><a href=\"/academy/books/book_view.html?p_code=B5156679966\">IT CookBook, 원리로 이해하는 전력전자공학&#40;2판&#41;</a></p>\\r\\n              <p class=\"book_writer\">원충연 , 김영렬 , 이택기 , 류홍제 , 故정용채 </p>\\r\\n            </div>\\r\\n          </div>\\r\\n        </li>\\r\\n        <!--\\r\\n        <li class=\"sub_book_list\">\\r\\n          <div class=\"view_box\">\\r\\n            <span class=\"view_box_block\">\\r\\n              <span class=\"img_hidden_a\">\\r\\n                <span class=\"pop_quick_menu\">\\r\\n                  <a href=\"book_view.html\"><img src=\"/images/common/icon_view_detail.png\" alt=\"상세보기\" /></a><a href=\"javascript:;\" onClick=\"add_cart_layer_open(\\'layer_add_cart\\');return false;\"><img src=\"/images/common/icon_add_cart.png\" alt=\"장바구니 담기\" /></a>\\r\\n                </span>\\r\\n                <span class=\"price\">\\\\12,500</span>\\r\\n                <span class=\"star_rate\"></span>\\r\\n                <span style=\"display:none;\">3.5</span>\\r\\n              </span>\\r\\n              <img src=\"https://www.hanbit.co.kr/images/temp/book_life1.jpg\" alt=\"\" class=\"thumb\" />\\r\\n            </span>\\r\\n            <div class=\"info\">\\r\\n              <p class=\"book_tit\"><a href=\"book_view.html\">만들면서 배우는 Git+GitHub 입문</a></p>\\r\\n              <p class=\"book_writer\">마리코 나카무라</p>\\r\\n            </div>\\r\\n          </div>\\r\\n        </li>  \\r\\n        -->\\r\\n            \\r\\n        <li class=\"sub_book_list\">\\r\\n          <div class=\"view_box\">\\r\\n            <span class=\"view_box_block\">\\r\\n              <span class=\"img_hidden_a\">\\r\\n                <span class=\"pop_quick_menu\">                \\r\\n                    <a href=\"/academy/books/book_view.html?p_code=B9063949643\"><img src=\"https://www.hanbit.co.kr/images/common/icon_view_detail.png\" alt=\"상세보기\" /></a>\\r\\n                                    </span>\\r\\n                <span class=\"price\">32,000<span>원</span></span>\\r\\n                <span class=\"pop_quick_bg\" onClick=\"location=\\'/academy/books/book_view.html?p_code=B9063949643\\'\"></span>\\r\\n              </span>\\r\\n              <!-- 예약도서인 경우 -->\\r\\n                            <!-- ebook이 도서인 경우 -->\\r\\n              <img src=\"/data/books/B9063949643_m.jpg\" alt=\"\" class=\"thumb\" />\\r\\n            </span>\\r\\n            <div class=\"info\">\\r\\n              <p class=\"book_tit\"><a href=\"/academy/books/book_view.html?p_code=B9063949643\">IT CookBook, TCP/IP 소켓 프로그래밍&#40;2판&#41;</a></p>\\r\\n              <p class=\"book_writer\">김선우 </p>\\r\\n            </div>\\r\\n          </div>\\r\\n        </li>\\r\\n        <!--\\r\\n        <li class=\"sub_book_list\">\\r\\n          <div class=\"view_box\">\\r\\n            <span class=\"view_box_block\">\\r\\n              <span class=\"img_hidden_a\">\\r\\n                <span class=\"pop_quick_menu\">\\r\\n                  <a href=\"book_view.html\"><img src=\"/images/common/icon_view_detail.png\" alt=\"상세보기\" /></a><a href=\"javascript:;\" onClick=\"add_cart_layer_open(\\'layer_add_cart\\');return false;\"><img src=\"/images/common/icon_add_cart.png\" alt=\"장바구니 담기\" /></a>\\r\\n                </span>\\r\\n                <span class=\"price\">\\\\12,500</span>\\r\\n                <span class=\"star_rate\"></span>\\r\\n                <span style=\"display:none;\">3.5</span>\\r\\n              </span>\\r\\n              <img src=\"https://www.hanbit.co.kr/images/temp/book_life1.jpg\" alt=\"\" class=\"thumb\" />\\r\\n            </span>\\r\\n            <div class=\"info\">\\r\\n              <p class=\"book_tit\"><a href=\"book_view.html\">만들면서 배우는 Git+GitHub 입문</a></p>\\r\\n              <p class=\"book_writer\">마리코 나카무라</p>\\r\\n            </div>\\r\\n          </div>\\r\\n        </li>  \\r\\n        -->\\r\\n            \\r\\n        <li class=\"sub_book_list\">\\r\\n          <div class=\"view_box\">\\r\\n            <span class=\"view_box_block\">\\r\\n              <span class=\"img_hidden_a\">\\r\\n                <span class=\"pop_quick_menu\">                \\r\\n                    <a href=\"/academy/books/book_view.html?p_code=B7400451696\"><img src=\"https://www.hanbit.co.kr/images/common/icon_view_detail.png\" alt=\"상세보기\" /></a>\\r\\n                                    </span>\\r\\n                <span class=\"price\">30,000<span>원</span></span>\\r\\n                <span class=\"pop_quick_bg\" onClick=\"location=\\'/academy/books/book_view.html?p_code=B7400451696\\'\"></span>\\r\\n              </span>\\r\\n              <!-- 예약도서인 경우 -->\\r\\n                            <!-- ebook이 도서인 경우 -->\\r\\n              <img src=\"/data/books/B7400451696_m.jpg\" alt=\"\" class=\"thumb\" />\\r\\n            </span>\\r\\n            <div class=\"info\">\\r\\n              <p class=\"book_tit\"><a href=\"/academy/books/book_view.html?p_code=B7400451696\">IT CookBook, 쉽게 배우는 데이터 통신과 컴퓨터 네트워크&#40;3판&#41;</a></p>\\r\\n              <p class=\"book_writer\">박기현 </p>\\r\\n            </div>\\r\\n          </div>\\r\\n        </li>\\r\\n        <!--\\r\\n        <li class=\"sub_book_list\">\\r\\n          <div class=\"view_box\">\\r\\n            <span class=\"view_box_block\">\\r\\n              <span class=\"img_hidden_a\">\\r\\n                <span class=\"pop_quick_menu\">\\r\\n                  <a href=\"book_view.html\"><img src=\"/images/common/icon_view_detail.png\" alt=\"상세보기\" /></a><a href=\"javascript:;\" onClick=\"add_cart_layer_open(\\'layer_add_cart\\');return false;\"><img src=\"/images/common/icon_add_cart.png\" alt=\"장바구니 담기\" /></a>\\r\\n                </span>\\r\\n                <span class=\"price\">\\\\12,500</span>\\r\\n                <span class=\"star_rate\"></span>\\r\\n                <span style=\"display:none;\">3.5</span>\\r\\n              </span>\\r\\n              <img src=\"https://www.hanbit.co.kr/images/temp/book_life1.jpg\" alt=\"\" class=\"thumb\" />\\r\\n            </span>\\r\\n            <div class=\"info\">\\r\\n              <p class=\"book_tit\"><a href=\"book_view.html\">만들면서 배우는 Git+GitHub 입문</a></p>\\r\\n              <p class=\"book_writer\">마리코 나카무라</p>\\r\\n            </div>\\r\\n          </div>\\r\\n        </li>  \\r\\n        -->\\r\\n            \\r\\n        <li class=\"sub_book_list\">\\r\\n          <div class=\"view_box\">\\r\\n            <span class=\"view_box_block\">\\r\\n              <span class=\"img_hidden_a\">\\r\\n                <span class=\"pop_quick_menu\">                \\r\\n                    <a href=\"/academy/books/book_view.html?p_code=B6129400746\"><img src=\"https://www.hanbit.co.kr/images/common/icon_view_detail.png\" alt=\"상세보기\" /></a>\\r\\n                                    </span>\\r\\n                <span class=\"price\">34,000<span>원</span></span>\\r\\n                <span class=\"pop_quick_bg\" onClick=\"location=\\'/academy/books/book_view.html?p_code=B6129400746\\'\"></span>\\r\\n              </span>\\r\\n              <!-- 예약도서인 경우 -->\\r\\n                            <!-- ebook이 도서인 경우 -->\\r\\n              <img src=\"/data/books/B6129400746_m.jpg\" alt=\"\" class=\"thumb\" />\\r\\n            </span>\\r\\n            <div class=\"info\">\\r\\n              <p class=\"book_tit\"><a href=\"/academy/books/book_view.html?p_code=B6129400746\">IT CookBook, 우분투 리눅스&#40;3판&#41;</a></p>\\r\\n              <p class=\"book_writer\">이종원 </p>\\r\\n            </div>\\r\\n          </div>\\r\\n        </li>\\r\\n        <!--\\r\\n        <li class=\"sub_book_list\">\\r\\n          <div class=\"view_box\">\\r\\n            <span class=\"view_box_block\">\\r\\n              <span class=\"img_hidden_a\">\\r\\n                <span class=\"pop_quick_menu\">\\r\\n                  <a href=\"book_view.html\"><img src=\"/images/common/icon_view_detail.png\" alt=\"상세보기\" /></a><a href=\"javascript:;\" onClick=\"add_cart_layer_open(\\'layer_add_cart\\');return false;\"><img src=\"/images/common/icon_add_cart.png\" alt=\"장바구니 담기\" /></a>\\r\\n                </span>\\r\\n                <span class=\"price\">\\\\12,500</span>\\r\\n                <span class=\"star_rate\"></span>\\r\\n                <span style=\"display:none;\">3.5</span>\\r\\n              </span>\\r\\n              <img src=\"https://www.hanbit.co.kr/images/temp/book_life1.jpg\" alt=\"\" class=\"thumb\" />\\r\\n            </span>\\r\\n            <div class=\"info\">\\r\\n              <p class=\"book_tit\"><a href=\"book_view.html\">만들면서 배우는 Git+GitHub 입문</a></p>\\r\\n              <p class=\"book_writer\">마리코 나카무라</p>\\r\\n            </div>\\r\\n          </div>\\r\\n        </li>  \\r\\n        -->\\r\\n            \\r\\n        <li class=\"sub_book_list\">\\r\\n          <div class=\"view_box\">\\r\\n            <span class=\"view_box_block\">\\r\\n              <span class=\"img_hidden_a\">\\r\\n                <span class=\"pop_quick_menu\">                \\r\\n                    <a href=\"/academy/books/book_view.html?p_code=B7738896383\"><img src=\"https://www.hanbit.co.kr/images/common/icon_view_detail.png\" alt=\"상세보기\" /></a>\\r\\n                                    </span>\\r\\n                <span class=\"price\">36,000<span>원</span></span>\\r\\n                <span class=\"pop_quick_bg\" onClick=\"location=\\'/academy/books/book_view.html?p_code=B7738896383\\'\"></span>\\r\\n              </span>\\r\\n              <!-- 예약도서인 경우 -->\\r\\n                            <!-- ebook이 도서인 경우 -->\\r\\n              <img src=\"/data/books/B7738896383_m.jpg\" alt=\"\" class=\"thumb\" />\\r\\n            </span>\\r\\n            <div class=\"info\">\\r\\n              <p class=\"book_tit\"><a href=\"/academy/books/book_view.html?p_code=B7738896383\">거시경제학&#40;3판&#41;</a></p>\\r\\n              <p class=\"book_writer\">주상영 </p>\\r\\n            </div>\\r\\n          </div>\\r\\n        </li>\\r\\n        <!--\\r\\n        <li class=\"sub_book_list\">\\r\\n          <div class=\"view_box\">\\r\\n            <span class=\"view_box_block\">\\r\\n              <span class=\"img_hidden_a\">\\r\\n                <span class=\"pop_quick_menu\">\\r\\n                  <a href=\"book_view.html\"><img src=\"/images/common/icon_view_detail.png\" alt=\"상세보기\" /></a><a href=\"javascript:;\" onClick=\"add_cart_layer_open(\\'layer_add_cart\\');return false;\"><img src=\"/images/common/icon_add_cart.png\" alt=\"장바구니 담기\" /></a>\\r\\n                </span>\\r\\n                <span class=\"price\">\\\\12,500</span>\\r\\n                <span class=\"star_rate\"></span>\\r\\n                <span style=\"display:none;\">3.5</span>\\r\\n              </span>\\r\\n              <img src=\"https://www.hanbit.co.kr/images/temp/book_life1.jpg\" alt=\"\" class=\"thumb\" />\\r\\n            </span>\\r\\n            <div class=\"info\">\\r\\n              <p class=\"book_tit\"><a href=\"book_view.html\">만들면서 배우는 Git+GitHub 입문</a></p>\\r\\n              <p class=\"book_writer\">마리코 나카무라</p>\\r\\n            </div>\\r\\n          </div>\\r\\n        </li>  \\r\\n        -->\\r\\n            \\r\\n        <li class=\"sub_book_list\">\\r\\n          <div class=\"view_box\">\\r\\n            <span class=\"view_box_block\">\\r\\n              <span class=\"img_hidden_a\">\\r\\n                <span class=\"pop_quick_menu\">                \\r\\n                    <a href=\"/academy/books/book_view.html?p_code=B1959656080\"><img src=\"https://www.hanbit.co.kr/images/common/icon_view_detail.png\" alt=\"상세보기\" /></a>\\r\\n                                    </span>\\r\\n                <span class=\"price\">39,000<span>원</span></span>\\r\\n                <span class=\"pop_quick_bg\" onClick=\"location=\\'/academy/books/book_view.html?p_code=B1959656080\\'\"></span>\\r\\n              </span>\\r\\n              <!-- 예약도서인 경우 -->\\r\\n                            <!-- ebook이 도서인 경우 -->\\r\\n              <img src=\"/data/books/B1959656080_m.jpg\" alt=\"\" class=\"thumb\" />\\r\\n            </span>\\r\\n            <div class=\"info\">\\r\\n              <p class=\"book_tit\"><a href=\"/academy/books/book_view.html?p_code=B1959656080\">실용적 접근 방식의 경영학원론&#40;10판&#41;</a></p>\\r\\n              <p class=\"book_writer\">Angelo Kinicki , Denise Breaux Soignet </p>\\r\\n            </div>\\r\\n          </div>\\r\\n        </li>\\r\\n        <!--\\r\\n        <li class=\"sub_book_list\">\\r\\n          <div class=\"view_box\">\\r\\n            <span class=\"view_box_block\">\\r\\n              <span class=\"img_hidden_a\">\\r\\n                <span class=\"pop_quick_menu\">\\r\\n                  <a href=\"book_view.html\"><img src=\"/images/common/icon_view_detail.png\" alt=\"상세보기\" /></a><a href=\"javascript:;\" onClick=\"add_cart_layer_open(\\'layer_add_cart\\');return false;\"><img src=\"/images/common/icon_add_cart.png\" alt=\"장바구니 담기\" /></a>\\r\\n                </span>\\r\\n                <span class=\"price\">\\\\12,500</span>\\r\\n                <span class=\"star_rate\"></span>\\r\\n                <span style=\"display:none;\">3.5</span>\\r\\n              </span>\\r\\n              <img src=\"https://www.hanbit.co.kr/images/temp/book_life1.jpg\" alt=\"\" class=\"thumb\" />\\r\\n            </span>\\r\\n            <div class=\"info\">\\r\\n              <p class=\"book_tit\"><a href=\"book_view.html\">만들면서 배우는 Git+GitHub 입문</a></p>\\r\\n              <p class=\"book_writer\">마리코 나카무라</p>\\r\\n            </div>\\r\\n          </div>\\r\\n        </li>  \\r\\n        -->\\r\\n            \\r\\n        <li class=\"sub_book_list\">\\r\\n          <div class=\"view_box\">\\r\\n            <span class=\"view_box_block\">\\r\\n              <span class=\"img_hidden_a\">\\r\\n                <span class=\"pop_quick_menu\">                \\r\\n                    <a href=\"/academy/books/book_view.html?p_code=B4947312430\"><img src=\"https://www.hanbit.co.kr/images/common/icon_view_detail.png\" alt=\"상세보기\" /></a>\\r\\n                                    </span>\\r\\n                <span class=\"price\">23,000<span>원</span></span>\\r\\n                <span class=\"pop_quick_bg\" onClick=\"location=\\'/academy/books/book_view.html?p_code=B4947312430\\'\"></span>\\r\\n              </span>\\r\\n              <!-- 예약도서인 경우 -->\\r\\n                            <!-- ebook이 도서인 경우 -->\\r\\n              <img src=\"/data/books/B4947312430_m.jpg\" alt=\"\" class=\"thumb\" />\\r\\n            </span>\\r\\n            <div class=\"info\">\\r\\n              <p class=\"book_tit\"><a href=\"/academy/books/book_view.html?p_code=B4947312430\">IT CookBook, C로 시작하는 컴퓨터 프로그래밍&#40;4판&#41;</a></p>\\r\\n              <p class=\"book_writer\">문호석, 손명호 </p>\\r\\n            </div>\\r\\n          </div>\\r\\n        </li>\\r\\n        <!--\\r\\n        <li class=\"sub_book_list\">\\r\\n          <div class=\"view_box\">\\r\\n            <span class=\"view_box_block\">\\r\\n              <span class=\"img_hidden_a\">\\r\\n                <span class=\"pop_quick_menu\">\\r\\n                  <a href=\"book_view.html\"><img src=\"/images/common/icon_view_detail.png\" alt=\"상세보기\" /></a><a href=\"javascript:;\" onClick=\"add_cart_layer_open(\\'layer_add_cart\\');return false;\"><img src=\"/images/common/icon_add_cart.png\" alt=\"장바구니 담기\" /></a>\\r\\n                </span>\\r\\n                <span class=\"price\">\\\\12,500</span>\\r\\n                <span class=\"star_rate\"></span>\\r\\n                <span style=\"display:none;\">3.5</span>\\r\\n              </span>\\r\\n              <img src=\"https://www.hanbit.co.kr/images/temp/book_life1.jpg\" alt=\"\" class=\"thumb\" />\\r\\n            </span>\\r\\n            <div class=\"info\">\\r\\n              <p class=\"book_tit\"><a href=\"book_view.html\">만들면서 배우는 Git+GitHub 입문</a></p>\\r\\n              <p class=\"book_writer\">마리코 나카무라</p>\\r\\n            </div>\\r\\n          </div>\\r\\n        </li>  \\r\\n        -->\\r\\n            \\r\\n        <li class=\"sub_book_list\">\\r\\n          <div class=\"view_box\">\\r\\n            <span class=\"view_box_block\">\\r\\n              <span class=\"img_hidden_a\">\\r\\n                <span class=\"pop_quick_menu\">                \\r\\n                    <a href=\"/academy/books/book_view.html?p_code=B1393628384\"><img src=\"https://www.hanbit.co.kr/images/common/icon_view_detail.png\" alt=\"상세보기\" /></a>\\r\\n                                    </span>\\r\\n                <span class=\"price\">29,000<span>원</span></span>\\r\\n                <span class=\"pop_quick_bg\" onClick=\"location=\\'/academy/books/book_view.html?p_code=B1393628384\\'\"></span>\\r\\n              </span>\\r\\n              <!-- 예약도서인 경우 -->\\r\\n                            <!-- ebook이 도서인 경우 -->\\r\\n              <img src=\"/data/books/B1393628384_m.jpg\" alt=\"\" class=\"thumb\" />\\r\\n            </span>\\r\\n            <div class=\"info\">\\r\\n              <p class=\"book_tit\"><a href=\"/academy/books/book_view.html?p_code=B1393628384\">IT CookBook, 인터넷 해킹과 보안&#40;4판&#41;</a></p>\\r\\n              <p class=\"book_writer\">김경곤 </p>\\r\\n            </div>\\r\\n          </div>\\r\\n        </li>\\r\\n        <!--\\r\\n        <li class=\"sub_book_list\">\\r\\n          <div class=\"view_box\">\\r\\n            <span class=\"view_box_block\">\\r\\n              <span class=\"img_hidden_a\">\\r\\n                <span class=\"pop_quick_menu\">\\r\\n                  <a href=\"book_view.html\"><img src=\"/images/common/icon_view_detail.png\" alt=\"상세보기\" /></a><a href=\"javascript:;\" onClick=\"add_cart_layer_open(\\'layer_add_cart\\');return false;\"><img src=\"/images/common/icon_add_cart.png\" alt=\"장바구니 담기\" /></a>\\r\\n                </span>\\r\\n                <span class=\"price\">\\\\12,500</span>\\r\\n                <span class=\"star_rate\"></span>\\r\\n                <span style=\"display:none;\">3.5</span>\\r\\n              </span>\\r\\n              <img src=\"https://www.hanbit.co.kr/images/temp/book_life1.jpg\" alt=\"\" class=\"thumb\" />\\r\\n            </span>\\r\\n            <div class=\"info\">\\r\\n              <p class=\"book_tit\"><a href=\"book_view.html\">만들면서 배우는 Git+GitHub 입문</a></p>\\r\\n              <p class=\"book_writer\">마리코 나카무라</p>\\r\\n            </div>\\r\\n          </div>\\r\\n        </li>  \\r\\n        -->\\r\\n            \\r\\n        <li class=\"sub_book_list\">\\r\\n          <div class=\"view_box\">\\r\\n            <span class=\"view_box_block\">\\r\\n              <span class=\"img_hidden_a\">\\r\\n                <span class=\"pop_quick_menu\">                \\r\\n                    <a href=\"/academy/books/book_view.html?p_code=B9597680767\"><img src=\"https://www.hanbit.co.kr/images/common/icon_view_detail.png\" alt=\"상세보기\" /></a>\\r\\n                                    </span>\\r\\n                <span class=\"price\">28,000<span>원</span></span>\\r\\n                <span class=\"pop_quick_bg\" onClick=\"location=\\'/academy/books/book_view.html?p_code=B9597680767\\'\"></span>\\r\\n              </span>\\r\\n              <!-- 예약도서인 경우 -->\\r\\n                            <!-- ebook이 도서인 경우 -->\\r\\n              <img src=\"/data/books/B9597680767_m.jpg\" alt=\"\" class=\"thumb\" />\\r\\n            </span>\\r\\n            <div class=\"info\">\\r\\n              <p class=\"book_tit\"><a href=\"/academy/books/book_view.html?p_code=B9597680767\">IT CookBook, 파이썬 데이터 분석 for Beginner</a></p>\\r\\n              <p class=\"book_writer\">우재남 </p>\\r\\n            </div>\\r\\n          </div>\\r\\n        </li>\\r\\n        <!--\\r\\n        <li class=\"sub_book_list\">\\r\\n          <div class=\"view_box\">\\r\\n            <span class=\"view_box_block\">\\r\\n              <span class=\"img_hidden_a\">\\r\\n                <span class=\"pop_quick_menu\">\\r\\n                  <a href=\"book_view.html\"><img src=\"/images/common/icon_view_detail.png\" alt=\"상세보기\" /></a><a href=\"javascript:;\" onClick=\"add_cart_layer_open(\\'layer_add_cart\\');return false;\"><img src=\"/images/common/icon_add_cart.png\" alt=\"장바구니 담기\" /></a>\\r\\n                </span>\\r\\n                <span class=\"price\">\\\\12,500</span>\\r\\n                <span class=\"star_rate\"></span>\\r\\n                <span style=\"display:none;\">3.5</span>\\r\\n              </span>\\r\\n              <img src=\"https://www.hanbit.co.kr/images/temp/book_life1.jpg\" alt=\"\" class=\"thumb\" />\\r\\n            </span>\\r\\n            <div class=\"info\">\\r\\n              <p class=\"book_tit\"><a href=\"book_view.html\">만들면서 배우는 Git+GitHub 입문</a></p>\\r\\n              <p class=\"book_writer\">마리코 나카무라</p>\\r\\n            </div>\\r\\n          </div>\\r\\n        </li>  \\r\\n        -->\\r\\n            \\r\\n        <li class=\"sub_book_list\">\\r\\n          <div class=\"view_box\">\\r\\n            <span class=\"view_box_block\">\\r\\n              <span class=\"img_hidden_a\">\\r\\n                <span class=\"pop_quick_menu\">                \\r\\n                    <a href=\"/academy/books/book_view.html?p_code=B7792763682\"><img src=\"https://www.hanbit.co.kr/images/common/icon_view_detail.png\" alt=\"상세보기\" /></a>\\r\\n                                    </span>\\r\\n                <span class=\"price\">20,000<span>원</span></span>\\r\\n                <span class=\"pop_quick_bg\" onClick=\"location=\\'/academy/books/book_view.html?p_code=B7792763682\\'\"></span>\\r\\n              </span>\\r\\n              <!-- 예약도서인 경우 -->\\r\\n                            <!-- ebook이 도서인 경우 -->\\r\\n              <img src=\"/data/books/B7792763682_m.jpg\" alt=\"\" class=\"thumb\" />\\r\\n            </span>\\r\\n            <div class=\"info\">\\r\\n              <p class=\"book_tit\"><a href=\"/academy/books/book_view.html?p_code=B7792763682\">IT CookBook, 엑셀 2019</a></p>\\r\\n              <p class=\"book_writer\">김지연 </p>\\r\\n            </div>\\r\\n          </div>\\r\\n        </li>\\r\\n        <!--\\r\\n        <li class=\"sub_book_list\">\\r\\n          <div class=\"view_box\">\\r\\n            <span class=\"view_box_block\">\\r\\n              <span class=\"img_hidden_a\">\\r\\n                <span class=\"pop_quick_menu\">\\r\\n                  <a href=\"book_view.html\"><img src=\"/images/common/icon_view_detail.png\" alt=\"상세보기\" /></a><a href=\"javascript:;\" onClick=\"add_cart_layer_open(\\'layer_add_cart\\');return false;\"><img src=\"/images/common/icon_add_cart.png\" alt=\"장바구니 담기\" /></a>\\r\\n                </span>\\r\\n                <span class=\"price\">\\\\12,500</span>\\r\\n                <span class=\"star_rate\"></span>\\r\\n                <span style=\"display:none;\">3.5</span>\\r\\n              </span>\\r\\n              <img src=\"https://www.hanbit.co.kr/images/temp/book_life1.jpg\" alt=\"\" class=\"thumb\" />\\r\\n            </span>\\r\\n            <div class=\"info\">\\r\\n              <p class=\"book_tit\"><a href=\"book_view.html\">만들면서 배우는 Git+GitHub 입문</a></p>\\r\\n              <p class=\"book_writer\">마리코 나카무라</p>\\r\\n            </div>\\r\\n          </div>\\r\\n        </li>  \\r\\n        -->\\r\\n            \\r\\n        <li class=\"sub_book_list\">\\r\\n          <div class=\"view_box\">\\r\\n            <span class=\"view_box_block\">\\r\\n              <span class=\"img_hidden_a\">\\r\\n                <span class=\"pop_quick_menu\">                \\r\\n                    <a href=\"/academy/books/book_view.html?p_code=B5067324775\"><img src=\"https://www.hanbit.co.kr/images/common/icon_view_detail.png\" alt=\"상세보기\" /></a>\\r\\n                                    </span>\\r\\n                <span class=\"price\">33,000<span>원</span></span>\\r\\n                <span class=\"pop_quick_bg\" onClick=\"location=\\'/academy/books/book_view.html?p_code=B5067324775\\'\"></span>\\r\\n              </span>\\r\\n              <!-- 예약도서인 경우 -->\\r\\n                            <!-- ebook이 도서인 경우 -->\\r\\n              <img src=\"/data/books/B5067324775_m.jpg\" alt=\"\" class=\"thumb\" />\\r\\n            </span>\\r\\n            <div class=\"info\">\\r\\n              <p class=\"book_tit\"><a href=\"/academy/books/book_view.html?p_code=B5067324775\">IT CookBook, 소프트웨어 공학 이론과 실제</a></p>\\r\\n              <p class=\"book_writer\">홍장의 </p>\\r\\n            </div>\\r\\n          </div>\\r\\n        </li>\\r\\n        <!--\\r\\n        <li class=\"sub_book_list\">\\r\\n          <div class=\"view_box\">\\r\\n            <span class=\"view_box_block\">\\r\\n              <span class=\"img_hidden_a\">\\r\\n                <span class=\"pop_quick_menu\">\\r\\n                  <a href=\"book_view.html\"><img src=\"/images/common/icon_view_detail.png\" alt=\"상세보기\" /></a><a href=\"javascript:;\" onClick=\"add_cart_layer_open(\\'layer_add_cart\\');return false;\"><img src=\"/images/common/icon_add_cart.png\" alt=\"장바구니 담기\" /></a>\\r\\n                </span>\\r\\n                <span class=\"price\">\\\\12,500</span>\\r\\n                <span class=\"star_rate\"></span>\\r\\n                <span style=\"display:none;\">3.5</span>\\r\\n              </span>\\r\\n              <img src=\"https://www.hanbit.co.kr/images/temp/book_life1.jpg\" alt=\"\" class=\"thumb\" />\\r\\n            </span>\\r\\n            <div class=\"info\">\\r\\n              <p class=\"book_tit\"><a href=\"book_view.html\">만들면서 배우는 Git+GitHub 입문</a></p>\\r\\n              <p class=\"book_writer\">마리코 나카무라</p>\\r\\n            </div>\\r\\n          </div>\\r\\n        </li>  \\r\\n        -->\\r\\n            \\r\\n        <li class=\"sub_book_list\">\\r\\n          <div class=\"view_box\">\\r\\n            <span class=\"view_box_block\">\\r\\n              <span class=\"img_hidden_a\">\\r\\n                <span class=\"pop_quick_menu\">                \\r\\n                    <a href=\"/academy/books/book_view.html?p_code=B2247981475\"><img src=\"https://www.hanbit.co.kr/images/common/icon_view_detail.png\" alt=\"상세보기\" /></a>\\r\\n                                    </span>\\r\\n                <span class=\"price\">25,000<span>원</span></span>\\r\\n                <span class=\"pop_quick_bg\" onClick=\"location=\\'/academy/books/book_view.html?p_code=B2247981475\\'\"></span>\\r\\n              </span>\\r\\n              <!-- 예약도서인 경우 -->\\r\\n                            <!-- ebook이 도서인 경우 -->\\r\\n              <img src=\"/data/books/B2247981475_m.jpg\" alt=\"\" class=\"thumb\" />\\r\\n            </span>\\r\\n            <div class=\"info\">\\r\\n              <p class=\"book_tit\"><a href=\"/academy/books/book_view.html?p_code=B2247981475\">공학도라면 반드시 알아야 할 최소한의 수학&#40;8판&#41;</a></p>\\r\\n              <p class=\"book_writer\">John Bird </p>\\r\\n            </div>\\r\\n          </div>\\r\\n        </li>\\r\\n        <!--\\r\\n        <li class=\"sub_book_list\">\\r\\n          <div class=\"view_box\">\\r\\n            <span class=\"view_box_block\">\\r\\n              <span class=\"img_hidden_a\">\\r\\n                <span class=\"pop_quick_menu\">\\r\\n                  <a href=\"book_view.html\"><img src=\"/images/common/icon_view_detail.png\" alt=\"상세보기\" /></a><a href=\"javascript:;\" onClick=\"add_cart_layer_open(\\'layer_add_cart\\');return false;\"><img src=\"/images/common/icon_add_cart.png\" alt=\"장바구니 담기\" /></a>\\r\\n                </span>\\r\\n                <span class=\"price\">\\\\12,500</span>\\r\\n                <span class=\"star_rate\"></span>\\r\\n                <span style=\"display:none;\">3.5</span>\\r\\n              </span>\\r\\n              <img src=\"https://www.hanbit.co.kr/images/temp/book_life1.jpg\" alt=\"\" class=\"thumb\" />\\r\\n            </span>\\r\\n            <div class=\"info\">\\r\\n              <p class=\"book_tit\"><a href=\"book_view.html\">만들면서 배우는 Git+GitHub 입문</a></p>\\r\\n              <p class=\"book_writer\">마리코 나카무라</p>\\r\\n            </div>\\r\\n          </div>\\r\\n        </li>  \\r\\n        -->\\r\\n            \\r\\n        <li class=\"sub_book_list\">\\r\\n          <div class=\"view_box\">\\r\\n            <span class=\"view_box_block\">\\r\\n              <span class=\"img_hidden_a\">\\r\\n                <span class=\"pop_quick_menu\">                \\r\\n                    <a href=\"/academy/books/book_view.html?p_code=B4622884510\"><img src=\"https://www.hanbit.co.kr/images/common/icon_view_detail.png\" alt=\"상세보기\" /></a>\\r\\n                                    </span>\\r\\n                <span class=\"price\">30,000<span>원</span></span>\\r\\n                <span class=\"pop_quick_bg\" onClick=\"location=\\'/academy/books/book_view.html?p_code=B4622884510\\'\"></span>\\r\\n              </span>\\r\\n              <!-- 예약도서인 경우 -->\\r\\n                            <!-- ebook이 도서인 경우 -->\\r\\n              <img src=\"/data/books/B4622884510_m.jpg\" alt=\"\" class=\"thumb\" />\\r\\n            </span>\\r\\n            <div class=\"info\">\\r\\n              <p class=\"book_tit\"><a href=\"/academy/books/book_view.html?p_code=B4622884510\">IT CookBook, UI/UX 디자인 이론과 실무 with 어도비 XD</a></p>\\r\\n              <p class=\"book_writer\">이영주 </p>\\r\\n            </div>\\r\\n          </div>\\r\\n        </li>\\r\\n        <!--\\r\\n        <li class=\"sub_book_list\">\\r\\n          <div class=\"view_box\">\\r\\n            <span class=\"view_box_block\">\\r\\n              <span class=\"img_hidden_a\">\\r\\n                <span class=\"pop_quick_menu\">\\r\\n                  <a href=\"book_view.html\"><img src=\"/images/common/icon_view_detail.png\" alt=\"상세보기\" /></a><a href=\"javascript:;\" onClick=\"add_cart_layer_open(\\'layer_add_cart\\');return false;\"><img src=\"/images/common/icon_add_cart.png\" alt=\"장바구니 담기\" /></a>\\r\\n                </span>\\r\\n                <span class=\"price\">\\\\12,500</span>\\r\\n                <span class=\"star_rate\"></span>\\r\\n                <span style=\"display:none;\">3.5</span>\\r\\n              </span>\\r\\n              <img src=\"https://www.hanbit.co.kr/images/temp/book_life1.jpg\" alt=\"\" class=\"thumb\" />\\r\\n            </span>\\r\\n            <div class=\"info\">\\r\\n              <p class=\"book_tit\"><a href=\"book_view.html\">만들면서 배우는 Git+GitHub 입문</a></p>\\r\\n              <p class=\"book_writer\">마리코 나카무라</p>\\r\\n            </div>\\r\\n          </div>\\r\\n        </li>  \\r\\n        -->\\r\\n            \\r\\n        <li class=\"sub_book_list\">\\r\\n          <div class=\"view_box\">\\r\\n            <span class=\"view_box_block\">\\r\\n              <span class=\"img_hidden_a\">\\r\\n                <span class=\"pop_quick_menu\">                \\r\\n                    <a href=\"/academy/books/book_view.html?p_code=B7170139829\"><img src=\"https://www.hanbit.co.kr/images/common/icon_view_detail.png\" alt=\"상세보기\" /></a>\\r\\n                                    </span>\\r\\n                <span class=\"price\">22,000<span>원</span></span>\\r\\n                <span class=\"pop_quick_bg\" onClick=\"location=\\'/academy/books/book_view.html?p_code=B7170139829\\'\"></span>\\r\\n              </span>\\r\\n              <!-- 예약도서인 경우 -->\\r\\n                            <!-- ebook이 도서인 경우 -->\\r\\n              <img src=\"/data/books/B7170139829_m.jpg\" alt=\"\" class=\"thumb\" />\\r\\n            </span>\\r\\n            <div class=\"info\">\\r\\n              <p class=\"book_tit\"><a href=\"/academy/books/book_view.html?p_code=B7170139829\">STEM@CookBook, 공학 기초수학&#40;2판&#41;</a></p>\\r\\n              <p class=\"book_writer\">함남우 </p>\\r\\n            </div>\\r\\n          </div>\\r\\n        </li>\\r\\n        <!--\\r\\n        <li class=\"sub_book_list\">\\r\\n          <div class=\"view_box\">\\r\\n            <span class=\"view_box_block\">\\r\\n              <span class=\"img_hidden_a\">\\r\\n                <span class=\"pop_quick_menu\">\\r\\n                  <a href=\"book_view.html\"><img src=\"/images/common/icon_view_detail.png\" alt=\"상세보기\" /></a><a href=\"javascript:;\" onClick=\"add_cart_layer_open(\\'layer_add_cart\\');return false;\"><img src=\"/images/common/icon_add_cart.png\" alt=\"장바구니 담기\" /></a>\\r\\n                </span>\\r\\n                <span class=\"price\">\\\\12,500</span>\\r\\n                <span class=\"star_rate\"></span>\\r\\n                <span style=\"display:none;\">3.5</span>\\r\\n              </span>\\r\\n              <img src=\"https://www.hanbit.co.kr/images/temp/book_life1.jpg\" alt=\"\" class=\"thumb\" />\\r\\n            </span>\\r\\n            <div class=\"info\">\\r\\n              <p class=\"book_tit\"><a href=\"book_view.html\">만들면서 배우는 Git+GitHub 입문</a></p>\\r\\n              <p class=\"book_writer\">마리코 나카무라</p>\\r\\n            </div>\\r\\n          </div>\\r\\n        </li>  \\r\\n        -->\\r\\n            \\r\\n        <li class=\"sub_book_list\">\\r\\n          <div class=\"view_box\">\\r\\n            <span class=\"view_box_block\">\\r\\n              <span class=\"img_hidden_a\">\\r\\n                <span class=\"pop_quick_menu\">                \\r\\n                    <a href=\"/academy/books/book_view.html?p_code=B7121664936\"><img src=\"https://www.hanbit.co.kr/images/common/icon_view_detail.png\" alt=\"상세보기\" /></a>\\r\\n                                    </span>\\r\\n                <span class=\"price\">39,000<span>원</span></span>\\r\\n                <span class=\"pop_quick_bg\" onClick=\"location=\\'/academy/books/book_view.html?p_code=B7121664936\\'\"></span>\\r\\n              </span>\\r\\n              <!-- 예약도서인 경우 -->\\r\\n                            <!-- ebook이 도서인 경우 -->\\r\\n              <img src=\"/data/books/B7121664936_m.jpg\" alt=\"\" class=\"thumb\" />\\r\\n            </span>\\r\\n            <div class=\"info\">\\r\\n              <p class=\"book_tit\"><a href=\"/academy/books/book_view.html?p_code=B7121664936\">STEM@CookBook, Beer의 정역학과 재료역학&#40;3판&#41;</a></p>\\r\\n              <p class=\"book_writer\">Ferdinand P. Beer , E. Russell Johnston, Jr. , John T. DeWolf , David F. Mazurek </p>\\r\\n            </div>\\r\\n          </div>\\r\\n        </li>\\r\\n        <!--\\r\\n        <li class=\"sub_book_list\">\\r\\n          <div class=\"view_box\">\\r\\n            <span class=\"view_box_block\">\\r\\n              <span class=\"img_hidden_a\">\\r\\n                <span class=\"pop_quick_menu\">\\r\\n                  <a href=\"book_view.html\"><img src=\"/images/common/icon_view_detail.png\" alt=\"상세보기\" /></a><a href=\"javascript:;\" onClick=\"add_cart_layer_open(\\'layer_add_cart\\');return false;\"><img src=\"/images/common/icon_add_cart.png\" alt=\"장바구니 담기\" /></a>\\r\\n                </span>\\r\\n                <span class=\"price\">\\\\12,500</span>\\r\\n                <span class=\"star_rate\"></span>\\r\\n                <span style=\"display:none;\">3.5</span>\\r\\n              </span>\\r\\n              <img src=\"https://www.hanbit.co.kr/images/temp/book_life1.jpg\" alt=\"\" class=\"thumb\" />\\r\\n            </span>\\r\\n            <div class=\"info\">\\r\\n              <p class=\"book_tit\"><a href=\"book_view.html\">만들면서 배우는 Git+GitHub 입문</a></p>\\r\\n              <p class=\"book_writer\">마리코 나카무라</p>\\r\\n            </div>\\r\\n          </div>\\r\\n        </li>  \\r\\n        -->\\r\\n            \\r\\n        <li class=\"sub_book_list\">\\r\\n          <div class=\"view_box\">\\r\\n            <span class=\"view_box_block\">\\r\\n              <span class=\"img_hidden_a\">\\r\\n                <span class=\"pop_quick_menu\">                \\r\\n                    <a href=\"/academy/books/book_view.html?p_code=B6236324381\"><img src=\"https://www.hanbit.co.kr/images/common/icon_view_detail.png\" alt=\"상세보기\" /></a>\\r\\n                                    </span>\\r\\n                <span class=\"price\">38,000<span>원</span></span>\\r\\n                <span class=\"pop_quick_bg\" onClick=\"location=\\'/academy/books/book_view.html?p_code=B6236324381\\'\"></span>\\r\\n              </span>\\r\\n              <!-- 예약도서인 경우 -->\\r\\n                            <!-- ebook이 도서인 경우 -->\\r\\n              <img src=\"/data/books/B6236324381_m.jpg\" alt=\"\" class=\"thumb\" />\\r\\n            </span>\\r\\n            <div class=\"info\">\\r\\n              <p class=\"book_tit\"><a href=\"/academy/books/book_view.html?p_code=B6236324381\">STEIN 푸리에 해석학</a></p>\\r\\n              <p class=\"book_writer\">ELIAS M. STEIN , RAMI SHAKARCHI </p>\\r\\n            </div>\\r\\n          </div>\\r\\n        </li>\\r\\n        <!--\\r\\n        <li class=\"sub_book_list\">\\r\\n          <div class=\"view_box\">\\r\\n            <span class=\"view_box_block\">\\r\\n              <span class=\"img_hidden_a\">\\r\\n                <span class=\"pop_quick_menu\">\\r\\n                  <a href=\"book_view.html\"><img src=\"/images/common/icon_view_detail.png\" alt=\"상세보기\" /></a><a href=\"javascript:;\" onClick=\"add_cart_layer_open(\\'layer_add_cart\\');return false;\"><img src=\"/images/common/icon_add_cart.png\" alt=\"장바구니 담기\" /></a>\\r\\n                </span>\\r\\n                <span class=\"price\">\\\\12,500</span>\\r\\n                <span class=\"star_rate\"></span>\\r\\n                <span style=\"display:none;\">3.5</span>\\r\\n              </span>\\r\\n              <img src=\"https://www.hanbit.co.kr/images/temp/book_life1.jpg\" alt=\"\" class=\"thumb\" />\\r\\n            </span>\\r\\n            <div class=\"info\">\\r\\n              <p class=\"book_tit\"><a href=\"book_view.html\">만들면서 배우는 Git+GitHub 입문</a></p>\\r\\n              <p class=\"book_writer\">마리코 나카무라</p>\\r\\n            </div>\\r\\n          </div>\\r\\n        </li>  \\r\\n        -->\\r\\n            \\r\\n        <li class=\"sub_book_list\">\\r\\n          <div class=\"view_box\">\\r\\n            <span class=\"view_box_block\">\\r\\n              <span class=\"img_hidden_a\">\\r\\n                <span class=\"pop_quick_menu\">                \\r\\n                    <a href=\"/academy/books/book_view.html?p_code=B2195975973\"><img src=\"https://www.hanbit.co.kr/images/common/icon_view_detail.png\" alt=\"상세보기\" /></a>\\r\\n                                    </span>\\r\\n                <span class=\"price\">35,000<span>원</span></span>\\r\\n                <span class=\"pop_quick_bg\" onClick=\"location=\\'/academy/books/book_view.html?p_code=B2195975973\\'\"></span>\\r\\n              </span>\\r\\n              <!-- 예약도서인 경우 -->\\r\\n                            <!-- ebook이 도서인 경우 -->\\r\\n              <img src=\"/data/books/B2195975973_m.jpg\" alt=\"\" class=\"thumb\" />\\r\\n            </span>\\r\\n            <div class=\"info\">\\r\\n              <p class=\"book_tit\"><a href=\"/academy/books/book_view.html?p_code=B2195975973\">미분적분학 : 기초부터 응용까지</a></p>\\r\\n              <p class=\"book_writer\">수학교재편찬위원회 </p>\\r\\n            </div>\\r\\n          </div>\\r\\n        </li>\\r\\n        <!--\\r\\n        <li class=\"sub_book_list\">\\r\\n          <div class=\"view_box\">\\r\\n            <span class=\"view_box_block\">\\r\\n              <span class=\"img_hidden_a\">\\r\\n                <span class=\"pop_quick_menu\">\\r\\n                  <a href=\"book_view.html\"><img src=\"/images/common/icon_view_detail.png\" alt=\"상세보기\" /></a><a href=\"javascript:;\" onClick=\"add_cart_layer_open(\\'layer_add_cart\\');return false;\"><img src=\"/images/common/icon_add_cart.png\" alt=\"장바구니 담기\" /></a>\\r\\n                </span>\\r\\n                <span class=\"price\">\\\\12,500</span>\\r\\n                <span class=\"star_rate\"></span>\\r\\n                <span style=\"display:none;\">3.5</span>\\r\\n              </span>\\r\\n              <img src=\"https://www.hanbit.co.kr/images/temp/book_life1.jpg\" alt=\"\" class=\"thumb\" />\\r\\n            </span>\\r\\n            <div class=\"info\">\\r\\n              <p class=\"book_tit\"><a href=\"book_view.html\">만들면서 배우는 Git+GitHub 입문</a></p>\\r\\n              <p class=\"book_writer\">마리코 나카무라</p>\\r\\n            </div>\\r\\n          </div>\\r\\n        </li>  \\r\\n        -->\\r\\n              </ul>\\r\\n    </div>\\r\\n    <!-- //책 리스트 -->\\r\\n    \\r\\n    <!-- 페이징 -->\\r\\n    <div class=\"paginate\">\\r\\n      <strong>1</strong>\\n<a href=\"/academy/books/new_book_list.html?page=2&cate_cd=&srt=&searchKey=&keyWord=\">2</a>\\n<a href=\"/academy/books/new_book_list.html?page=3&cate_cd=&srt=&searchKey=&keyWord=\">3</a>\\n<a href=\"/academy/books/new_book_list.html?page=4&cate_cd=&srt=&searchKey=&keyWord=\">4</a>\\n<a href=\"/academy/books/new_book_list.html?page=5&cate_cd=&srt=&searchKey=&keyWord=\">5</a>\\n<a href=\"/academy/books/new_book_list.html?page=6&cate_cd=&srt=&searchKey=&keyWord=\">6</a>\\n<a href=\"/academy/books/new_book_list.html?page=7&cate_cd=&srt=&searchKey=&keyWord=\">7</a>\\n<a href=\"/academy/books/new_book_list.html?page=8&cate_cd=&srt=&searchKey=&keyWord=\">8</a>\\n<a href=\"/academy/books/new_book_list.html?page=9&cate_cd=&srt=&searchKey=&keyWord=\">9</a>\\n<a href=\"/academy/books/new_book_list.html?page=10&cate_cd=&srt=&searchKey=&keyWord=\">10</a>\\n<a href=\"/academy/books/new_book_list.html?page=11&cate_cd=&srt=&searchKey=&keyWord=\" class=\"next\"><span>&gt;</span></a>\\n    </div>\\r\\n    <!-- //페이징 -->\\r\\n    \\r\\n  </div>\\r\\n  <!-- //새로나온 책 wrap -->\\r\\n  \\r\\n  <!-- 카트 담기 레이어 팝업 -->\\r\\n  \\t<div class=\"add_cart_layer\">\\r\\n\\t\\t<div class=\"bg\"></div>\\r\\n\\t\\t<div class=\"add_cart_pop-layer\" id=\"layer_add_cart\">\\r\\n\\t\\t\\t<div class=\"pop-container\">\\r\\n\\t\\t\\t\\t<div class=\"pop-conts\">\\r\\n\\t\\t\\t\\t\\t\\r\\n\\t\\t\\t\\t\\t<!--content //-->\\r\\n\\t\\t\\t\\t\\t<div class=\"close\"><a class=\"cbtn\" href=\"javascript:;\" onClick=\"\"><img src=\"https://www.hanbit.co.kr/images/common/icon_close.png\" width=\"38\" height=\"38\" alt=\"닫기\" /></a></div>\\r\\n\\t\\t\\t\\t\\t<p class=\"ctxt\"><span id=\\'cartmsg\\'>해당 상품을 장바구니에 담았습니다.</span><span id=\\'cartmsg2\\'>이미 장바구니에 추가된 상품입니다.</span><br />장바구니로 이동하시겠습니까?</p>\\r\\n\\t\\t\\t\\t\\t<div class=\"btn_layer\">\\r\\n\\t\\t\\t\\t\\t\\t<a href=\"/myhanbit/cart.html\">장바구니<br />이동</a>\\r\\n\\t\\t\\t\\t\\t\\t<!--<a href=\"javascript:;\" onClick=\"$(\\'.add_cart_layer\\').hide();\">쇼핑<br />계속</a>-->\\r\\n\\t\\t\\t\\t\\t\\t<a class=\"cbtn\" href=\"javascript:;\" onClick=\"\">쇼핑<br />계속</a>\\r\\n\\t\\t\\t\\t\\t</div>\\r\\n\\t\\t\\t\\t\\t<!--// content-->\\r\\n\\t\\t\\t\\t\\t\\r\\n\\t\\t\\t\\t</div>\\r\\n\\t\\t\\t</div>\\r\\n\\t\\t</div>\\r\\n\\t</div>  <!-- //카트 담기 레이어 팝업 --> \\r\\n</div>\\r\\n<!-- //Contents -->\\r\\n\\r\\n\\r\\n<!-- Footer -->\\r\\n<footer>\\r\\n  <!-- 공지사항 -->\\r\\n      <div class=\"foot_notice\">\\r\\n    <span>\\r\\n      <a href=\"https://www.hanbit.co.kr/support/notice_list.html\"><strong>공지사항</strong></a> >\\r\\n    </span>\\r\\n              <a href=\"/support/notice_view.html?hnb_idx=319\">물류센터 하계휴가&#40;8월 4일 ~ 8월 7일&#41;로 인한 배송 안내</a>\\r\\n        </div>\\r\\n      <!-- //공지사항 -->\\r\\n  \\r\\n  <div class=\"foot_contents\">\\r\\n    <!-- 하단 메뉴 -->\\r\\n    <div class=\"foot_menu\">\\r\\n      <!-- added by coffin -->\\r\\n            <ul>\\r\\n        <li><a href=\"https://www.hanbit.co.kr/publisher/index.html\" target=\"_blank\">회사소개</a>(<a href=\"https://www.hanbit.co.kr/publisher/index.html\" target=\"_blank\">KOR</a> | <a href=\"https://www.hanbit.co.kr/publisher/index.html?lang=e\" target=\"_blank\">ENG</a>) &#149; <a href=\"https://www.hanbit.co.kr/publisher/contact.html?lang=k\" target=\"_blank\">약도</a></li>\\r\\n        <li><a href=\"https://www.hanbit.co.kr/publisher/write.html\" target=\"_blank\">기획 및 원고 모집</a></li>\\r\\n        <li><a href=\"https://www.hanbit.co.kr/publisher/career.html\" target=\"_blank\">채용</a> &#149; 입사지원 <a href=\"mailto:jobs@hanbit.co.kr\">jobs@hanbit.co.kr</a></li>\\r\\n        <li><a href=\"https://www.hanbit.co.kr/publisher/foreignrights.html\" target=\"_blank\">FOREIGN RIGHTS</a></li>\\r\\n        <li><a href=\"https://www.hanbit.co.kr/member/use_agreement.html\">이용약관</a> &#149; <a href=\"https://www.hanbit.co.kr/member/privacy_policy.html\"><strong>개인정보처리방침</strong></a></li>\\r\\n        <li><a href=\"https://www.hanbit.co.kr/sitemap/sitemap.html\">사이트맵</a></li>\\r\\n      </ul>\\r\\n          </div>\\r\\n    <!-- //하단 메뉴 -->\\r\\n\\r\\n    <!-- SNS -->\\r\\n    <div class=\"foot_sns\">\\r\\n            \\r\\n      <ul>\\r\\n        <li class=\"foot_facebook\"><a href=\"https://www.facebook.com/hanbitacademy/\" target=\"_blank\"><span>페이스북</span></a></li>\\r\\n        <li class=\"foot_youtube\"><a href=\"https://www.youtube.com/channel/UCHfxmM0R8HZDJQoBOFkpDKA\" target=\"_blank\"><span>유튜브</span></a></li>\\r\\n      </ul>\\r\\n      \\r\\n           \\r\\n     \\r\\n        <fieldset class=\"foot_srch\">\\r\\n          <legend>하단 검색영역</legend>\\r\\n          <input title=\"검색어\" class=\"foot_srch_keyword\" accesskey=\"s\" type=\"text\" value=\"\"  id=\"foot_keyword_str\" style=\"font-size:16px;\">\\r\\n          <input type=\"button\" alt=\"\" class=\"foot_srch_btn\" onclick=\"foot_sch_smit();\" style=\"cursor: pointer;\">\\r\\n        </fieldset>\\r\\n\\r\\n      <script>\\r\\n        $(document).ready(function() {       \\r\\n          $(\\'#foot_keyword_str\\').keyup(function(e) {\\r\\n            if (e.keyCode == 13) \\r\\n              foot_sch_smit();\\r\\n          });        \\r\\n        });\\r\\n\\r\\n        function foot_sch_smit(){            \\r\\n          var foot_keyword_str = $(\"#foot_keyword_str\").val();      \\r\\n          var searchUrl = \"/search/search_list.html?keyword=\"+foot_keyword_str;\\r\\n\\r\\n          if(!foot_keyword_str){\\r\\n            alert(\"검색어를 입력해주세요\");\\r\\n            $(\"#foot_keyword_str\").focus();\\r\\n          }else{\\r\\n            location.href = searchUrl;\\r\\n          }\\r\\n        }\\r\\n      </script>  \\r\\n          </div>\\r\\n    <!-- //SNS -->\\r\\n    \\r\\n    <!-- 한빛 정보 -->\\r\\n    <div class=\"foot_about\">\\r\\n      <div class=\"foot_about_area\">\\r\\n        \\r\\n      \\r\\n        <p>한빛아카데미㈜</p>\\r\\n        <p>(03785) 서울 서대문구 연희로2길 62 2층</p>\\r\\n        <p>TEL : 02-336-7112 / FAX : 02-336-7199</p>\\r\\n        <p>대표이사 : 전태호</p>\\r\\n        <p>사업자등록번호 : 105-87-81648</p>\\r\\n\\r\\n        \\r\\n\\r\\n      </div>\\r\\n    </div>\\r\\n    <!-- //한빛 정보 -->\\r\\n  </div>\\r\\n  \\r\\n  <div class=\"copyright\">&copy;1993-2022 Hanbit Publishing Network, Inc. All rights reserved.</div>\\r\\n</footer>\\r\\n<!-- //푸터 -->\\r\\n<div class=\"foot_download_btn\"><a href=\"https://www.hanbit.co.kr/support/supplement_list.html\">자료실</a></div>\\r\\n\\r\\n<!-- 공통 JS 호출 -->\\r\\n<script type=\"text/javascript\" src=\"/js/common.js\"></script>\\r\\n<!-- //공통 JS 호출 -->\\r\\n\\r\\n</body>\\r\\n</html>\\r\\n'"
            ],
            "application/vnd.google.colaboratory.intrinsic+json": {
              "type": "string"
            }
          },
          "metadata": {},
          "execution_count": 2
        }
      ]
    },
    {
      "cell_type": "code",
      "source": [
        "soup = BeautifulSoup(req.text, 'html.parser') # 문법에 맞게 파싱을 하도록 하는 파라미터 parser. 만약 xml을 쓸거면 xml.parser처럼 쓰는듯"
      ],
      "metadata": {
        "id": "rH1PyfU_RP9E"
      },
      "execution_count": 7,
      "outputs": []
    },
    {
      "cell_type": "markdown",
      "source": [
        "### 1. 찾으려고 하는 데이터"
      ],
      "metadata": {
        "id": "CDdEyOIBRh6_"
      }
    },
    {
      "cell_type": "code",
      "source": [
        "lis = soup.select('li.sub_book_list')\n",
        "len(lis)"
      ],
      "metadata": {
        "colab": {
          "base_uri": "https://localhost:8080/"
        },
        "id": "1AG07FArRj6R",
        "outputId": "7b157be4-e724-4f01-ff6e-f7ed471148f8"
      },
      "execution_count": 8,
      "outputs": [
        {
          "output_type": "execute_result",
          "data": {
            "text/plain": [
              "20"
            ]
          },
          "metadata": {},
          "execution_count": 8
        }
      ]
    },
    {
      "cell_type": "markdown",
      "source": [
        "### 2. 하나의 데이터로 원하는 정보 추출"
      ],
      "metadata": {
        "id": "OQfnIabuSfMP"
      }
    },
    {
      "cell_type": "code",
      "source": [
        "li = lis[0]\n",
        "href = li.find('a')['href']\n",
        "href"
      ],
      "metadata": {
        "colab": {
          "base_uri": "https://localhost:8080/",
          "height": 36
        },
        "id": "jVbCaKD5R8qG",
        "outputId": "eeb45992-28ae-423b-f460-ff272a96c043"
      },
      "execution_count": 10,
      "outputs": [
        {
          "output_type": "execute_result",
          "data": {
            "text/plain": [
              "'/academy/books/book_view.html?p_code=B8672666879'"
            ],
            "application/vnd.google.colaboratory.intrinsic+json": {
              "type": "string"
            }
          },
          "metadata": {},
          "execution_count": 10
        }
      ]
    },
    {
      "cell_type": "markdown",
      "source": [
        "#### sub page로 이동해서 원하는 정보 추출"
      ],
      "metadata": {
        "id": "s8f1d_b7TQRw"
      }
    },
    {
      "cell_type": "code",
      "source": [
        "sub_req = requests.get(base_url + href)\n",
        "sub_soup = BeautifulSoup(sub_req.text, 'html.parser')"
      ],
      "metadata": {
        "id": "bf7qem9gTJRF"
      },
      "execution_count": 11,
      "outputs": []
    },
    {
      "cell_type": "code",
      "source": [
        "title = sub_soup.select_one('.store_product_info_box > h3').get_text().strip()\n",
        "title"
      ],
      "metadata": {
        "colab": {
          "base_uri": "https://localhost:8080/",
          "height": 36
        },
        "id": "G0X6JdhdUjnn",
        "outputId": "bd2229c7-9747-4fa3-fabf-9b6663b6f4ef"
      },
      "execution_count": 12,
      "outputs": [
        {
          "output_type": "execute_result",
          "data": {
            "text/plain": [
              "'STEM CookBook, 문제 해결력을 키우는 기계설계'"
            ],
            "application/vnd.google.colaboratory.intrinsic+json": {
              "type": "string"
            }
          },
          "metadata": {},
          "execution_count": 12
        }
      ]
    },
    {
      "cell_type": "code",
      "source": [
        "# 번역자가 있는 책이 있고 없는 책이 있다.\n",
        "# 딕셔너리로 각 항목을 저장하고 역자를 불러왔을 때 에러가 나오는 것을 예상해서 예외처리로 해결?\n",
        "info_lis = sub_soup.select('.info_list > li')\n",
        "info_dict = {}\n",
        "\n",
        "for li in info_lis:\n",
        "    key = li.find('strong').get_text().split(' ')[0]\n",
        "    val = li.find('span').get_text().strip()\n",
        "    info_dict[key] = val\n",
        "\n",
        "info_dict"
      ],
      "metadata": {
        "colab": {
          "base_uri": "https://localhost:8080/"
        },
        "id": "JVu91m7lTrig",
        "outputId": "8bc4b5da-d366-400a-95ee-1ac7969bc574"
      },
      "execution_count": 19,
      "outputs": [
        {
          "output_type": "execute_result",
          "data": {
            "text/plain": [
              "{'ISBN': '9791156646150',\n",
              " '물류코드': '4615',\n",
              " '저자': '이상범',\n",
              " '출간': '2022-08-05',\n",
              " '페이지': '680 쪽'}"
            ]
          },
          "metadata": {},
          "execution_count": 19
        }
      ]
    },
    {
      "cell_type": "code",
      "source": [
        "author = info_dict['저자']\n",
        "try:\n",
        "    translator = info_dict['번역']\n",
        "except:\n",
        "    translator = '-'\n",
        "date = info_dict['출간']\n",
        "page = int(info_dict['페이지'].split()[0].replace(',',''))\n",
        "author, translator, date, page"
      ],
      "metadata": {
        "colab": {
          "base_uri": "https://localhost:8080/"
        },
        "id": "yIoSaNFuVHTU",
        "outputId": "053e9210-1cd4-4841-c53a-d5bc717fdede"
      },
      "execution_count": 21,
      "outputs": [
        {
          "output_type": "execute_result",
          "data": {
            "text/plain": [
              "('이상범', '-', '2022-08-05', 680)"
            ]
          },
          "metadata": {},
          "execution_count": 21
        }
      ]
    },
    {
      "cell_type": "code",
      "source": [
        "# 가격\n",
        "price = int(sub_soup.select_one('.pbr > strong').get_text().replace(',',''))\n",
        "price"
      ],
      "metadata": {
        "colab": {
          "base_uri": "https://localhost:8080/"
        },
        "id": "shWIYJNJcB_y",
        "outputId": "4bad8e79-e45b-4e98-cda5-969607bc2025"
      },
      "execution_count": 25,
      "outputs": [
        {
          "output_type": "execute_result",
          "data": {
            "text/plain": [
              "34000"
            ]
          },
          "metadata": {},
          "execution_count": 25
        }
      ]
    },
    {
      "cell_type": "markdown",
      "source": [
        "### 정보 총 정리"
      ],
      "metadata": {
        "id": "OFNGwy_Gcx_Z"
      }
    },
    {
      "cell_type": "code",
      "source": [
        "data = []\n",
        "for i in range(1, 11):\n",
        "    base_url = 'https://www.hanbit.co.kr'\n",
        "    sub_url = '/academy/books/new_book_list.html'\n",
        "    url = base_url + sub_url + '?page=' + str(i)\n",
        "    req = requests.get(url)\n",
        "\n",
        "    lis = soup.select('li.sub_book_list')\n",
        "    for li in lis:\n",
        "        href = li.find('a')['href']\n",
        "        sub_req = requests.get(base_url + href)\n",
        "        sub_soup = BeautifulSoup(sub_req.text, 'html.parser')\n",
        "        title = sub_soup.select_one('.store_product_info_box > h3').get_text().strip()\n",
        "        info_lis = sub_soup.select('.info_list > li')\n",
        "        info_dict = {}\n",
        "\n",
        "        for l in info_lis:\n",
        "            key = l.find('strong').get_text().split(' ')[0]\n",
        "            val = l.find('span').get_text().strip()\n",
        "            info_dict[key] = val\n",
        "\n",
        "        author = info_dict['저자']\n",
        "        try:\n",
        "            translator = info_dict['번역']\n",
        "        except:\n",
        "            translator = '-'\n",
        "        date = info_dict['출간']\n",
        "        page = int(info_dict['페이지'].split()[0].replace(',',''))\n",
        "        price = int(sub_soup.select_one('.pbr > strong').get_text().replace(',',''))\n",
        "\n",
        "        data.append([title, author, translator, date, page, price])"
      ],
      "metadata": {
        "id": "3rkLZwidctvv"
      },
      "execution_count": 26,
      "outputs": []
    },
    {
      "cell_type": "code",
      "source": [
        "df = pd.DataFrame(data, columns=['제목','저자','번역','출간일','페이지수','판매가'])\n",
        "df"
      ],
      "metadata": {
        "id": "bOIImOuJeFdU"
      },
      "execution_count": null,
      "outputs": []
    },
    {
      "cell_type": "code",
      "source": [
        ""
      ],
      "metadata": {
        "id": "WeuPN281hBVh"
      },
      "execution_count": null,
      "outputs": []
    },
    {
      "cell_type": "code",
      "source": [
        "#tqdm 써보기\n",
        "base_url = 'https://www.hanbit.co.kr'\n",
        "sub_url = '/academy/books/new_book_list.html'\n",
        "data = []\n",
        "for i in tqdm(range(1, 11)):\n",
        "    url = base_url + sub_url + '?page=' + str(i)\n",
        "    req = requests.get(url)\n",
        "    lis = soup.select('li.sub_book_list')\n",
        "\n",
        "    for li in lis:\n",
        "        href = li.find('a')['href']\n",
        "        sub_req = requests.get(base_url + href)\n",
        "        sub_soup = BeautifulSoup(sub_req.text, 'html.parser')\n",
        "\n",
        "        title = sub_soup.select_one('.store_product_info_box > h3').get_text().strip()\n",
        "        info_lis = sub_soup.select('.info_list > li')\n",
        "        \n",
        "        info_dict = {}\n",
        "        for l in info_lis:\n",
        "            key = l.find('strong').get_text().split(' ')[0]\n",
        "            val = l.find('span').get_text().strip()\n",
        "            info_dict[key] = val\n",
        "\n",
        "        author = info_dict['저자']\n",
        "        try:\n",
        "            translator = info_dict['번역']\n",
        "        except:\n",
        "            translator = '-'\n",
        "        date = info_dict['출간']\n",
        "        page = int(info_dict['페이지'].split()[0].replace(',',''))\n",
        "        price = int(sub_soup.select_one('.pbr > strong').get_text().replace(',',''))\n",
        "\n",
        "        data.append([title, author, translator, date, page, price])"
      ],
      "metadata": {
        "colab": {
          "base_uri": "https://localhost:8080/"
        },
        "id": "ZsJeizQie2fQ",
        "outputId": "35c72944-d7e0-40c6-c80b-7a312f1d3217"
      },
      "execution_count": 28,
      "outputs": [
        {
          "output_type": "stream",
          "name": "stderr",
          "text": [
            "100%|██████████| 10/10 [02:13<00:00, 13.38s/it]\n"
          ]
        }
      ]
    },
    {
      "cell_type": "code",
      "source": [
        "df = pd.DataFrame(data, columns=['제목','저자','번역','출간일','페이지수','판매가'])\n",
        "df"
      ],
      "metadata": {
        "colab": {
          "base_uri": "https://localhost:8080/",
          "height": 1133
        },
        "id": "OamcvVKNfgjh",
        "outputId": "2bef69df-3388-4ade-df8b-e369e03797bd"
      },
      "execution_count": 29,
      "outputs": [
        {
          "output_type": "execute_result",
          "data": {
            "text/plain": [
              "                                            제목  \\\n",
              "0              STEM CookBook, 문제 해결력을 키우는 기계설계   \n",
              "1                                     경영분석(6판)   \n",
              "2        IT CookBook, 기초부터 시작하는 PLC : OMRON NX   \n",
              "3             IT CookBook, 원리로 이해하는 전력전자공학(2판)   \n",
              "4             IT CookBook, TCP/IP 소켓 프로그래밍(2판)   \n",
              "..                                         ...   \n",
              "195  IT CookBook, UI/UX 디자인 이론과 실무 with 어도비 XD   \n",
              "196                 STEM@CookBook, 공학 기초수학(2판)   \n",
              "197         STEM@CookBook, Beer의 정역학과 재료역학(3판)   \n",
              "198                              STEIN 푸리에 해석학   \n",
              "199                          미분적분학 : 기초부터 응용까지   \n",
              "\n",
              "                                                    저자                     번역  \\\n",
              "0                                                  이상범                      -   \n",
              "1                                            장영광 , 송치승                      -   \n",
              "2                                            정완보 , 이진호                      -   \n",
              "3                         원충연 , 김영렬 , 이택기 , 류홍제 , 故정용채                      -   \n",
              "4                                                  김선우                      -   \n",
              "..                                                 ...                    ...   \n",
              "195                                                이영주                      -   \n",
              "196                                                함남우                      -   \n",
              "197  Ferdinand P. Beer , E. Russell Johnston, Jr. ,...  김경식 , 박재균 , 오창국 , 이정휘   \n",
              "198                    ELIAS M. STEIN , RAMI SHAKARCHI    한빛수학교재연구소 , 이상혁(감수)   \n",
              "199                                          수학교재편찬위원회                      -   \n",
              "\n",
              "            출간일  페이지수    판매가  \n",
              "0    2022-08-05   680  34000  \n",
              "1    2022-07-22   556  36000  \n",
              "2    2022-07-18   636  32000  \n",
              "3    2022-07-11   588  30000  \n",
              "4    2022-06-30   600  32000  \n",
              "..          ...   ...    ...  \n",
              "195  2022-05-20   512  30000  \n",
              "196  2022-05-02   484  22000  \n",
              "197  2022-03-22   772  39000  \n",
              "198  2022-03-18   348  38000  \n",
              "199  2022-03-04   680  35000  \n",
              "\n",
              "[200 rows x 6 columns]"
            ],
            "text/html": [
              "\n",
              "  <div id=\"df-817a0939-487e-4905-9a48-ee45339044a2\">\n",
              "    <div class=\"colab-df-container\">\n",
              "      <div>\n",
              "<style scoped>\n",
              "    .dataframe tbody tr th:only-of-type {\n",
              "        vertical-align: middle;\n",
              "    }\n",
              "\n",
              "    .dataframe tbody tr th {\n",
              "        vertical-align: top;\n",
              "    }\n",
              "\n",
              "    .dataframe thead th {\n",
              "        text-align: right;\n",
              "    }\n",
              "</style>\n",
              "<table border=\"1\" class=\"dataframe\">\n",
              "  <thead>\n",
              "    <tr style=\"text-align: right;\">\n",
              "      <th></th>\n",
              "      <th>제목</th>\n",
              "      <th>저자</th>\n",
              "      <th>번역</th>\n",
              "      <th>출간일</th>\n",
              "      <th>페이지수</th>\n",
              "      <th>판매가</th>\n",
              "    </tr>\n",
              "  </thead>\n",
              "  <tbody>\n",
              "    <tr>\n",
              "      <th>0</th>\n",
              "      <td>STEM CookBook, 문제 해결력을 키우는 기계설계</td>\n",
              "      <td>이상범</td>\n",
              "      <td>-</td>\n",
              "      <td>2022-08-05</td>\n",
              "      <td>680</td>\n",
              "      <td>34000</td>\n",
              "    </tr>\n",
              "    <tr>\n",
              "      <th>1</th>\n",
              "      <td>경영분석(6판)</td>\n",
              "      <td>장영광 , 송치승</td>\n",
              "      <td>-</td>\n",
              "      <td>2022-07-22</td>\n",
              "      <td>556</td>\n",
              "      <td>36000</td>\n",
              "    </tr>\n",
              "    <tr>\n",
              "      <th>2</th>\n",
              "      <td>IT CookBook, 기초부터 시작하는 PLC : OMRON NX</td>\n",
              "      <td>정완보 , 이진호</td>\n",
              "      <td>-</td>\n",
              "      <td>2022-07-18</td>\n",
              "      <td>636</td>\n",
              "      <td>32000</td>\n",
              "    </tr>\n",
              "    <tr>\n",
              "      <th>3</th>\n",
              "      <td>IT CookBook, 원리로 이해하는 전력전자공학(2판)</td>\n",
              "      <td>원충연 , 김영렬 , 이택기 , 류홍제 , 故정용채</td>\n",
              "      <td>-</td>\n",
              "      <td>2022-07-11</td>\n",
              "      <td>588</td>\n",
              "      <td>30000</td>\n",
              "    </tr>\n",
              "    <tr>\n",
              "      <th>4</th>\n",
              "      <td>IT CookBook, TCP/IP 소켓 프로그래밍(2판)</td>\n",
              "      <td>김선우</td>\n",
              "      <td>-</td>\n",
              "      <td>2022-06-30</td>\n",
              "      <td>600</td>\n",
              "      <td>32000</td>\n",
              "    </tr>\n",
              "    <tr>\n",
              "      <th>...</th>\n",
              "      <td>...</td>\n",
              "      <td>...</td>\n",
              "      <td>...</td>\n",
              "      <td>...</td>\n",
              "      <td>...</td>\n",
              "      <td>...</td>\n",
              "    </tr>\n",
              "    <tr>\n",
              "      <th>195</th>\n",
              "      <td>IT CookBook, UI/UX 디자인 이론과 실무 with 어도비 XD</td>\n",
              "      <td>이영주</td>\n",
              "      <td>-</td>\n",
              "      <td>2022-05-20</td>\n",
              "      <td>512</td>\n",
              "      <td>30000</td>\n",
              "    </tr>\n",
              "    <tr>\n",
              "      <th>196</th>\n",
              "      <td>STEM@CookBook, 공학 기초수학(2판)</td>\n",
              "      <td>함남우</td>\n",
              "      <td>-</td>\n",
              "      <td>2022-05-02</td>\n",
              "      <td>484</td>\n",
              "      <td>22000</td>\n",
              "    </tr>\n",
              "    <tr>\n",
              "      <th>197</th>\n",
              "      <td>STEM@CookBook, Beer의 정역학과 재료역학(3판)</td>\n",
              "      <td>Ferdinand P. Beer , E. Russell Johnston, Jr. ,...</td>\n",
              "      <td>김경식 , 박재균 , 오창국 , 이정휘</td>\n",
              "      <td>2022-03-22</td>\n",
              "      <td>772</td>\n",
              "      <td>39000</td>\n",
              "    </tr>\n",
              "    <tr>\n",
              "      <th>198</th>\n",
              "      <td>STEIN 푸리에 해석학</td>\n",
              "      <td>ELIAS M. STEIN , RAMI SHAKARCHI</td>\n",
              "      <td>한빛수학교재연구소 , 이상혁(감수)</td>\n",
              "      <td>2022-03-18</td>\n",
              "      <td>348</td>\n",
              "      <td>38000</td>\n",
              "    </tr>\n",
              "    <tr>\n",
              "      <th>199</th>\n",
              "      <td>미분적분학 : 기초부터 응용까지</td>\n",
              "      <td>수학교재편찬위원회</td>\n",
              "      <td>-</td>\n",
              "      <td>2022-03-04</td>\n",
              "      <td>680</td>\n",
              "      <td>35000</td>\n",
              "    </tr>\n",
              "  </tbody>\n",
              "</table>\n",
              "<p>200 rows × 6 columns</p>\n",
              "</div>\n",
              "      <button class=\"colab-df-convert\" onclick=\"convertToInteractive('df-817a0939-487e-4905-9a48-ee45339044a2')\"\n",
              "              title=\"Convert this dataframe to an interactive table.\"\n",
              "              style=\"display:none;\">\n",
              "        \n",
              "  <svg xmlns=\"http://www.w3.org/2000/svg\" height=\"24px\"viewBox=\"0 0 24 24\"\n",
              "       width=\"24px\">\n",
              "    <path d=\"M0 0h24v24H0V0z\" fill=\"none\"/>\n",
              "    <path d=\"M18.56 5.44l.94 2.06.94-2.06 2.06-.94-2.06-.94-.94-2.06-.94 2.06-2.06.94zm-11 1L8.5 8.5l.94-2.06 2.06-.94-2.06-.94L8.5 2.5l-.94 2.06-2.06.94zm10 10l.94 2.06.94-2.06 2.06-.94-2.06-.94-.94-2.06-.94 2.06-2.06.94z\"/><path d=\"M17.41 7.96l-1.37-1.37c-.4-.4-.92-.59-1.43-.59-.52 0-1.04.2-1.43.59L10.3 9.45l-7.72 7.72c-.78.78-.78 2.05 0 2.83L4 21.41c.39.39.9.59 1.41.59.51 0 1.02-.2 1.41-.59l7.78-7.78 2.81-2.81c.8-.78.8-2.07 0-2.86zM5.41 20L4 18.59l7.72-7.72 1.47 1.35L5.41 20z\"/>\n",
              "  </svg>\n",
              "      </button>\n",
              "      \n",
              "  <style>\n",
              "    .colab-df-container {\n",
              "      display:flex;\n",
              "      flex-wrap:wrap;\n",
              "      gap: 12px;\n",
              "    }\n",
              "\n",
              "    .colab-df-convert {\n",
              "      background-color: #E8F0FE;\n",
              "      border: none;\n",
              "      border-radius: 50%;\n",
              "      cursor: pointer;\n",
              "      display: none;\n",
              "      fill: #1967D2;\n",
              "      height: 32px;\n",
              "      padding: 0 0 0 0;\n",
              "      width: 32px;\n",
              "    }\n",
              "\n",
              "    .colab-df-convert:hover {\n",
              "      background-color: #E2EBFA;\n",
              "      box-shadow: 0px 1px 2px rgba(60, 64, 67, 0.3), 0px 1px 3px 1px rgba(60, 64, 67, 0.15);\n",
              "      fill: #174EA6;\n",
              "    }\n",
              "\n",
              "    [theme=dark] .colab-df-convert {\n",
              "      background-color: #3B4455;\n",
              "      fill: #D2E3FC;\n",
              "    }\n",
              "\n",
              "    [theme=dark] .colab-df-convert:hover {\n",
              "      background-color: #434B5C;\n",
              "      box-shadow: 0px 1px 3px 1px rgba(0, 0, 0, 0.15);\n",
              "      filter: drop-shadow(0px 1px 2px rgba(0, 0, 0, 0.3));\n",
              "      fill: #FFFFFF;\n",
              "    }\n",
              "  </style>\n",
              "\n",
              "      <script>\n",
              "        const buttonEl =\n",
              "          document.querySelector('#df-817a0939-487e-4905-9a48-ee45339044a2 button.colab-df-convert');\n",
              "        buttonEl.style.display =\n",
              "          google.colab.kernel.accessAllowed ? 'block' : 'none';\n",
              "\n",
              "        async function convertToInteractive(key) {\n",
              "          const element = document.querySelector('#df-817a0939-487e-4905-9a48-ee45339044a2');\n",
              "          const dataTable =\n",
              "            await google.colab.kernel.invokeFunction('convertToInteractive',\n",
              "                                                     [key], {});\n",
              "          if (!dataTable) return;\n",
              "\n",
              "          const docLinkHtml = 'Like what you see? Visit the ' +\n",
              "            '<a target=\"_blank\" href=https://colab.research.google.com/notebooks/data_table.ipynb>data table notebook</a>'\n",
              "            + ' to learn more about interactive tables.';\n",
              "          element.innerHTML = '';\n",
              "          dataTable['output_type'] = 'display_data';\n",
              "          await google.colab.output.renderOutput(dataTable, element);\n",
              "          const docLink = document.createElement('div');\n",
              "          docLink.innerHTML = docLinkHtml;\n",
              "          element.appendChild(docLink);\n",
              "        }\n",
              "      </script>\n",
              "    </div>\n",
              "  </div>\n",
              "  "
            ]
          },
          "metadata": {},
          "execution_count": 29
        }
      ]
    },
    {
      "cell_type": "code",
      "source": [
        "import numpy as np\n",
        "len(np.unique(df['제목']))\n",
        "#어디선가 잘못됨.."
      ],
      "metadata": {
        "colab": {
          "base_uri": "https://localhost:8080/"
        },
        "id": "ZhU6_xmnfzOp",
        "outputId": "006f6024-553f-4071-ffae-ca28ca2aaffd"
      },
      "execution_count": 31,
      "outputs": [
        {
          "output_type": "execute_result",
          "data": {
            "text/plain": [
              "20"
            ]
          },
          "metadata": {},
          "execution_count": 31
        }
      ]
    },
    {
      "cell_type": "code",
      "source": [
        "#tqdm 써보기\n",
        "base_url = 'https://www.hanbit.co.kr'\n",
        "sub_url = '/academy/books/new_book_list.html'\n",
        "data = []\n",
        "for i in tqdm(range(1, 11)):\n",
        "    url = base_url + sub_url + '?page=' + str(i)\n",
        "    req = requests.get(url)\n",
        "    soup = BeautifulSoup(req.text, 'html.parser') #soup을 새로 만들지 않았음.\n",
        "    lis = soup.select('li.sub_book_list')\n",
        "\n",
        "    for li in lis:\n",
        "        href = li.find('a')['href']\n",
        "        sub_req = requests.get(base_url + href)\n",
        "        sub_soup = BeautifulSoup(sub_req.text, 'html.parser')\n",
        "\n",
        "        title = sub_soup.select_one('.store_product_info_box > h3').get_text().strip()\n",
        "        info_lis = sub_soup.select('.info_list > li')\n",
        "        \n",
        "        info_dict = {}\n",
        "        for l in info_lis:\n",
        "            key = l.find('strong').get_text().split(' ')[0]\n",
        "            val = l.find('span').get_text().strip()\n",
        "            info_dict[key] = val\n",
        "\n",
        "        author = info_dict['저자']\n",
        "        try:\n",
        "            translator = info_dict['번역']\n",
        "        except:\n",
        "            translator = '-'\n",
        "        date = info_dict['출간']\n",
        "        page = int(info_dict['페이지'].split()[0].replace(',',''))\n",
        "        price = int(sub_soup.select_one('.pbr > strong').get_text().replace(',',''))\n",
        "\n",
        "        data.append([title, author, translator, date, page, price])"
      ],
      "metadata": {
        "colab": {
          "base_uri": "https://localhost:8080/"
        },
        "id": "vXwzBliTinNJ",
        "outputId": "d5561459-a9aa-4755-c603-f1d08d0e9bb9"
      },
      "execution_count": 33,
      "outputs": [
        {
          "output_type": "stream",
          "name": "stderr",
          "text": [
            "100%|██████████| 10/10 [01:50<00:00, 11.01s/it]\n"
          ]
        }
      ]
    },
    {
      "cell_type": "code",
      "source": [
        "df = pd.DataFrame(data, columns=['제목','저자','번역','출간일','페이지수','판매가'])\n",
        "df"
      ],
      "metadata": {
        "colab": {
          "base_uri": "https://localhost:8080/",
          "height": 658
        },
        "id": "B7E11_qNkH7R",
        "outputId": "88cc799c-8117-435b-f697-1cf0aabad42f"
      },
      "execution_count": 34,
      "outputs": [
        {
          "output_type": "execute_result",
          "data": {
            "text/plain": [
              "                                        제목                            저자  \\\n",
              "0          STEM CookBook, 문제 해결력을 키우는 기계설계                           이상범   \n",
              "1                                 경영분석(6판)                     장영광 , 송치승   \n",
              "2    IT CookBook, 기초부터 시작하는 PLC : OMRON NX                     정완보 , 이진호   \n",
              "3         IT CookBook, 원리로 이해하는 전력전자공학(2판)  원충연 , 김영렬 , 이택기 , 류홍제 , 故정용채   \n",
              "4         IT CookBook, TCP/IP 소켓 프로그래밍(2판)                           김선우   \n",
              "..                                     ...                           ...   \n",
              "195               IT Cookbook, 처음 만나는 전자회로                           황형수   \n",
              "196                       스트랭 미분방정식과 선형대수학                Gilbert Strang   \n",
              "197               IT CookBook, 네트워크 개론(3판)                           진혜진   \n",
              "198             IT CookBook, 텐서플로로 배우는 딥러닝         박혜정 , 석경하 , 심주용 , 황창하   \n",
              "199                IT CookBook, 파워포인트 2016                           김지연   \n",
              "\n",
              "            번역         출간일  페이지수    판매가  \n",
              "0            -  2022-08-05   680  34000  \n",
              "1            -  2022-07-22   556  36000  \n",
              "2            -  2022-07-18   636  32000  \n",
              "3            -  2022-07-11   588  30000  \n",
              "4            -  2022-06-30   600  32000  \n",
              "..         ...         ...   ...    ...  \n",
              "195          -  2019-07-10   440  24000  \n",
              "196  한빛수학교재연구소  2019-07-09   552  30000  \n",
              "197          -  2019-07-05   516  25000  \n",
              "198          -  2019-06-30   448  27000  \n",
              "199          -  2019-06-29   420  19000  \n",
              "\n",
              "[200 rows x 6 columns]"
            ],
            "text/html": [
              "\n",
              "  <div id=\"df-83149ed6-9140-4988-b084-3b1fa2b4b5f3\">\n",
              "    <div class=\"colab-df-container\">\n",
              "      <div>\n",
              "<style scoped>\n",
              "    .dataframe tbody tr th:only-of-type {\n",
              "        vertical-align: middle;\n",
              "    }\n",
              "\n",
              "    .dataframe tbody tr th {\n",
              "        vertical-align: top;\n",
              "    }\n",
              "\n",
              "    .dataframe thead th {\n",
              "        text-align: right;\n",
              "    }\n",
              "</style>\n",
              "<table border=\"1\" class=\"dataframe\">\n",
              "  <thead>\n",
              "    <tr style=\"text-align: right;\">\n",
              "      <th></th>\n",
              "      <th>제목</th>\n",
              "      <th>저자</th>\n",
              "      <th>번역</th>\n",
              "      <th>출간일</th>\n",
              "      <th>페이지수</th>\n",
              "      <th>판매가</th>\n",
              "    </tr>\n",
              "  </thead>\n",
              "  <tbody>\n",
              "    <tr>\n",
              "      <th>0</th>\n",
              "      <td>STEM CookBook, 문제 해결력을 키우는 기계설계</td>\n",
              "      <td>이상범</td>\n",
              "      <td>-</td>\n",
              "      <td>2022-08-05</td>\n",
              "      <td>680</td>\n",
              "      <td>34000</td>\n",
              "    </tr>\n",
              "    <tr>\n",
              "      <th>1</th>\n",
              "      <td>경영분석(6판)</td>\n",
              "      <td>장영광 , 송치승</td>\n",
              "      <td>-</td>\n",
              "      <td>2022-07-22</td>\n",
              "      <td>556</td>\n",
              "      <td>36000</td>\n",
              "    </tr>\n",
              "    <tr>\n",
              "      <th>2</th>\n",
              "      <td>IT CookBook, 기초부터 시작하는 PLC : OMRON NX</td>\n",
              "      <td>정완보 , 이진호</td>\n",
              "      <td>-</td>\n",
              "      <td>2022-07-18</td>\n",
              "      <td>636</td>\n",
              "      <td>32000</td>\n",
              "    </tr>\n",
              "    <tr>\n",
              "      <th>3</th>\n",
              "      <td>IT CookBook, 원리로 이해하는 전력전자공학(2판)</td>\n",
              "      <td>원충연 , 김영렬 , 이택기 , 류홍제 , 故정용채</td>\n",
              "      <td>-</td>\n",
              "      <td>2022-07-11</td>\n",
              "      <td>588</td>\n",
              "      <td>30000</td>\n",
              "    </tr>\n",
              "    <tr>\n",
              "      <th>4</th>\n",
              "      <td>IT CookBook, TCP/IP 소켓 프로그래밍(2판)</td>\n",
              "      <td>김선우</td>\n",
              "      <td>-</td>\n",
              "      <td>2022-06-30</td>\n",
              "      <td>600</td>\n",
              "      <td>32000</td>\n",
              "    </tr>\n",
              "    <tr>\n",
              "      <th>...</th>\n",
              "      <td>...</td>\n",
              "      <td>...</td>\n",
              "      <td>...</td>\n",
              "      <td>...</td>\n",
              "      <td>...</td>\n",
              "      <td>...</td>\n",
              "    </tr>\n",
              "    <tr>\n",
              "      <th>195</th>\n",
              "      <td>IT Cookbook, 처음 만나는 전자회로</td>\n",
              "      <td>황형수</td>\n",
              "      <td>-</td>\n",
              "      <td>2019-07-10</td>\n",
              "      <td>440</td>\n",
              "      <td>24000</td>\n",
              "    </tr>\n",
              "    <tr>\n",
              "      <th>196</th>\n",
              "      <td>스트랭 미분방정식과 선형대수학</td>\n",
              "      <td>Gilbert Strang</td>\n",
              "      <td>한빛수학교재연구소</td>\n",
              "      <td>2019-07-09</td>\n",
              "      <td>552</td>\n",
              "      <td>30000</td>\n",
              "    </tr>\n",
              "    <tr>\n",
              "      <th>197</th>\n",
              "      <td>IT CookBook, 네트워크 개론(3판)</td>\n",
              "      <td>진혜진</td>\n",
              "      <td>-</td>\n",
              "      <td>2019-07-05</td>\n",
              "      <td>516</td>\n",
              "      <td>25000</td>\n",
              "    </tr>\n",
              "    <tr>\n",
              "      <th>198</th>\n",
              "      <td>IT CookBook, 텐서플로로 배우는 딥러닝</td>\n",
              "      <td>박혜정 , 석경하 , 심주용 , 황창하</td>\n",
              "      <td>-</td>\n",
              "      <td>2019-06-30</td>\n",
              "      <td>448</td>\n",
              "      <td>27000</td>\n",
              "    </tr>\n",
              "    <tr>\n",
              "      <th>199</th>\n",
              "      <td>IT CookBook, 파워포인트 2016</td>\n",
              "      <td>김지연</td>\n",
              "      <td>-</td>\n",
              "      <td>2019-06-29</td>\n",
              "      <td>420</td>\n",
              "      <td>19000</td>\n",
              "    </tr>\n",
              "  </tbody>\n",
              "</table>\n",
              "<p>200 rows × 6 columns</p>\n",
              "</div>\n",
              "      <button class=\"colab-df-convert\" onclick=\"convertToInteractive('df-83149ed6-9140-4988-b084-3b1fa2b4b5f3')\"\n",
              "              title=\"Convert this dataframe to an interactive table.\"\n",
              "              style=\"display:none;\">\n",
              "        \n",
              "  <svg xmlns=\"http://www.w3.org/2000/svg\" height=\"24px\"viewBox=\"0 0 24 24\"\n",
              "       width=\"24px\">\n",
              "    <path d=\"M0 0h24v24H0V0z\" fill=\"none\"/>\n",
              "    <path d=\"M18.56 5.44l.94 2.06.94-2.06 2.06-.94-2.06-.94-.94-2.06-.94 2.06-2.06.94zm-11 1L8.5 8.5l.94-2.06 2.06-.94-2.06-.94L8.5 2.5l-.94 2.06-2.06.94zm10 10l.94 2.06.94-2.06 2.06-.94-2.06-.94-.94-2.06-.94 2.06-2.06.94z\"/><path d=\"M17.41 7.96l-1.37-1.37c-.4-.4-.92-.59-1.43-.59-.52 0-1.04.2-1.43.59L10.3 9.45l-7.72 7.72c-.78.78-.78 2.05 0 2.83L4 21.41c.39.39.9.59 1.41.59.51 0 1.02-.2 1.41-.59l7.78-7.78 2.81-2.81c.8-.78.8-2.07 0-2.86zM5.41 20L4 18.59l7.72-7.72 1.47 1.35L5.41 20z\"/>\n",
              "  </svg>\n",
              "      </button>\n",
              "      \n",
              "  <style>\n",
              "    .colab-df-container {\n",
              "      display:flex;\n",
              "      flex-wrap:wrap;\n",
              "      gap: 12px;\n",
              "    }\n",
              "\n",
              "    .colab-df-convert {\n",
              "      background-color: #E8F0FE;\n",
              "      border: none;\n",
              "      border-radius: 50%;\n",
              "      cursor: pointer;\n",
              "      display: none;\n",
              "      fill: #1967D2;\n",
              "      height: 32px;\n",
              "      padding: 0 0 0 0;\n",
              "      width: 32px;\n",
              "    }\n",
              "\n",
              "    .colab-df-convert:hover {\n",
              "      background-color: #E2EBFA;\n",
              "      box-shadow: 0px 1px 2px rgba(60, 64, 67, 0.3), 0px 1px 3px 1px rgba(60, 64, 67, 0.15);\n",
              "      fill: #174EA6;\n",
              "    }\n",
              "\n",
              "    [theme=dark] .colab-df-convert {\n",
              "      background-color: #3B4455;\n",
              "      fill: #D2E3FC;\n",
              "    }\n",
              "\n",
              "    [theme=dark] .colab-df-convert:hover {\n",
              "      background-color: #434B5C;\n",
              "      box-shadow: 0px 1px 3px 1px rgba(0, 0, 0, 0.15);\n",
              "      filter: drop-shadow(0px 1px 2px rgba(0, 0, 0, 0.3));\n",
              "      fill: #FFFFFF;\n",
              "    }\n",
              "  </style>\n",
              "\n",
              "      <script>\n",
              "        const buttonEl =\n",
              "          document.querySelector('#df-83149ed6-9140-4988-b084-3b1fa2b4b5f3 button.colab-df-convert');\n",
              "        buttonEl.style.display =\n",
              "          google.colab.kernel.accessAllowed ? 'block' : 'none';\n",
              "\n",
              "        async function convertToInteractive(key) {\n",
              "          const element = document.querySelector('#df-83149ed6-9140-4988-b084-3b1fa2b4b5f3');\n",
              "          const dataTable =\n",
              "            await google.colab.kernel.invokeFunction('convertToInteractive',\n",
              "                                                     [key], {});\n",
              "          if (!dataTable) return;\n",
              "\n",
              "          const docLinkHtml = 'Like what you see? Visit the ' +\n",
              "            '<a target=\"_blank\" href=https://colab.research.google.com/notebooks/data_table.ipynb>data table notebook</a>'\n",
              "            + ' to learn more about interactive tables.';\n",
              "          element.innerHTML = '';\n",
              "          dataTable['output_type'] = 'display_data';\n",
              "          await google.colab.output.renderOutput(dataTable, element);\n",
              "          const docLink = document.createElement('div');\n",
              "          docLink.innerHTML = docLinkHtml;\n",
              "          element.appendChild(docLink);\n",
              "        }\n",
              "      </script>\n",
              "    </div>\n",
              "  </div>\n",
              "  "
            ]
          },
          "metadata": {},
          "execution_count": 34
        }
      ]
    },
    {
      "cell_type": "code",
      "source": [
        "len(np.unique(df['제목']))"
      ],
      "metadata": {
        "colab": {
          "base_uri": "https://localhost:8080/"
        },
        "id": "5aDpgz7QkKRK",
        "outputId": "4e606ae8-c34d-4390-c39a-8f93185cc01b"
      },
      "execution_count": 38,
      "outputs": [
        {
          "output_type": "execute_result",
          "data": {
            "text/plain": [
              "199"
            ]
          },
          "metadata": {},
          "execution_count": 38
        }
      ]
    },
    {
      "cell_type": "code",
      "source": [
        "df.to_csv('한빛신간도서(220808).csv', index= False)"
      ],
      "metadata": {
        "id": "A_PMsPodhUMI"
      },
      "execution_count": 39,
      "outputs": []
    },
    {
      "cell_type": "code",
      "source": [
        ""
      ],
      "metadata": {
        "id": "IFb4TTnshWBQ"
      },
      "execution_count": null,
      "outputs": []
    }
  ]
}