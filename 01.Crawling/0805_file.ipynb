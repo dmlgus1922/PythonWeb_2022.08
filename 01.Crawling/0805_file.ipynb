{
  "cells": [
    {
      "cell_type": "markdown",
      "metadata": {
        "id": "uI_jrMoZypUs"
      },
      "source": [
        "# HTML 파일 열어서 원하는 정보 가져오기\n"
      ]
    },
    {
      "cell_type": "code",
      "execution_count": 2,
      "metadata": {
        "id": "_vwZX3czkxd_"
      },
      "outputs": [],
      "source": [
        "from bs4 import BeautifulSoup\n",
        "with open('exaple.html') as f:\n",
        "    soup = BeautifulSoup(f, 'html.parser')"
      ]
    },
    {
      "cell_type": "markdown",
      "metadata": {
        "id": "9SO7CCXGqI5_"
      },
      "source": [
        "### 1. 태그 정보: find(), find_all()"
      ]
    },
    {
      "cell_type": "code",
      "execution_count": 3,
      "metadata": {
        "colab": {
          "base_uri": "https://localhost:8080/"
        },
        "id": "aEYS9BrflGPt",
        "outputId": "1d3a056e-537f-4f03-fff5-6b04b2c111d5"
      },
      "outputs": [
        {
          "data": {
            "text/plain": [
              "<div>\n",
              "<p>a</p>\n",
              "<p>b</p>\n",
              "<p>c</p>\n",
              "</div>"
            ]
          },
          "execution_count": 3,
          "metadata": {},
          "output_type": "execute_result"
        }
      ],
      "source": [
        "#첫번째 div 태그의 내용을 가져오기\n",
        "first_div = soup.find('div')\n",
        "first_div #스트링으로 반환"
      ]
    },
    {
      "cell_type": "code",
      "execution_count": 4,
      "metadata": {
        "colab": {
          "base_uri": "https://localhost:8080/"
        },
        "id": "h5jfye-2pYyp",
        "outputId": "78f678d5-4f52-44cd-a222-9ee56e1d31d3"
      },
      "outputs": [
        {
          "data": {
            "text/plain": [
              "[<p>a</p>, <p>b</p>, <p>c</p>]"
            ]
          },
          "execution_count": 4,
          "metadata": {},
          "output_type": "execute_result"
        }
      ],
      "source": [
        "# 해당되는 태그를 모두 가져오기\n",
        "ps = first_div.find_all('p')\n",
        "ps #리스트로 반환"
      ]
    },
    {
      "cell_type": "code",
      "execution_count": 6,
      "metadata": {
        "colab": {
          "base_uri": "https://localhost:8080/"
        },
        "id": "533bfsu2pxvo",
        "outputId": "693fc4f4-8c4f-46a6-a053-2c98b2eb0fe0"
      },
      "outputs": [
        {
          "name": "stdout",
          "output_type": "stream",
          "text": [
            "<p>a</p>\n",
            "<p>b</p>\n",
            "<p>c</p>\n"
          ]
        }
      ],
      "source": [
        "for ptag in ps:\n",
        "    print(ptag)"
      ]
    },
    {
      "cell_type": "code",
      "execution_count": 8,
      "metadata": {
        "colab": {
          "base_uri": "https://localhost:8080/"
        },
        "id": "Cu5t4nEEp6Mv",
        "outputId": "cc998412-623f-489b-8c42-5ffb1f8ccadf"
      },
      "outputs": [
        {
          "data": {
            "text/plain": [
              "<p>b</p>"
            ]
          },
          "execution_count": 8,
          "metadata": {},
          "output_type": "execute_result"
        }
      ],
      "source": [
        "ps[1]"
      ]
    },
    {
      "cell_type": "markdown",
      "metadata": {
        "id": "EEw_pWVHqPnQ"
      },
      "source": [
        "### 2. CSS Selector: select_one(), select()"
      ]
    },
    {
      "cell_type": "code",
      "execution_count": 10,
      "metadata": {
        "colab": {
          "base_uri": "https://localhost:8080/"
        },
        "id": "52yfRUhjqBFy",
        "outputId": "a262c657-32e1-4a40-f8f0-afa703cccff2"
      },
      "outputs": [
        {
          "data": {
            "text/plain": [
              "<div class=\"ex_class\">\n",
              "<p></p>\n",
              "<p></p>\n",
              "<p></p>\n",
              "</div>"
            ]
          },
          "execution_count": 10,
          "metadata": {},
          "output_type": "execute_result"
        }
      ],
      "source": [
        "# class명이 ex_class인 태그의 정보를 가져오기\n",
        "second_div = soup.select_one('.ex_class') #클래스는 ., 아이디는 #\n",
        "second_div"
      ]
    },
    {
      "cell_type": "code",
      "execution_count": 11,
      "metadata": {
        "colab": {
          "base_uri": "https://localhost:8080/"
        },
        "id": "feJbj15Hq6vC",
        "outputId": "fc4e94a5-4ea5-4293-f077-f3e98c17a739"
      },
      "outputs": [
        {
          "data": {
            "text/plain": [
              "<div id=\"ex_id\">\n",
              "<p></p>\n",
              "<p></p>\n",
              "<p></p>\n",
              "</div>"
            ]
          },
          "execution_count": 11,
          "metadata": {},
          "output_type": "execute_result"
        }
      ],
      "source": [
        "# id명이 ex_id인 태그의 정보를 가져오기\n",
        "third_div = soup.select_one('#ex_id')\n",
        "third_div"
      ]
    },
    {
      "cell_type": "code",
      "execution_count": 13,
      "metadata": {
        "colab": {
          "base_uri": "https://localhost:8080/"
        },
        "id": "l8iuGxg1rKpe",
        "outputId": "1837c758-f281-4cdc-84da-e06ae0a0fbd2"
      },
      "outputs": [
        {
          "data": {
            "text/plain": [
              "(3, [<div>\n",
              "  <p>a</p>\n",
              "  <p>b</p>\n",
              "  <p>c</p>\n",
              "  </div>, <div class=\"ex_class\">\n",
              "  <p></p>\n",
              "  <p></p>\n",
              "  <p></p>\n",
              "  </div>, <div id=\"ex_id\">\n",
              "  <p></p>\n",
              "  <p></p>\n",
              "  <p></p>\n",
              "  </div>])"
            ]
          },
          "execution_count": 13,
          "metadata": {},
          "output_type": "execute_result"
        }
      ],
      "source": [
        "all_divs = soup.select('div') #div 태그는 다 가져오는 것\n",
        "len(all_divs), all_divs"
      ]
    },
    {
      "cell_type": "code",
      "execution_count": 14,
      "metadata": {
        "colab": {
          "base_uri": "https://localhost:8080/"
        },
        "id": "LgRKI5Jnrl4I",
        "outputId": "aa99d9ca-d37a-4ef0-b42c-c929dfb782e5"
      },
      "outputs": [
        {
          "data": {
            "text/plain": [
              "[<p>a</p>,\n",
              " <p>b</p>,\n",
              " <p>c</p>,\n",
              " <p></p>,\n",
              " <p></p>,\n",
              " <p></p>,\n",
              " <p></p>,\n",
              " <p></p>,\n",
              " <p></p>,\n",
              " <p>This is a paragraph.</p>,\n",
              " <p>This is another paragraph.</p>]"
            ]
          },
          "execution_count": 14,
          "metadata": {},
          "output_type": "execute_result"
        }
      ],
      "source": [
        "'''\n",
        "tag1 tag2  자손 관계\n",
        "tag1, tag2 OR관계\n",
        "tag1 > tag2 부자 관계\n",
        "\n",
        "CSS selector를 쓸 때 사용\n",
        "'''"
      ]
    },
    {
      "cell_type": "code",
      "execution_count": 15,
      "metadata": {
        "colab": {
          "base_uri": "https://localhost:8080/"
        },
        "id": "C1pwwyFSsKDY",
        "outputId": "692089e7-1995-4cfe-cd6c-b4b89c2b5a7b"
      },
      "outputs": [
        {
          "data": {
            "text/plain": [
              "(11,\n",
              " [<p>a</p>,\n",
              "  <p>b</p>,\n",
              "  <p>c</p>,\n",
              "  <p></p>,\n",
              "  <p></p>,\n",
              "  <p></p>,\n",
              "  <p></p>,\n",
              "  <p></p>,\n",
              "  <p></p>,\n",
              "  <p>This is a paragraph.</p>,\n",
              "  <p>This is another paragraph.</p>])"
            ]
          },
          "execution_count": 15,
          "metadata": {},
          "output_type": "execute_result"
        }
      ],
      "source": [
        "# 모든 p태그 가져오기\n",
        "all_ps = soup.find_all('p')\n",
        "len(all_ps), all_ps"
      ]
    },
    {
      "cell_type": "code",
      "execution_count": 16,
      "metadata": {
        "colab": {
          "base_uri": "https://localhost:8080/"
        },
        "id": "RGUcPR1wsVGY",
        "outputId": "c992343a-c3cb-440b-a717-4a412d86d7c1"
      },
      "outputs": [
        {
          "data": {
            "text/plain": [
              "(9,\n",
              " [<p>a</p>,\n",
              "  <p>b</p>,\n",
              "  <p>c</p>,\n",
              "  <p></p>,\n",
              "  <p></p>,\n",
              "  <p></p>,\n",
              "  <p></p>,\n",
              "  <p></p>,\n",
              "  <p></p>])"
            ]
          },
          "execution_count": 16,
          "metadata": {},
          "output_type": "execute_result"
        }
      ],
      "source": [
        "# div의 자식인 p 태그 \n",
        "div_ps = soup.select('div p')\n",
        "len(div_ps), div_ps"
      ]
    },
    {
      "cell_type": "markdown",
      "metadata": {
        "id": "cX0DdA6wstTg"
      },
      "source": [
        "### 3. 결과"
      ]
    },
    {
      "cell_type": "code",
      "execution_count": 18,
      "metadata": {
        "colab": {
          "base_uri": "https://localhost:8080/",
          "height": 36
        },
        "id": "QF93fDCysgbb",
        "outputId": "3a5fc94a-5125-440b-8724-215f9983a126"
      },
      "outputs": [
        {
          "data": {
            "application/vnd.google.colaboratory.intrinsic+json": {
              "type": "string"
            },
            "text/plain": [
              "'This is a heading.'"
            ]
          },
          "execution_count": 18,
          "metadata": {},
          "output_type": "execute_result"
        }
      ],
      "source": [
        "# 태그 안의 내용만 가져오기\n",
        "h1_info = soup.find('h1').get_text()\n",
        "h1_info"
      ]
    },
    {
      "cell_type": "code",
      "execution_count": 19,
      "metadata": {
        "colab": {
          "base_uri": "https://localhost:8080/",
          "height": 36
        },
        "id": "8Et8uBvzs7kw",
        "outputId": "2fde10a4-2981-480d-e6b1-05c8111fd52d"
      },
      "outputs": [
        {
          "data": {
            "application/vnd.google.colaboratory.intrinsic+json": {
              "type": "string"
            },
            "text/plain": [
              "'This is a heading.'"
            ]
          },
          "execution_count": 19,
          "metadata": {},
          "output_type": "execute_result"
        }
      ],
      "source": [
        "# 메소드가 아님.\n",
        "soup.find('h1').string"
      ]
    },
    {
      "cell_type": "code",
      "execution_count": 22,
      "metadata": {
        "colab": {
          "base_uri": "https://localhost:8080/"
        },
        "id": "TsB3dv02tLw2",
        "outputId": "3b95160a-00b9-4a96-f0df-546e0815a545"
      },
      "outputs": [
        {
          "name": "stdout",
          "output_type": "stream",
          "text": [
            "None\n"
          ]
        }
      ],
      "source": [
        "print(second_div.string)"
      ]
    },
    {
      "cell_type": "code",
      "execution_count": 23,
      "metadata": {
        "colab": {
          "base_uri": "https://localhost:8080/"
        },
        "id": "ctqlePbdtWnC",
        "outputId": "2117f2dc-05df-4376-a4b3-f27c65b67977"
      },
      "outputs": [
        {
          "name": "stdout",
          "output_type": "stream",
          "text": [
            "\n",
            "\n",
            "\n",
            "\n",
            "\n"
          ]
        }
      ],
      "source": [
        "print(second_div.get_text())"
      ]
    },
    {
      "cell_type": "code",
      "execution_count": 24,
      "metadata": {
        "colab": {
          "base_uri": "https://localhost:8080/",
          "height": 36
        },
        "id": "OvSr1RLmte5Y",
        "outputId": "8f9b7016-3f1b-4dbf-9d19-3a8da00b27a7"
      },
      "outputs": [
        {
          "data": {
            "application/vnd.google.colaboratory.intrinsic+json": {
              "type": "string"
            },
            "text/plain": [
              "'Naver'"
            ]
          },
          "execution_count": 24,
          "metadata": {},
          "output_type": "execute_result"
        }
      ],
      "source": [
        "soup.find('a').get_text()"
      ]
    },
    {
      "cell_type": "code",
      "execution_count": 25,
      "metadata": {
        "colab": {
          "base_uri": "https://localhost:8080/",
          "height": 36
        },
        "id": "_DZvebHbtpvf",
        "outputId": "fbd5d638-b2f8-4ad9-f6c6-484d7040c6b7"
      },
      "outputs": [
        {
          "data": {
            "application/vnd.google.colaboratory.intrinsic+json": {
              "type": "string"
            },
            "text/plain": [
              "'www.naver.com'"
            ]
          },
          "execution_count": 25,
          "metadata": {},
          "output_type": "execute_result"
        }
      ],
      "source": [
        "# 앵커 태그의 속성값\n",
        "soup.find('a')['href']"
      ]
    }
  ],
  "metadata": {
    "colab": {
      "collapsed_sections": [],
      "name": "0805웹.ipynb",
      "provenance": []
    },
    "kernelspec": {
      "display_name": "Python 3.10.5 64-bit (system)",
      "language": "python",
      "name": "python3"
    },
    "language_info": {
      "name": "python",
      "version": "3.10.5"
    },
    "vscode": {
      "interpreter": {
        "hash": "9929fda675d5fea0399aa416ca44bc90cf4479de5a91f863b5c693b488252729"
      }
    }
  },
  "nbformat": 4,
  "nbformat_minor": 0
}
