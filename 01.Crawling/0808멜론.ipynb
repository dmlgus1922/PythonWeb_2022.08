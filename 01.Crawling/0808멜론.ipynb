{
  "cells": [
    {
      "cell_type": "code",
      "execution_count": 1,
      "metadata": {
        "colab": {
          "base_uri": "https://localhost:8080/",
          "height": 36
        },
        "id": "1JZYgN3Gyz3Z",
        "outputId": "cc1cfd63-795e-41a6-86e0-0137a9b83d68"
      },
      "outputs": [
        {
          "data": {
            "text/plain": [
              "''"
            ]
          },
          "execution_count": 1,
          "metadata": {},
          "output_type": "execute_result"
        }
      ],
      "source": [
        "import requests\n",
        "url = 'https://www.melon.com/chart/index.htm'\n",
        "req = requests.get(url)\n",
        "req.text\n",
        "#정보가 막혀있다."
      ]
    },
    {
      "cell_type": "code",
      "execution_count": 3,
      "metadata": {
        "colab": {
          "base_uri": "https://localhost:8080/",
          "height": 170
        },
        "id": "zmVDsCl11GSn",
        "outputId": "83254c5c-0763-427c-f316-f129f90e9997"
      },
      "outputs": [],
      "source": [
        "#user agent 홈페이지에서 가져온 정보\n",
        "header = {'User-Agent':'Mozilla/5.0 (Windows NT 10.0; Win64; x64) AppleWebKit/537.36 (KHTML, like Gecko) Chrome/103.0.0.0 Safari/537.36'}\n",
        "req = requests.get(url, headers=header) #사람이 크롤링한다고 알려 허용 받는 고런 코드"
      ]
    },
    {
      "cell_type": "code",
      "execution_count": 4,
      "metadata": {
        "id": "STwhgqqZ1MNN"
      },
      "outputs": [],
      "source": [
        "from bs4 import BeautifulSoup\n",
        "soup = BeautifulSoup(req.text, 'html.parser')"
      ]
    },
    {
      "cell_type": "markdown",
      "metadata": {
        "id": "wKnr6XsA1u1O"
      },
      "source": [
        "원하는 목록 찾기"
      ]
    },
    {
      "cell_type": "code",
      "execution_count": 5,
      "metadata": {
        "colab": {
          "base_uri": "https://localhost:8080/"
        },
        "id": "OTS9K2zC1Of4",
        "outputId": "4d5735b8-2e7a-480c-879a-b4f1ca845984"
      },
      "outputs": [
        {
          "data": {
            "text/plain": [
              "100"
            ]
          },
          "execution_count": 5,
          "metadata": {},
          "output_type": "execute_result"
        }
      ],
      "source": [
        "trs = soup.select('#frm > div > table > tbody > tr') # copy selector\n",
        "len(trs)"
      ]
    },
    {
      "cell_type": "markdown",
      "metadata": {
        "id": "YJsz6sgc1wXN"
      },
      "source": [
        "하나를 선택해서 원하는 정보 추출하기"
      ]
    },
    {
      "cell_type": "code",
      "execution_count": 7,
      "metadata": {
        "id": "_EY8dQWj1rqh"
      },
      "outputs": [],
      "source": [
        "tr = trs[0]"
      ]
    },
    {
      "cell_type": "code",
      "execution_count": 11,
      "metadata": {
        "colab": {
          "base_uri": "https://localhost:8080/"
        },
        "id": "zaborFtm2UNc",
        "outputId": "c12602e1-1227-4199-92ef-a57b9f0378e0"
      },
      "outputs": [
        {
          "data": {
            "text/plain": [
              "1"
            ]
          },
          "execution_count": 11,
          "metadata": {},
          "output_type": "execute_result"
        }
      ],
      "source": [
        "rank = int(tr.select_one('.rank').get_text().strip())\n",
        "rank"
      ]
    },
    {
      "cell_type": "code",
      "execution_count": 12,
      "metadata": {
        "colab": {
          "base_uri": "https://localhost:8080/",
          "height": 36
        },
        "id": "0spc0t9R27__",
        "outputId": "e4ece7c9-c57d-4929-c70e-f86123a1345f"
      },
      "outputs": [
        {
          "data": {
            "application/vnd.google.colaboratory.intrinsic+json": {
              "type": "string"
            },
            "text/plain": [
              "'그때 그 순간 그대로 (그그그)'"
            ]
          },
          "execution_count": 12,
          "metadata": {},
          "output_type": "execute_result"
        }
      ],
      "source": [
        "title = tr.select_one('.ellipsis.rank01').get_text().strip()\n",
        "title"
      ]
    },
    {
      "cell_type": "code",
      "execution_count": 15,
      "metadata": {
        "colab": {
          "base_uri": "https://localhost:8080/",
          "height": 36
        },
        "id": "lusnDjb23qZQ",
        "outputId": "867f5428-09db-4641-a297-494ea4fc5cb0"
      },
      "outputs": [
        {
          "data": {
            "application/vnd.google.colaboratory.intrinsic+json": {
              "type": "string"
            },
            "text/plain": [
              "'WSG워너비 (가야G)'"
            ]
          },
          "execution_count": 15,
          "metadata": {},
          "output_type": "execute_result"
        }
      ],
      "source": [
        "#artist = tr.select_one('.ellipsis.rank02 > a').get_text().strip()\n",
        "artist = tr.select_one('.ellipsis.rank02').find('a').get_text().strip()\n",
        "artist"
      ]
    },
    {
      "cell_type": "code",
      "execution_count": 17,
      "metadata": {
        "colab": {
          "base_uri": "https://localhost:8080/",
          "height": 36
        },
        "id": "31CmEN0L4L-D",
        "outputId": "bf4033be-721b-43d0-e82c-300a9dca2903"
      },
      "outputs": [
        {
          "data": {
            "application/vnd.google.colaboratory.intrinsic+json": {
              "type": "string"
            },
            "text/plain": [
              "'WSG워너비 1집'"
            ]
          },
          "execution_count": 17,
          "metadata": {},
          "output_type": "execute_result"
        }
      ],
      "source": [
        "album = tr.select_one('.ellipsis.rank03').get_text().strip()\n",
        "album"
      ]
    },
    {
      "cell_type": "code",
      "execution_count": 18,
      "metadata": {
        "colab": {
          "base_uri": "https://localhost:8080/"
        },
        "id": "bjCVvAY64zR0",
        "outputId": "76c2e6e2-acd6-420b-a85d-1f69fb70dbf8"
      },
      "outputs": [
        {
          "data": {
            "text/plain": [
              "<span class=\"cnt\">\n",
              "<span class=\"none\">총건수</span>\n",
              "\t\t\t\t\t\t\t\t\t\t\t\t0\n",
              "\t\t\t\t\t\t\t\t\t\t\t</span>"
            ]
          },
          "execution_count": 18,
          "metadata": {},
          "output_type": "execute_result"
        }
      ],
      "source": [
        "like = tr.select_one('.cnt')\n",
        "like\n",
        "#좋아요 수는 js로 만들어져서 Selenium 통해서 가져와야 한다."
      ]
    },
    {
      "cell_type": "markdown",
      "metadata": {
        "id": "cWGaVr8O6MQN"
      },
      "source": [
        "반복문으로 모든 데이터 가져오기"
      ]
    },
    {
      "cell_type": "code",
      "execution_count": 19,
      "metadata": {
        "colab": {
          "base_uri": "https://localhost:8080/"
        },
        "id": "q82inj466Q9-",
        "outputId": "99ec4142-177f-4a90-81b8-d3e478db568b"
      },
      "outputs": [
        {
          "data": {
            "text/plain": [
              "[[1, '그때 그 순간 그대로 (그그그)', 'WSG워너비 (가야G)', 'WSG워너비 1집'],\n",
              " [2, '보고싶었어', 'WSG워너비 (4FIRE)', 'WSG워너비 1집'],\n",
              " [3, 'Attention', 'NewJeans', \"NewJeans 1st EP 'New Jeans'\"],\n",
              " [4, 'LOVE DIVE', 'IVE (아이브)', 'LOVE DIVE'],\n",
              " [5, 'SNEAKERS', 'ITZY (있지)', 'CHECKMATE'],\n",
              " [6, 'POP!', '나연 (TWICE)', 'IM NAYEON'],\n",
              " [7, 'That That (prod. & feat. SUGA of BTS)', '싸이 (PSY)', '싸다9'],\n",
              " [8, '사랑은 늘 도망가', '임영웅', '신사와 아가씨 OST Part.2'],\n",
              " [9, 'TOMBOY', '(여자)아이들', 'I NEVER DIE'],\n",
              " [10, '정이라고 하자 (Feat. 10CM)', 'BIG Naughty (서동현)', '정이라고 하자'],\n",
              " [11, 'Hype boy', 'NewJeans', \"NewJeans 1st EP 'New Jeans'\"],\n",
              " [12, '우리들의 블루스', '임영웅', 'IM HERO'],\n",
              " [13, '그라데이션', '10CM', '5.3'],\n",
              " [14, '나의 X에게', '경서', '나의 X에게'],\n",
              " [15, 'Girls', 'aespa', 'Girls - The 2nd Mini Album'],\n",
              " [16, '사랑인가 봐', '멜로망스', '사랑인가 봐 (사내맞선 OST 스페셜 트랙)'],\n",
              " [17, 'FOREVER 1', \"소녀시대 (GIRLS' GENERATION)\", 'FOREVER 1 - The 7th Album'],\n",
              " [18, '다시 만날 수 있을까', '임영웅', 'IM HERO'],\n",
              " [19, 'Love story', '볼빨간사춘기', 'Seoul'],\n",
              " [20, '도깨비불 (Illusion)', 'aespa', 'Girls - The 2nd Mini Album'],\n",
              " [21, '무지개', '임영웅', 'IM HERO'],\n",
              " [22, '내가 아니라도', '주호', '내가 아니라도'],\n",
              " [23, 'FEARLESS', 'LE SSERAFIM (르세라핌)', 'FEARLESS'],\n",
              " [24, 'LOVE me', \"BE'O (비오)\", 'LOVE me'],\n",
              " [25, '이제 나만 믿어요', '임영웅', '내일은 미스터트롯 우승자 특전곡'],\n",
              " [26, '눈을 감으면', 'WSG워너비', '눈을 감으면'],\n",
              " [27, '아버지', '임영웅', 'IM HERO'],\n",
              " [28, '손이 참 곱던 그대', '임영웅', 'IM HERO'],\n",
              " [29, '봄여름가을겨울 (Still Life)', 'BIGBANG (빅뱅)', '봄여름가을겨울 (Still Life)'],\n",
              " [30, 'A bientot', '임영웅', 'IM HERO'],\n",
              " [31, 'Clink Clink (클링 클링)', 'WSG워너비 (오아시소)', 'WSG워너비 1집'],\n",
              " [32, '사랑해 진짜', '임영웅', 'IM HERO'],\n",
              " [33, '열이올라요 (Heart Burn)', '선미', '열이올라요 (Heart Burn)'],\n",
              " [34, '인생찬가', '임영웅', 'IM HERO'],\n",
              " [35, '취중고백', '김민석 (멜로망스)', '취중고백'],\n",
              " [36, '연애편지', '임영웅', 'IM HERO'],\n",
              " [37, '사랑역', '임영웅', 'IM HERO'],\n",
              " [38, '보금자리', '임영웅', 'IM HERO'],\n",
              " [39, 'ELEVEN', 'IVE (아이브)', 'ELEVEN'],\n",
              " [40, '사랑해요 그대를', '임영웅', 'IM HERO'],\n",
              " [41, \"바보에게 바보가 (웹툰 '연애의 발견' X 이석훈)\", '이석훈', \"바보에게 바보가 (웹툰 '연애의 발견' X 이석훈)\"],\n",
              " [42, 'I LOVE U', 'WINNER', 'HOLIDAY'],\n",
              " [43, '다정히 내 이름을 부르면', '경서예지', '다정히 내 이름을 부르면 (경서예지 x 전건호)'],\n",
              " [44,\n",
              "  'Left and Right (Feat. Jung Kook of BTS)',\n",
              "  'Charlie Puth',\n",
              "  'Left and Right (Feat. Jung Kook of BTS)'],\n",
              " [45, '신호등', '이무진', '신호등'],\n",
              " [46,\n",
              "  'Feel My Rhythm',\n",
              "  'Red Velvet (레드벨벳)',\n",
              "  '‘The ReVe Festival 2022 - Feel My Rhythm’'],\n",
              " [47, 'Yet To Come', '방탄소년단', 'Proof'],\n",
              " [48, '아무래도 난', '주시크 (Joosiq)', '아무래도 난'],\n",
              " [49, '해요 (2022)', '#안녕', '해요 (2022)'],\n",
              " [50, \"That's Hilarious\", 'Charlie Puth', \"That's Hilarious\"],\n",
              " [51, 'Dynamite', '방탄소년단', 'Dynamite (DayTime Version)'],\n",
              " [52, 'Cookie', 'NewJeans', \"NewJeans 1st EP 'New Jeans'\"],\n",
              " [53, 'STAY', 'The Kid LAROI', 'Stay'],\n",
              " [54, '_WORLD', '세븐틴', \"SEVENTEEN 4th Album Repackage ‘SECTOR 17'\"],\n",
              " [55,\n",
              "  \"I Ain't Worried\",\n",
              "  'OneRepublic',\n",
              "  '탑건 : 매버릭 (Top Gun: Maverick) (영화 OST)'],\n",
              " [56, '너의 모든 순간', '성시경', '별에서 온 그대 OST Part.7'],\n",
              " [57, 'MY BAG', '(여자)아이들', 'I NEVER DIE'],\n",
              " [58, 'HOT', '세븐틴', \"SEVENTEEN 4th Album 'Face the Sun'\"],\n",
              " [59, '사랑이야', '케이시 (Kassy)', '사랑이야'],\n",
              " [60, '새벽에 걸려온 너의 전화는', '한동근', '미련을 말하는'],\n",
              " [61, '늦은 밤 헤어지긴 너무 아쉬워', '케이시 (Kassy)', 'LOVE & HATE'],\n",
              " [62, '내 기쁨은 너가 벤틀리를 끄는 거야', '김승민', 'PROTOTYPE RESEARCH #0063'],\n",
              " [63, '듣고 싶을까', 'MSG워너비(M.O.M)', '듣고 싶을까'],\n",
              " [64, 'Sparkling', '청하', 'Bare&Rare Pt.1'],\n",
              " [65, 'Butter', '방탄소년단', 'Butter'],\n",
              " [66, 'GANADARA (Feat. 아이유)', '박재범', 'GANADARA'],\n",
              " [67, 'INVU', '태연 (TAEYEON)', 'INVU - The 3rd Album'],\n",
              " [68, 'BEAUTIFUL MONSTER', 'STAYC(스테이씨)', 'WE NEED LOVE'],\n",
              " [69, 'Weekend', '태연 (TAEYEON)', 'Weekend'],\n",
              " [70, 'Bad Decisions', 'benny blanco', 'Bad Decisions'],\n",
              " [71, 'Permission to Dance', '방탄소년단', 'Butter / Permission to Dance'],\n",
              " [72, 'Next Level', 'aespa', 'Next Level'],\n",
              " [73, '팡파레', '다비치', 'Season Note'],\n",
              " [74, '너를 생각해', '주시크 (Joosiq)', '너를 생각해'],\n",
              " [75, '고백하는 취한밤에 (Prod. 2soo)', '임재현', '고백하는 취한밤에'],\n",
              " [76, 'SMILEY (Feat. BIBI)', 'YENA (최예나)', 'ˣ‿ˣ (SMiLEY)'],\n",
              " [77,\n",
              "  '회전목마 (Feat. Zion.T, 원슈타인) (Prod. Slom)',\n",
              "  'sokodomo',\n",
              "  '쇼미더머니 10 Episode 2'],\n",
              " [78, '바라만 본다', 'MSG워너비(M.O.M)', 'MSG워너비 1집'],\n",
              " [79, '드라마', '아이유', '조각집'],\n",
              " [80, '봄날', '방탄소년단', 'YOU NEVER WALK ALONE'],\n",
              " [81, 'Somebody!', '로꼬', 'Somebody'],\n",
              " [82, '밤하늘의 별을(2020)', '경서', '밤하늘의 별을(2020)'],\n",
              " [83, 'OHAYO MY NIGHT', '디핵 (D-Hack)', 'OHAYO MY NIGHT'],\n",
              " [84, '내 손을 잡아', '아이유', '최고의 사랑 OST Part.4'],\n",
              " [85, '언제나 사랑해', '케이시 (Kassy)', '조영수 리메이크 프로젝트 Part.2'],\n",
              " [86, 'My Universe', 'Coldplay', 'My Universe'],\n",
              " [87, '리무진 (Feat. MINO) (Prod. GRAY)', \"BE'O (비오)\", '쇼미더머니 10 Episode 3'],\n",
              " [88, '그 하루(feat.반하나)', '주호', '그 하루'],\n",
              " [89, '사랑한다고 말해줘', '탑현', '사랑한다고 말해줘'],\n",
              " [90, '미친 것처럼', 'V.O.S', '아픔을 말하는'],\n",
              " [91,\n",
              "  '모든 날, 모든 순간 (Every day, Every Moment)',\n",
              "  '폴킴',\n",
              "  \"'키스 먼저 할까요?' OST Part.3\"],\n",
              " [92, 'With you', '지민', '우리들의 블루스 OST Part 4'],\n",
              " [93, '주마등', '김호중', 'PANORAMA'],\n",
              " [94, 'Off My Face', 'Justin Bieber', 'Justice (The Complete Edition)'],\n",
              " [95, 'strawberry moon', '아이유', 'strawberry moon'],\n",
              " [96, 'Celebrity', '아이유', \"IU 5th Album 'LILAC'\"],\n",
              " [97, '빛이 나는 사람', '김호중', '빛이 나는 사람'],\n",
              " [98, '약속 [約束]', '김호중', 'PANORAMA'],\n",
              " [99, \"롤린 (Rollin')\", '브레이브걸스', \"Rollin'\"],\n",
              " [100, 'ZOOM', '제시 (Jessi)', 'ZOOM']]"
            ]
          },
          "execution_count": 19,
          "metadata": {},
          "output_type": "execute_result"
        }
      ],
      "source": [
        "data = []\n",
        "for tr in trs:\n",
        "    rank = int(tr.select_one('.rank').get_text().strip())\n",
        "    title = tr.select_one('.ellipsis.rank01').get_text().strip()\n",
        "    artist = tr.select_one('.ellipsis.rank02').find('a').get_text().strip()\n",
        "    album = tr.select_one('.ellipsis.rank03').get_text().strip()\n",
        "    data.append([rank, title, artist, album])\n",
        "data"
      ]
    },
    {
      "cell_type": "markdown",
      "metadata": {
        "id": "eXT9UTPf6pbG"
      },
      "source": [
        "데이터 프레임으로 만들어서 저장하기"
      ]
    },
    {
      "cell_type": "code",
      "execution_count": 20,
      "metadata": {
        "colab": {
          "base_uri": "https://localhost:8080/",
          "height": 2259
        },
        "id": "CBJFPlpq6oMM",
        "outputId": "502adcd1-cfb5-4ca7-9d53-f1b17641f3bc"
      },
      "outputs": [
        {
          "data": {
            "text/html": [
              "\n",
              "  <div id=\"df-9f16069d-42ae-44c0-8eac-bc75e6541566\">\n",
              "    <div class=\"colab-df-container\">\n",
              "      <div>\n",
              "<style scoped>\n",
              "    .dataframe tbody tr th:only-of-type {\n",
              "        vertical-align: middle;\n",
              "    }\n",
              "\n",
              "    .dataframe tbody tr th {\n",
              "        vertical-align: top;\n",
              "    }\n",
              "\n",
              "    .dataframe thead th {\n",
              "        text-align: right;\n",
              "    }\n",
              "</style>\n",
              "<table border=\"1\" class=\"dataframe\">\n",
              "  <thead>\n",
              "    <tr style=\"text-align: right;\">\n",
              "      <th></th>\n",
              "      <th>순위</th>\n",
              "      <th>노래제목</th>\n",
              "      <th>가수명</th>\n",
              "      <th>앨범명</th>\n",
              "    </tr>\n",
              "  </thead>\n",
              "  <tbody>\n",
              "    <tr>\n",
              "      <th>0</th>\n",
              "      <td>1</td>\n",
              "      <td>그때 그 순간 그대로 (그그그)</td>\n",
              "      <td>WSG워너비 (가야G)</td>\n",
              "      <td>WSG워너비 1집</td>\n",
              "    </tr>\n",
              "    <tr>\n",
              "      <th>1</th>\n",
              "      <td>2</td>\n",
              "      <td>보고싶었어</td>\n",
              "      <td>WSG워너비 (4FIRE)</td>\n",
              "      <td>WSG워너비 1집</td>\n",
              "    </tr>\n",
              "    <tr>\n",
              "      <th>2</th>\n",
              "      <td>3</td>\n",
              "      <td>Attention</td>\n",
              "      <td>NewJeans</td>\n",
              "      <td>NewJeans 1st EP 'New Jeans'</td>\n",
              "    </tr>\n",
              "    <tr>\n",
              "      <th>3</th>\n",
              "      <td>4</td>\n",
              "      <td>LOVE DIVE</td>\n",
              "      <td>IVE (아이브)</td>\n",
              "      <td>LOVE DIVE</td>\n",
              "    </tr>\n",
              "    <tr>\n",
              "      <th>4</th>\n",
              "      <td>5</td>\n",
              "      <td>SNEAKERS</td>\n",
              "      <td>ITZY (있지)</td>\n",
              "      <td>CHECKMATE</td>\n",
              "    </tr>\n",
              "    <tr>\n",
              "      <th>...</th>\n",
              "      <td>...</td>\n",
              "      <td>...</td>\n",
              "      <td>...</td>\n",
              "      <td>...</td>\n",
              "    </tr>\n",
              "    <tr>\n",
              "      <th>95</th>\n",
              "      <td>96</td>\n",
              "      <td>Celebrity</td>\n",
              "      <td>아이유</td>\n",
              "      <td>IU 5th Album 'LILAC'</td>\n",
              "    </tr>\n",
              "    <tr>\n",
              "      <th>96</th>\n",
              "      <td>97</td>\n",
              "      <td>빛이 나는 사람</td>\n",
              "      <td>김호중</td>\n",
              "      <td>빛이 나는 사람</td>\n",
              "    </tr>\n",
              "    <tr>\n",
              "      <th>97</th>\n",
              "      <td>98</td>\n",
              "      <td>약속 [約束]</td>\n",
              "      <td>김호중</td>\n",
              "      <td>PANORAMA</td>\n",
              "    </tr>\n",
              "    <tr>\n",
              "      <th>98</th>\n",
              "      <td>99</td>\n",
              "      <td>롤린 (Rollin')</td>\n",
              "      <td>브레이브걸스</td>\n",
              "      <td>Rollin'</td>\n",
              "    </tr>\n",
              "    <tr>\n",
              "      <th>99</th>\n",
              "      <td>100</td>\n",
              "      <td>ZOOM</td>\n",
              "      <td>제시 (Jessi)</td>\n",
              "      <td>ZOOM</td>\n",
              "    </tr>\n",
              "  </tbody>\n",
              "</table>\n",
              "<p>100 rows × 4 columns</p>\n",
              "</div>\n",
              "      <button class=\"colab-df-convert\" onclick=\"convertToInteractive('df-9f16069d-42ae-44c0-8eac-bc75e6541566')\"\n",
              "              title=\"Convert this dataframe to an interactive table.\"\n",
              "              style=\"display:none;\">\n",
              "        \n",
              "  <svg xmlns=\"http://www.w3.org/2000/svg\" height=\"24px\"viewBox=\"0 0 24 24\"\n",
              "       width=\"24px\">\n",
              "    <path d=\"M0 0h24v24H0V0z\" fill=\"none\"/>\n",
              "    <path d=\"M18.56 5.44l.94 2.06.94-2.06 2.06-.94-2.06-.94-.94-2.06-.94 2.06-2.06.94zm-11 1L8.5 8.5l.94-2.06 2.06-.94-2.06-.94L8.5 2.5l-.94 2.06-2.06.94zm10 10l.94 2.06.94-2.06 2.06-.94-2.06-.94-.94-2.06-.94 2.06-2.06.94z\"/><path d=\"M17.41 7.96l-1.37-1.37c-.4-.4-.92-.59-1.43-.59-.52 0-1.04.2-1.43.59L10.3 9.45l-7.72 7.72c-.78.78-.78 2.05 0 2.83L4 21.41c.39.39.9.59 1.41.59.51 0 1.02-.2 1.41-.59l7.78-7.78 2.81-2.81c.8-.78.8-2.07 0-2.86zM5.41 20L4 18.59l7.72-7.72 1.47 1.35L5.41 20z\"/>\n",
              "  </svg>\n",
              "      </button>\n",
              "      \n",
              "  <style>\n",
              "    .colab-df-container {\n",
              "      display:flex;\n",
              "      flex-wrap:wrap;\n",
              "      gap: 12px;\n",
              "    }\n",
              "\n",
              "    .colab-df-convert {\n",
              "      background-color: #E8F0FE;\n",
              "      border: none;\n",
              "      border-radius: 50%;\n",
              "      cursor: pointer;\n",
              "      display: none;\n",
              "      fill: #1967D2;\n",
              "      height: 32px;\n",
              "      padding: 0 0 0 0;\n",
              "      width: 32px;\n",
              "    }\n",
              "\n",
              "    .colab-df-convert:hover {\n",
              "      background-color: #E2EBFA;\n",
              "      box-shadow: 0px 1px 2px rgba(60, 64, 67, 0.3), 0px 1px 3px 1px rgba(60, 64, 67, 0.15);\n",
              "      fill: #174EA6;\n",
              "    }\n",
              "\n",
              "    [theme=dark] .colab-df-convert {\n",
              "      background-color: #3B4455;\n",
              "      fill: #D2E3FC;\n",
              "    }\n",
              "\n",
              "    [theme=dark] .colab-df-convert:hover {\n",
              "      background-color: #434B5C;\n",
              "      box-shadow: 0px 1px 3px 1px rgba(0, 0, 0, 0.15);\n",
              "      filter: drop-shadow(0px 1px 2px rgba(0, 0, 0, 0.3));\n",
              "      fill: #FFFFFF;\n",
              "    }\n",
              "  </style>\n",
              "\n",
              "      <script>\n",
              "        const buttonEl =\n",
              "          document.querySelector('#df-9f16069d-42ae-44c0-8eac-bc75e6541566 button.colab-df-convert');\n",
              "        buttonEl.style.display =\n",
              "          google.colab.kernel.accessAllowed ? 'block' : 'none';\n",
              "\n",
              "        async function convertToInteractive(key) {\n",
              "          const element = document.querySelector('#df-9f16069d-42ae-44c0-8eac-bc75e6541566');\n",
              "          const dataTable =\n",
              "            await google.colab.kernel.invokeFunction('convertToInteractive',\n",
              "                                                     [key], {});\n",
              "          if (!dataTable) return;\n",
              "\n",
              "          const docLinkHtml = 'Like what you see? Visit the ' +\n",
              "            '<a target=\"_blank\" href=https://colab.research.google.com/notebooks/data_table.ipynb>data table notebook</a>'\n",
              "            + ' to learn more about interactive tables.';\n",
              "          element.innerHTML = '';\n",
              "          dataTable['output_type'] = 'display_data';\n",
              "          await google.colab.output.renderOutput(dataTable, element);\n",
              "          const docLink = document.createElement('div');\n",
              "          docLink.innerHTML = docLinkHtml;\n",
              "          element.appendChild(docLink);\n",
              "        }\n",
              "      </script>\n",
              "    </div>\n",
              "  </div>\n",
              "  "
            ],
            "text/plain": [
              "     순위               노래제목             가수명                          앨범명\n",
              "0     1  그때 그 순간 그대로 (그그그)    WSG워너비 (가야G)                    WSG워너비 1집\n",
              "1     2              보고싶었어  WSG워너비 (4FIRE)                    WSG워너비 1집\n",
              "2     3          Attention        NewJeans  NewJeans 1st EP 'New Jeans'\n",
              "3     4          LOVE DIVE       IVE (아이브)                    LOVE DIVE\n",
              "4     5           SNEAKERS       ITZY (있지)                    CHECKMATE\n",
              "..  ...                ...             ...                          ...\n",
              "95   96          Celebrity             아이유         IU 5th Album 'LILAC'\n",
              "96   97           빛이 나는 사람             김호중                     빛이 나는 사람\n",
              "97   98            약속 [約束]             김호중                     PANORAMA\n",
              "98   99       롤린 (Rollin')          브레이브걸스                      Rollin'\n",
              "99  100               ZOOM      제시 (Jessi)                         ZOOM\n",
              "\n",
              "[100 rows x 4 columns]"
            ]
          },
          "execution_count": 20,
          "metadata": {},
          "output_type": "execute_result"
        }
      ],
      "source": [
        "import pandas as pd\n",
        "df = pd.DataFrame(data, columns = ['순위','노래제목','가수명','앨범명'])\n",
        "df"
      ]
    },
    {
      "cell_type": "code",
      "execution_count": 22,
      "metadata": {
        "id": "znStRnWE62w0"
      },
      "outputs": [],
      "source": [
        "df.to_csv('멜론차트Top100(2208080948).csv',index= False)"
      ]
    }
  ],
  "metadata": {
    "colab": {
      "name": "0808멜론.ipynb",
      "provenance": []
    },
    "kernelspec": {
      "display_name": "Python 3.9.12 ('base')",
      "language": "python",
      "name": "python3"
    },
    "language_info": {
      "codemirror_mode": {
        "name": "ipython",
        "version": 3
      },
      "file_extension": ".py",
      "mimetype": "text/x-python",
      "name": "python",
      "nbconvert_exporter": "python",
      "pygments_lexer": "ipython3",
      "version": "3.9.12"
    },
    "vscode": {
      "interpreter": {
        "hash": "ff4f85d6e04298634172ac5d8264e7e9b556b95639fe52ebb9425c4d4cba0c9c"
      }
    }
  },
  "nbformat": 4,
  "nbformat_minor": 0
}
